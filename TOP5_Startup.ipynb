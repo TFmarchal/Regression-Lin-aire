{
  "cells":[
    {
      "cell_type":"code",
      "source":[
        "import pandas as pd\n",
        "dataset = pd.read_csv('TP_licornes.csv', sep=';')"
      ],
      "execution_count":151,
      "outputs":[
        
      ],
      "metadata":{
        
      }
    },
    {
      "cell_type":"code",
      "source":[
        "dataset"
      ],
      "execution_count":152,
      "outputs":[
        {
          "data":{
            "text\/html":[
              "<div>\n",
              "<style scoped>\n",
              "    .dataframe tbody tr th:only-of-type {\n",
              "        vertical-align: middle;\n",
              "    }\n",
              "\n",
              "    .dataframe tbody tr th {\n",
              "        vertical-align: top;\n",
              "    }\n",
              "\n",
              "    .dataframe thead th {\n",
              "        text-align: right;\n",
              "    }\n",
              "<\/style>\n",
              "<table border=\"1\" class=\"dataframe\">\n",
              "  <thead>\n",
              "    <tr style=\"text-align: right;\">\n",
              "      <th><\/th>\n",
              "      <th>R&amp;D<\/th>\n",
              "      <th>Administration<\/th>\n",
              "      <th>Marketing<\/th>\n",
              "      <th>villes<\/th>\n",
              "      <th>Profit<\/th>\n",
              "    <\/tr>\n",
              "  <\/thead>\n",
              "  <tbody>\n",
              "    <tr>\n",
              "      <th>0<\/th>\n",
              "      <td>165349.20<\/td>\n",
              "      <td>136897.80<\/td>\n",
              "      <td>471784.10<\/td>\n",
              "      <td>Paris<\/td>\n",
              "      <td>192261.83<\/td>\n",
              "    <\/tr>\n",
              "    <tr>\n",
              "      <th>1<\/th>\n",
              "      <td>162597.70<\/td>\n",
              "      <td>151377.59<\/td>\n",
              "      <td>443898.53<\/td>\n",
              "      <td>Strasbourg<\/td>\n",
              "      <td>191792.06<\/td>\n",
              "    <\/tr>\n",
              "    <tr>\n",
              "      <th>2<\/th>\n",
              "      <td>153441.51<\/td>\n",
              "      <td>101145.55<\/td>\n",
              "      <td>407934.54<\/td>\n",
              "      <td>Lyon<\/td>\n",
              "      <td>191050.39<\/td>\n",
              "    <\/tr>\n",
              "    <tr>\n",
              "      <th>3<\/th>\n",
              "      <td>144372.41<\/td>\n",
              "      <td>118671.85<\/td>\n",
              "      <td>383199.62<\/td>\n",
              "      <td>Paris<\/td>\n",
              "      <td>182901.99<\/td>\n",
              "    <\/tr>\n",
              "    <tr>\n",
              "      <th>4<\/th>\n",
              "      <td>142107.34<\/td>\n",
              "      <td>91391.77<\/td>\n",
              "      <td>366168.42<\/td>\n",
              "      <td>Lyon<\/td>\n",
              "      <td>166187.94<\/td>\n",
              "    <\/tr>\n",
              "    <tr>\n",
              "      <th>5<\/th>\n",
              "      <td>131876.90<\/td>\n",
              "      <td>99814.71<\/td>\n",
              "      <td>362861.36<\/td>\n",
              "      <td>Paris<\/td>\n",
              "      <td>156991.12<\/td>\n",
              "    <\/tr>\n",
              "    <tr>\n",
              "      <th>6<\/th>\n",
              "      <td>134615.46<\/td>\n",
              "      <td>147198.87<\/td>\n",
              "      <td>127716.82<\/td>\n",
              "      <td>Strasbourg<\/td>\n",
              "      <td>156122.51<\/td>\n",
              "    <\/tr>\n",
              "    <tr>\n",
              "      <th>7<\/th>\n",
              "      <td>130298.13<\/td>\n",
              "      <td>145530.06<\/td>\n",
              "      <td>323876.68<\/td>\n",
              "      <td>Lyon<\/td>\n",
              "      <td>155752.60<\/td>\n",
              "    <\/tr>\n",
              "    <tr>\n",
              "      <th>8<\/th>\n",
              "      <td>120542.52<\/td>\n",
              "      <td>148718.95<\/td>\n",
              "      <td>311613.29<\/td>\n",
              "      <td>Paris<\/td>\n",
              "      <td>152211.77<\/td>\n",
              "    <\/tr>\n",
              "    <tr>\n",
              "      <th>9<\/th>\n",
              "      <td>123334.88<\/td>\n",
              "      <td>108679.17<\/td>\n",
              "      <td>304981.62<\/td>\n",
              "      <td>Strasbourg<\/td>\n",
              "      <td>149759.96<\/td>\n",
              "    <\/tr>\n",
              "    <tr>\n",
              "      <th>10<\/th>\n",
              "      <td>101913.08<\/td>\n",
              "      <td>110594.11<\/td>\n",
              "      <td>229160.95<\/td>\n",
              "      <td>Lyon<\/td>\n",
              "      <td>146121.95<\/td>\n",
              "    <\/tr>\n",
              "    <tr>\n",
              "      <th>11<\/th>\n",
              "      <td>100671.96<\/td>\n",
              "      <td>91790.61<\/td>\n",
              "      <td>249744.55<\/td>\n",
              "      <td>Strasbourg<\/td>\n",
              "      <td>144259.40<\/td>\n",
              "    <\/tr>\n",
              "    <tr>\n",
              "      <th>12<\/th>\n",
              "      <td>93863.75<\/td>\n",
              "      <td>127320.38<\/td>\n",
              "      <td>249839.44<\/td>\n",
              "      <td>Lyon<\/td>\n",
              "      <td>141585.52<\/td>\n",
              "    <\/tr>\n",
              "    <tr>\n",
              "      <th>13<\/th>\n",
              "      <td>91992.39<\/td>\n",
              "      <td>135495.07<\/td>\n",
              "      <td>252664.93<\/td>\n",
              "      <td>Strasbourg<\/td>\n",
              "      <td>134307.35<\/td>\n",
              "    <\/tr>\n",
              "    <tr>\n",
              "      <th>14<\/th>\n",
              "      <td>119943.24<\/td>\n",
              "      <td>156547.42<\/td>\n",
              "      <td>256512.92<\/td>\n",
              "      <td>Lyon<\/td>\n",
              "      <td>132602.65<\/td>\n",
              "    <\/tr>\n",
              "    <tr>\n",
              "      <th>15<\/th>\n",
              "      <td>114523.61<\/td>\n",
              "      <td>122616.84<\/td>\n",
              "      <td>261776.23<\/td>\n",
              "      <td>Paris<\/td>\n",
              "      <td>129917.04<\/td>\n",
              "    <\/tr>\n",
              "    <tr>\n",
              "      <th>16<\/th>\n",
              "      <td>78013.11<\/td>\n",
              "      <td>121597.55<\/td>\n",
              "      <td>264346.06<\/td>\n",
              "      <td>Strasbourg<\/td>\n",
              "      <td>126992.93<\/td>\n",
              "    <\/tr>\n",
              "    <tr>\n",
              "      <th>17<\/th>\n",
              "      <td>94657.16<\/td>\n",
              "      <td>145077.58<\/td>\n",
              "      <td>282574.31<\/td>\n",
              "      <td>Paris<\/td>\n",
              "      <td>125370.37<\/td>\n",
              "    <\/tr>\n",
              "    <tr>\n",
              "      <th>18<\/th>\n",
              "      <td>91749.16<\/td>\n",
              "      <td>114175.79<\/td>\n",
              "      <td>294919.57<\/td>\n",
              "      <td>Lyon<\/td>\n",
              "      <td>124266.90<\/td>\n",
              "    <\/tr>\n",
              "    <tr>\n",
              "      <th>19<\/th>\n",
              "      <td>86419.70<\/td>\n",
              "      <td>153514.11<\/td>\n",
              "      <td>0.00<\/td>\n",
              "      <td>Paris<\/td>\n",
              "      <td>122776.86<\/td>\n",
              "    <\/tr>\n",
              "    <tr>\n",
              "      <th>20<\/th>\n",
              "      <td>76253.86<\/td>\n",
              "      <td>113867.30<\/td>\n",
              "      <td>298664.47<\/td>\n",
              "      <td>Strasbourg<\/td>\n",
              "      <td>118474.03<\/td>\n",
              "    <\/tr>\n",
              "    <tr>\n",
              "      <th>21<\/th>\n",
              "      <td>78389.47<\/td>\n",
              "      <td>153773.43<\/td>\n",
              "      <td>299737.29<\/td>\n",
              "      <td>Paris<\/td>\n",
              "      <td>111313.02<\/td>\n",
              "    <\/tr>\n",
              "    <tr>\n",
              "      <th>22<\/th>\n",
              "      <td>73994.56<\/td>\n",
              "      <td>122782.75<\/td>\n",
              "      <td>303319.26<\/td>\n",
              "      <td>Lyon<\/td>\n",
              "      <td>110352.25<\/td>\n",
              "    <\/tr>\n",
              "    <tr>\n",
              "      <th>23<\/th>\n",
              "      <td>67532.53<\/td>\n",
              "      <td>105751.03<\/td>\n",
              "      <td>304768.73<\/td>\n",
              "      <td>Lyon<\/td>\n",
              "      <td>108733.99<\/td>\n",
              "    <\/tr>\n",
              "    <tr>\n",
              "      <th>24<\/th>\n",
              "      <td>77044.01<\/td>\n",
              "      <td>99281.34<\/td>\n",
              "      <td>140574.81<\/td>\n",
              "      <td>Paris<\/td>\n",
              "      <td>108552.04<\/td>\n",
              "    <\/tr>\n",
              "    <tr>\n",
              "      <th>25<\/th>\n",
              "      <td>64664.71<\/td>\n",
              "      <td>139553.16<\/td>\n",
              "      <td>137962.62<\/td>\n",
              "      <td>Strasbourg<\/td>\n",
              "      <td>107404.34<\/td>\n",
              "    <\/tr>\n",
              "    <tr>\n",
              "      <th>26<\/th>\n",
              "      <td>75328.87<\/td>\n",
              "      <td>144135.98<\/td>\n",
              "      <td>134050.07<\/td>\n",
              "      <td>Lyon<\/td>\n",
              "      <td>105733.54<\/td>\n",
              "    <\/tr>\n",
              "    <tr>\n",
              "      <th>27<\/th>\n",
              "      <td>72107.60<\/td>\n",
              "      <td>127864.55<\/td>\n",
              "      <td>353183.81<\/td>\n",
              "      <td>Paris<\/td>\n",
              "      <td>105008.31<\/td>\n",
              "    <\/tr>\n",
              "    <tr>\n",
              "      <th>28<\/th>\n",
              "      <td>66051.52<\/td>\n",
              "      <td>182645.56<\/td>\n",
              "      <td>118148.20<\/td>\n",
              "      <td>Lyon<\/td>\n",
              "      <td>103282.38<\/td>\n",
              "    <\/tr>\n",
              "    <tr>\n",
              "      <th>29<\/th>\n",
              "      <td>65605.48<\/td>\n",
              "      <td>153032.06<\/td>\n",
              "      <td>107138.38<\/td>\n",
              "      <td>Paris<\/td>\n",
              "      <td>101004.64<\/td>\n",
              "    <\/tr>\n",
              "    <tr>\n",
              "      <th>30<\/th>\n",
              "      <td>61994.48<\/td>\n",
              "      <td>115641.28<\/td>\n",
              "      <td>91131.24<\/td>\n",
              "      <td>Lyon<\/td>\n",
              "      <td>99937.59<\/td>\n",
              "    <\/tr>\n",
              "    <tr>\n",
              "      <th>31<\/th>\n",
              "      <td>61136.38<\/td>\n",
              "      <td>152701.92<\/td>\n",
              "      <td>88218.23<\/td>\n",
              "      <td>Paris<\/td>\n",
              "      <td>97483.56<\/td>\n",
              "    <\/tr>\n",
              "    <tr>\n",
              "      <th>32<\/th>\n",
              "      <td>63408.86<\/td>\n",
              "      <td>129219.61<\/td>\n",
              "      <td>46085.25<\/td>\n",
              "      <td>Strasbourg<\/td>\n",
              "      <td>97427.84<\/td>\n",
              "    <\/tr>\n",
              "    <tr>\n",
              "      <th>33<\/th>\n",
              "      <td>55493.95<\/td>\n",
              "      <td>103057.49<\/td>\n",
              "      <td>214634.81<\/td>\n",
              "      <td>Lyon<\/td>\n",
              "      <td>96778.92<\/td>\n",
              "    <\/tr>\n",
              "    <tr>\n",
              "      <th>34<\/th>\n",
              "      <td>46426.07<\/td>\n",
              "      <td>157693.92<\/td>\n",
              "      <td>210797.67<\/td>\n",
              "      <td>Strasbourg<\/td>\n",
              "      <td>96712.80<\/td>\n",
              "    <\/tr>\n",
              "    <tr>\n",
              "      <th>35<\/th>\n",
              "      <td>46014.02<\/td>\n",
              "      <td>85047.44<\/td>\n",
              "      <td>205517.64<\/td>\n",
              "      <td>Paris<\/td>\n",
              "      <td>96479.51<\/td>\n",
              "    <\/tr>\n",
              "    <tr>\n",
              "      <th>36<\/th>\n",
              "      <td>28663.76<\/td>\n",
              "      <td>127056.21<\/td>\n",
              "      <td>201126.82<\/td>\n",
              "      <td>Lyon<\/td>\n",
              "      <td>90708.19<\/td>\n",
              "    <\/tr>\n",
              "    <tr>\n",
              "      <th>37<\/th>\n",
              "      <td>44069.95<\/td>\n",
              "      <td>51283.14<\/td>\n",
              "      <td>197029.42<\/td>\n",
              "      <td>Strasbourg<\/td>\n",
              "      <td>89949.14<\/td>\n",
              "    <\/tr>\n",
              "    <tr>\n",
              "      <th>38<\/th>\n",
              "      <td>20229.59<\/td>\n",
              "      <td>65947.93<\/td>\n",
              "      <td>185265.10<\/td>\n",
              "      <td>Paris<\/td>\n",
              "      <td>81229.06<\/td>\n",
              "    <\/tr>\n",
              "    <tr>\n",
              "      <th>39<\/th>\n",
              "      <td>38558.51<\/td>\n",
              "      <td>82982.09<\/td>\n",
              "      <td>174999.30<\/td>\n",
              "      <td>Strasbourg<\/td>\n",
              "      <td>81005.76<\/td>\n",
              "    <\/tr>\n",
              "    <tr>\n",
              "      <th>40<\/th>\n",
              "      <td>28754.33<\/td>\n",
              "      <td>118546.05<\/td>\n",
              "      <td>172795.67<\/td>\n",
              "      <td>Strasbourg<\/td>\n",
              "      <td>78239.91<\/td>\n",
              "    <\/tr>\n",
              "    <tr>\n",
              "      <th>41<\/th>\n",
              "      <td>27892.92<\/td>\n",
              "      <td>84710.77<\/td>\n",
              "      <td>164470.71<\/td>\n",
              "      <td>Lyon<\/td>\n",
              "      <td>77798.83<\/td>\n",
              "    <\/tr>\n",
              "    <tr>\n",
              "      <th>42<\/th>\n",
              "      <td>23640.93<\/td>\n",
              "      <td>96189.63<\/td>\n",
              "      <td>148001.11<\/td>\n",
              "      <td>Strasbourg<\/td>\n",
              "      <td>71498.49<\/td>\n",
              "    <\/tr>\n",
              "    <tr>\n",
              "      <th>43<\/th>\n",
              "      <td>15505.73<\/td>\n",
              "      <td>127382.30<\/td>\n",
              "      <td>35534.17<\/td>\n",
              "      <td>Paris<\/td>\n",
              "      <td>69758.98<\/td>\n",
              "    <\/tr>\n",
              "    <tr>\n",
              "      <th>44<\/th>\n",
              "      <td>22177.74<\/td>\n",
              "      <td>154806.14<\/td>\n",
              "      <td>28334.72<\/td>\n",
              "      <td>Strasbourg<\/td>\n",
              "      <td>65200.33<\/td>\n",
              "    <\/tr>\n",
              "    <tr>\n",
              "      <th>45<\/th>\n",
              "      <td>1000.23<\/td>\n",
              "      <td>124153.04<\/td>\n",
              "      <td>1903.93<\/td>\n",
              "      <td>Paris<\/td>\n",
              "      <td>64926.08<\/td>\n",
              "    <\/tr>\n",
              "    <tr>\n",
              "      <th>46<\/th>\n",
              "      <td>1315.46<\/td>\n",
              "      <td>115816.21<\/td>\n",
              "      <td>297114.46<\/td>\n",
              "      <td>Lyon<\/td>\n",
              "      <td>49490.75<\/td>\n",
              "    <\/tr>\n",
              "    <tr>\n",
              "      <th>47<\/th>\n",
              "      <td>0.00<\/td>\n",
              "      <td>135426.92<\/td>\n",
              "      <td>0.00<\/td>\n",
              "      <td>Strasbourg<\/td>\n",
              "      <td>42559.73<\/td>\n",
              "    <\/tr>\n",
              "    <tr>\n",
              "      <th>48<\/th>\n",
              "      <td>542.05<\/td>\n",
              "      <td>51743.15<\/td>\n",
              "      <td>0.00<\/td>\n",
              "      <td>Paris<\/td>\n",
              "      <td>35673.41<\/td>\n",
              "    <\/tr>\n",
              "    <tr>\n",
              "      <th>49<\/th>\n",
              "      <td>0.00<\/td>\n",
              "      <td>116983.80<\/td>\n",
              "      <td>45173.06<\/td>\n",
              "      <td>Strasbourg<\/td>\n",
              "      <td>14681.40<\/td>\n",
              "    <\/tr>\n",
              "  <\/tbody>\n",
              "<\/table>\n",
              "<\/div>"
            ]
          },
          "metadata":{
            
          },
          "output_type":"display_data"
        }
      ],
      "metadata":{
        
      }
    },
    {
      "cell_type":"code",
      "source":[
        "dataset.insert(0, 'ID', range(0, 0 + len(dataset)))\n",
        "dataset"
      ],
      "execution_count":153,
      "outputs":[
        {
          "data":{
            "text\/html":[
              "<div>\n",
              "<style scoped>\n",
              "    .dataframe tbody tr th:only-of-type {\n",
              "        vertical-align: middle;\n",
              "    }\n",
              "\n",
              "    .dataframe tbody tr th {\n",
              "        vertical-align: top;\n",
              "    }\n",
              "\n",
              "    .dataframe thead th {\n",
              "        text-align: right;\n",
              "    }\n",
              "<\/style>\n",
              "<table border=\"1\" class=\"dataframe\">\n",
              "  <thead>\n",
              "    <tr style=\"text-align: right;\">\n",
              "      <th><\/th>\n",
              "      <th>ID<\/th>\n",
              "      <th>R&amp;D<\/th>\n",
              "      <th>Administration<\/th>\n",
              "      <th>Marketing<\/th>\n",
              "      <th>villes<\/th>\n",
              "      <th>Profit<\/th>\n",
              "    <\/tr>\n",
              "  <\/thead>\n",
              "  <tbody>\n",
              "    <tr>\n",
              "      <th>0<\/th>\n",
              "      <td>0<\/td>\n",
              "      <td>165349.20<\/td>\n",
              "      <td>136897.80<\/td>\n",
              "      <td>471784.10<\/td>\n",
              "      <td>Paris<\/td>\n",
              "      <td>192261.83<\/td>\n",
              "    <\/tr>\n",
              "    <tr>\n",
              "      <th>1<\/th>\n",
              "      <td>1<\/td>\n",
              "      <td>162597.70<\/td>\n",
              "      <td>151377.59<\/td>\n",
              "      <td>443898.53<\/td>\n",
              "      <td>Strasbourg<\/td>\n",
              "      <td>191792.06<\/td>\n",
              "    <\/tr>\n",
              "    <tr>\n",
              "      <th>2<\/th>\n",
              "      <td>2<\/td>\n",
              "      <td>153441.51<\/td>\n",
              "      <td>101145.55<\/td>\n",
              "      <td>407934.54<\/td>\n",
              "      <td>Lyon<\/td>\n",
              "      <td>191050.39<\/td>\n",
              "    <\/tr>\n",
              "    <tr>\n",
              "      <th>3<\/th>\n",
              "      <td>3<\/td>\n",
              "      <td>144372.41<\/td>\n",
              "      <td>118671.85<\/td>\n",
              "      <td>383199.62<\/td>\n",
              "      <td>Paris<\/td>\n",
              "      <td>182901.99<\/td>\n",
              "    <\/tr>\n",
              "    <tr>\n",
              "      <th>4<\/th>\n",
              "      <td>4<\/td>\n",
              "      <td>142107.34<\/td>\n",
              "      <td>91391.77<\/td>\n",
              "      <td>366168.42<\/td>\n",
              "      <td>Lyon<\/td>\n",
              "      <td>166187.94<\/td>\n",
              "    <\/tr>\n",
              "    <tr>\n",
              "      <th>5<\/th>\n",
              "      <td>5<\/td>\n",
              "      <td>131876.90<\/td>\n",
              "      <td>99814.71<\/td>\n",
              "      <td>362861.36<\/td>\n",
              "      <td>Paris<\/td>\n",
              "      <td>156991.12<\/td>\n",
              "    <\/tr>\n",
              "    <tr>\n",
              "      <th>6<\/th>\n",
              "      <td>6<\/td>\n",
              "      <td>134615.46<\/td>\n",
              "      <td>147198.87<\/td>\n",
              "      <td>127716.82<\/td>\n",
              "      <td>Strasbourg<\/td>\n",
              "      <td>156122.51<\/td>\n",
              "    <\/tr>\n",
              "    <tr>\n",
              "      <th>7<\/th>\n",
              "      <td>7<\/td>\n",
              "      <td>130298.13<\/td>\n",
              "      <td>145530.06<\/td>\n",
              "      <td>323876.68<\/td>\n",
              "      <td>Lyon<\/td>\n",
              "      <td>155752.60<\/td>\n",
              "    <\/tr>\n",
              "    <tr>\n",
              "      <th>8<\/th>\n",
              "      <td>8<\/td>\n",
              "      <td>120542.52<\/td>\n",
              "      <td>148718.95<\/td>\n",
              "      <td>311613.29<\/td>\n",
              "      <td>Paris<\/td>\n",
              "      <td>152211.77<\/td>\n",
              "    <\/tr>\n",
              "    <tr>\n",
              "      <th>9<\/th>\n",
              "      <td>9<\/td>\n",
              "      <td>123334.88<\/td>\n",
              "      <td>108679.17<\/td>\n",
              "      <td>304981.62<\/td>\n",
              "      <td>Strasbourg<\/td>\n",
              "      <td>149759.96<\/td>\n",
              "    <\/tr>\n",
              "    <tr>\n",
              "      <th>10<\/th>\n",
              "      <td>10<\/td>\n",
              "      <td>101913.08<\/td>\n",
              "      <td>110594.11<\/td>\n",
              "      <td>229160.95<\/td>\n",
              "      <td>Lyon<\/td>\n",
              "      <td>146121.95<\/td>\n",
              "    <\/tr>\n",
              "    <tr>\n",
              "      <th>11<\/th>\n",
              "      <td>11<\/td>\n",
              "      <td>100671.96<\/td>\n",
              "      <td>91790.61<\/td>\n",
              "      <td>249744.55<\/td>\n",
              "      <td>Strasbourg<\/td>\n",
              "      <td>144259.40<\/td>\n",
              "    <\/tr>\n",
              "    <tr>\n",
              "      <th>12<\/th>\n",
              "      <td>12<\/td>\n",
              "      <td>93863.75<\/td>\n",
              "      <td>127320.38<\/td>\n",
              "      <td>249839.44<\/td>\n",
              "      <td>Lyon<\/td>\n",
              "      <td>141585.52<\/td>\n",
              "    <\/tr>\n",
              "    <tr>\n",
              "      <th>13<\/th>\n",
              "      <td>13<\/td>\n",
              "      <td>91992.39<\/td>\n",
              "      <td>135495.07<\/td>\n",
              "      <td>252664.93<\/td>\n",
              "      <td>Strasbourg<\/td>\n",
              "      <td>134307.35<\/td>\n",
              "    <\/tr>\n",
              "    <tr>\n",
              "      <th>14<\/th>\n",
              "      <td>14<\/td>\n",
              "      <td>119943.24<\/td>\n",
              "      <td>156547.42<\/td>\n",
              "      <td>256512.92<\/td>\n",
              "      <td>Lyon<\/td>\n",
              "      <td>132602.65<\/td>\n",
              "    <\/tr>\n",
              "    <tr>\n",
              "      <th>15<\/th>\n",
              "      <td>15<\/td>\n",
              "      <td>114523.61<\/td>\n",
              "      <td>122616.84<\/td>\n",
              "      <td>261776.23<\/td>\n",
              "      <td>Paris<\/td>\n",
              "      <td>129917.04<\/td>\n",
              "    <\/tr>\n",
              "    <tr>\n",
              "      <th>16<\/th>\n",
              "      <td>16<\/td>\n",
              "      <td>78013.11<\/td>\n",
              "      <td>121597.55<\/td>\n",
              "      <td>264346.06<\/td>\n",
              "      <td>Strasbourg<\/td>\n",
              "      <td>126992.93<\/td>\n",
              "    <\/tr>\n",
              "    <tr>\n",
              "      <th>17<\/th>\n",
              "      <td>17<\/td>\n",
              "      <td>94657.16<\/td>\n",
              "      <td>145077.58<\/td>\n",
              "      <td>282574.31<\/td>\n",
              "      <td>Paris<\/td>\n",
              "      <td>125370.37<\/td>\n",
              "    <\/tr>\n",
              "    <tr>\n",
              "      <th>18<\/th>\n",
              "      <td>18<\/td>\n",
              "      <td>91749.16<\/td>\n",
              "      <td>114175.79<\/td>\n",
              "      <td>294919.57<\/td>\n",
              "      <td>Lyon<\/td>\n",
              "      <td>124266.90<\/td>\n",
              "    <\/tr>\n",
              "    <tr>\n",
              "      <th>19<\/th>\n",
              "      <td>19<\/td>\n",
              "      <td>86419.70<\/td>\n",
              "      <td>153514.11<\/td>\n",
              "      <td>0.00<\/td>\n",
              "      <td>Paris<\/td>\n",
              "      <td>122776.86<\/td>\n",
              "    <\/tr>\n",
              "    <tr>\n",
              "      <th>20<\/th>\n",
              "      <td>20<\/td>\n",
              "      <td>76253.86<\/td>\n",
              "      <td>113867.30<\/td>\n",
              "      <td>298664.47<\/td>\n",
              "      <td>Strasbourg<\/td>\n",
              "      <td>118474.03<\/td>\n",
              "    <\/tr>\n",
              "    <tr>\n",
              "      <th>21<\/th>\n",
              "      <td>21<\/td>\n",
              "      <td>78389.47<\/td>\n",
              "      <td>153773.43<\/td>\n",
              "      <td>299737.29<\/td>\n",
              "      <td>Paris<\/td>\n",
              "      <td>111313.02<\/td>\n",
              "    <\/tr>\n",
              "    <tr>\n",
              "      <th>22<\/th>\n",
              "      <td>22<\/td>\n",
              "      <td>73994.56<\/td>\n",
              "      <td>122782.75<\/td>\n",
              "      <td>303319.26<\/td>\n",
              "      <td>Lyon<\/td>\n",
              "      <td>110352.25<\/td>\n",
              "    <\/tr>\n",
              "    <tr>\n",
              "      <th>23<\/th>\n",
              "      <td>23<\/td>\n",
              "      <td>67532.53<\/td>\n",
              "      <td>105751.03<\/td>\n",
              "      <td>304768.73<\/td>\n",
              "      <td>Lyon<\/td>\n",
              "      <td>108733.99<\/td>\n",
              "    <\/tr>\n",
              "    <tr>\n",
              "      <th>24<\/th>\n",
              "      <td>24<\/td>\n",
              "      <td>77044.01<\/td>\n",
              "      <td>99281.34<\/td>\n",
              "      <td>140574.81<\/td>\n",
              "      <td>Paris<\/td>\n",
              "      <td>108552.04<\/td>\n",
              "    <\/tr>\n",
              "    <tr>\n",
              "      <th>25<\/th>\n",
              "      <td>25<\/td>\n",
              "      <td>64664.71<\/td>\n",
              "      <td>139553.16<\/td>\n",
              "      <td>137962.62<\/td>\n",
              "      <td>Strasbourg<\/td>\n",
              "      <td>107404.34<\/td>\n",
              "    <\/tr>\n",
              "    <tr>\n",
              "      <th>26<\/th>\n",
              "      <td>26<\/td>\n",
              "      <td>75328.87<\/td>\n",
              "      <td>144135.98<\/td>\n",
              "      <td>134050.07<\/td>\n",
              "      <td>Lyon<\/td>\n",
              "      <td>105733.54<\/td>\n",
              "    <\/tr>\n",
              "    <tr>\n",
              "      <th>27<\/th>\n",
              "      <td>27<\/td>\n",
              "      <td>72107.60<\/td>\n",
              "      <td>127864.55<\/td>\n",
              "      <td>353183.81<\/td>\n",
              "      <td>Paris<\/td>\n",
              "      <td>105008.31<\/td>\n",
              "    <\/tr>\n",
              "    <tr>\n",
              "      <th>28<\/th>\n",
              "      <td>28<\/td>\n",
              "      <td>66051.52<\/td>\n",
              "      <td>182645.56<\/td>\n",
              "      <td>118148.20<\/td>\n",
              "      <td>Lyon<\/td>\n",
              "      <td>103282.38<\/td>\n",
              "    <\/tr>\n",
              "    <tr>\n",
              "      <th>29<\/th>\n",
              "      <td>29<\/td>\n",
              "      <td>65605.48<\/td>\n",
              "      <td>153032.06<\/td>\n",
              "      <td>107138.38<\/td>\n",
              "      <td>Paris<\/td>\n",
              "      <td>101004.64<\/td>\n",
              "    <\/tr>\n",
              "    <tr>\n",
              "      <th>30<\/th>\n",
              "      <td>30<\/td>\n",
              "      <td>61994.48<\/td>\n",
              "      <td>115641.28<\/td>\n",
              "      <td>91131.24<\/td>\n",
              "      <td>Lyon<\/td>\n",
              "      <td>99937.59<\/td>\n",
              "    <\/tr>\n",
              "    <tr>\n",
              "      <th>31<\/th>\n",
              "      <td>31<\/td>\n",
              "      <td>61136.38<\/td>\n",
              "      <td>152701.92<\/td>\n",
              "      <td>88218.23<\/td>\n",
              "      <td>Paris<\/td>\n",
              "      <td>97483.56<\/td>\n",
              "    <\/tr>\n",
              "    <tr>\n",
              "      <th>32<\/th>\n",
              "      <td>32<\/td>\n",
              "      <td>63408.86<\/td>\n",
              "      <td>129219.61<\/td>\n",
              "      <td>46085.25<\/td>\n",
              "      <td>Strasbourg<\/td>\n",
              "      <td>97427.84<\/td>\n",
              "    <\/tr>\n",
              "    <tr>\n",
              "      <th>33<\/th>\n",
              "      <td>33<\/td>\n",
              "      <td>55493.95<\/td>\n",
              "      <td>103057.49<\/td>\n",
              "      <td>214634.81<\/td>\n",
              "      <td>Lyon<\/td>\n",
              "      <td>96778.92<\/td>\n",
              "    <\/tr>\n",
              "    <tr>\n",
              "      <th>34<\/th>\n",
              "      <td>34<\/td>\n",
              "      <td>46426.07<\/td>\n",
              "      <td>157693.92<\/td>\n",
              "      <td>210797.67<\/td>\n",
              "      <td>Strasbourg<\/td>\n",
              "      <td>96712.80<\/td>\n",
              "    <\/tr>\n",
              "    <tr>\n",
              "      <th>35<\/th>\n",
              "      <td>35<\/td>\n",
              "      <td>46014.02<\/td>\n",
              "      <td>85047.44<\/td>\n",
              "      <td>205517.64<\/td>\n",
              "      <td>Paris<\/td>\n",
              "      <td>96479.51<\/td>\n",
              "    <\/tr>\n",
              "    <tr>\n",
              "      <th>36<\/th>\n",
              "      <td>36<\/td>\n",
              "      <td>28663.76<\/td>\n",
              "      <td>127056.21<\/td>\n",
              "      <td>201126.82<\/td>\n",
              "      <td>Lyon<\/td>\n",
              "      <td>90708.19<\/td>\n",
              "    <\/tr>\n",
              "    <tr>\n",
              "      <th>37<\/th>\n",
              "      <td>37<\/td>\n",
              "      <td>44069.95<\/td>\n",
              "      <td>51283.14<\/td>\n",
              "      <td>197029.42<\/td>\n",
              "      <td>Strasbourg<\/td>\n",
              "      <td>89949.14<\/td>\n",
              "    <\/tr>\n",
              "    <tr>\n",
              "      <th>38<\/th>\n",
              "      <td>38<\/td>\n",
              "      <td>20229.59<\/td>\n",
              "      <td>65947.93<\/td>\n",
              "      <td>185265.10<\/td>\n",
              "      <td>Paris<\/td>\n",
              "      <td>81229.06<\/td>\n",
              "    <\/tr>\n",
              "    <tr>\n",
              "      <th>39<\/th>\n",
              "      <td>39<\/td>\n",
              "      <td>38558.51<\/td>\n",
              "      <td>82982.09<\/td>\n",
              "      <td>174999.30<\/td>\n",
              "      <td>Strasbourg<\/td>\n",
              "      <td>81005.76<\/td>\n",
              "    <\/tr>\n",
              "    <tr>\n",
              "      <th>40<\/th>\n",
              "      <td>40<\/td>\n",
              "      <td>28754.33<\/td>\n",
              "      <td>118546.05<\/td>\n",
              "      <td>172795.67<\/td>\n",
              "      <td>Strasbourg<\/td>\n",
              "      <td>78239.91<\/td>\n",
              "    <\/tr>\n",
              "    <tr>\n",
              "      <th>41<\/th>\n",
              "      <td>41<\/td>\n",
              "      <td>27892.92<\/td>\n",
              "      <td>84710.77<\/td>\n",
              "      <td>164470.71<\/td>\n",
              "      <td>Lyon<\/td>\n",
              "      <td>77798.83<\/td>\n",
              "    <\/tr>\n",
              "    <tr>\n",
              "      <th>42<\/th>\n",
              "      <td>42<\/td>\n",
              "      <td>23640.93<\/td>\n",
              "      <td>96189.63<\/td>\n",
              "      <td>148001.11<\/td>\n",
              "      <td>Strasbourg<\/td>\n",
              "      <td>71498.49<\/td>\n",
              "    <\/tr>\n",
              "    <tr>\n",
              "      <th>43<\/th>\n",
              "      <td>43<\/td>\n",
              "      <td>15505.73<\/td>\n",
              "      <td>127382.30<\/td>\n",
              "      <td>35534.17<\/td>\n",
              "      <td>Paris<\/td>\n",
              "      <td>69758.98<\/td>\n",
              "    <\/tr>\n",
              "    <tr>\n",
              "      <th>44<\/th>\n",
              "      <td>44<\/td>\n",
              "      <td>22177.74<\/td>\n",
              "      <td>154806.14<\/td>\n",
              "      <td>28334.72<\/td>\n",
              "      <td>Strasbourg<\/td>\n",
              "      <td>65200.33<\/td>\n",
              "    <\/tr>\n",
              "    <tr>\n",
              "      <th>45<\/th>\n",
              "      <td>45<\/td>\n",
              "      <td>1000.23<\/td>\n",
              "      <td>124153.04<\/td>\n",
              "      <td>1903.93<\/td>\n",
              "      <td>Paris<\/td>\n",
              "      <td>64926.08<\/td>\n",
              "    <\/tr>\n",
              "    <tr>\n",
              "      <th>46<\/th>\n",
              "      <td>46<\/td>\n",
              "      <td>1315.46<\/td>\n",
              "      <td>115816.21<\/td>\n",
              "      <td>297114.46<\/td>\n",
              "      <td>Lyon<\/td>\n",
              "      <td>49490.75<\/td>\n",
              "    <\/tr>\n",
              "    <tr>\n",
              "      <th>47<\/th>\n",
              "      <td>47<\/td>\n",
              "      <td>0.00<\/td>\n",
              "      <td>135426.92<\/td>\n",
              "      <td>0.00<\/td>\n",
              "      <td>Strasbourg<\/td>\n",
              "      <td>42559.73<\/td>\n",
              "    <\/tr>\n",
              "    <tr>\n",
              "      <th>48<\/th>\n",
              "      <td>48<\/td>\n",
              "      <td>542.05<\/td>\n",
              "      <td>51743.15<\/td>\n",
              "      <td>0.00<\/td>\n",
              "      <td>Paris<\/td>\n",
              "      <td>35673.41<\/td>\n",
              "    <\/tr>\n",
              "    <tr>\n",
              "      <th>49<\/th>\n",
              "      <td>49<\/td>\n",
              "      <td>0.00<\/td>\n",
              "      <td>116983.80<\/td>\n",
              "      <td>45173.06<\/td>\n",
              "      <td>Strasbourg<\/td>\n",
              "      <td>14681.40<\/td>\n",
              "    <\/tr>\n",
              "  <\/tbody>\n",
              "<\/table>\n",
              "<\/div>"
            ]
          },
          "metadata":{
            
          },
          "output_type":"display_data"
        }
      ],
      "metadata":{
        
      }
    },
    {
      "cell_type":"markdown",
      "source":[
        
      ],
      "metadata":{
        
      }
    },
    {
      "cell_type":"code",
      "source":[
        "dataset['CA'] = dataset['R&D'] + dataset['Administration'] + dataset['Marketing']\n",
        "dataset['CA'].round(decimals=0)\n",
        "dataset"
      ],
      "execution_count":154,
      "outputs":[
        {
          "data":{
            "text\/html":[
              "<div>\n",
              "<style scoped>\n",
              "    .dataframe tbody tr th:only-of-type {\n",
              "        vertical-align: middle;\n",
              "    }\n",
              "\n",
              "    .dataframe tbody tr th {\n",
              "        vertical-align: top;\n",
              "    }\n",
              "\n",
              "    .dataframe thead th {\n",
              "        text-align: right;\n",
              "    }\n",
              "<\/style>\n",
              "<table border=\"1\" class=\"dataframe\">\n",
              "  <thead>\n",
              "    <tr style=\"text-align: right;\">\n",
              "      <th><\/th>\n",
              "      <th>ID<\/th>\n",
              "      <th>R&amp;D<\/th>\n",
              "      <th>Administration<\/th>\n",
              "      <th>Marketing<\/th>\n",
              "      <th>villes<\/th>\n",
              "      <th>Profit<\/th>\n",
              "      <th>CA<\/th>\n",
              "    <\/tr>\n",
              "  <\/thead>\n",
              "  <tbody>\n",
              "    <tr>\n",
              "      <th>0<\/th>\n",
              "      <td>0<\/td>\n",
              "      <td>165349.20<\/td>\n",
              "      <td>136897.80<\/td>\n",
              "      <td>471784.10<\/td>\n",
              "      <td>Paris<\/td>\n",
              "      <td>192261.83<\/td>\n",
              "      <td>774031.10<\/td>\n",
              "    <\/tr>\n",
              "    <tr>\n",
              "      <th>1<\/th>\n",
              "      <td>1<\/td>\n",
              "      <td>162597.70<\/td>\n",
              "      <td>151377.59<\/td>\n",
              "      <td>443898.53<\/td>\n",
              "      <td>Strasbourg<\/td>\n",
              "      <td>191792.06<\/td>\n",
              "      <td>757873.82<\/td>\n",
              "    <\/tr>\n",
              "    <tr>\n",
              "      <th>2<\/th>\n",
              "      <td>2<\/td>\n",
              "      <td>153441.51<\/td>\n",
              "      <td>101145.55<\/td>\n",
              "      <td>407934.54<\/td>\n",
              "      <td>Lyon<\/td>\n",
              "      <td>191050.39<\/td>\n",
              "      <td>662521.60<\/td>\n",
              "    <\/tr>\n",
              "    <tr>\n",
              "      <th>3<\/th>\n",
              "      <td>3<\/td>\n",
              "      <td>144372.41<\/td>\n",
              "      <td>118671.85<\/td>\n",
              "      <td>383199.62<\/td>\n",
              "      <td>Paris<\/td>\n",
              "      <td>182901.99<\/td>\n",
              "      <td>646243.88<\/td>\n",
              "    <\/tr>\n",
              "    <tr>\n",
              "      <th>4<\/th>\n",
              "      <td>4<\/td>\n",
              "      <td>142107.34<\/td>\n",
              "      <td>91391.77<\/td>\n",
              "      <td>366168.42<\/td>\n",
              "      <td>Lyon<\/td>\n",
              "      <td>166187.94<\/td>\n",
              "      <td>599667.53<\/td>\n",
              "    <\/tr>\n",
              "    <tr>\n",
              "      <th>5<\/th>\n",
              "      <td>5<\/td>\n",
              "      <td>131876.90<\/td>\n",
              "      <td>99814.71<\/td>\n",
              "      <td>362861.36<\/td>\n",
              "      <td>Paris<\/td>\n",
              "      <td>156991.12<\/td>\n",
              "      <td>594552.97<\/td>\n",
              "    <\/tr>\n",
              "    <tr>\n",
              "      <th>6<\/th>\n",
              "      <td>6<\/td>\n",
              "      <td>134615.46<\/td>\n",
              "      <td>147198.87<\/td>\n",
              "      <td>127716.82<\/td>\n",
              "      <td>Strasbourg<\/td>\n",
              "      <td>156122.51<\/td>\n",
              "      <td>409531.15<\/td>\n",
              "    <\/tr>\n",
              "    <tr>\n",
              "      <th>7<\/th>\n",
              "      <td>7<\/td>\n",
              "      <td>130298.13<\/td>\n",
              "      <td>145530.06<\/td>\n",
              "      <td>323876.68<\/td>\n",
              "      <td>Lyon<\/td>\n",
              "      <td>155752.60<\/td>\n",
              "      <td>599704.87<\/td>\n",
              "    <\/tr>\n",
              "    <tr>\n",
              "      <th>8<\/th>\n",
              "      <td>8<\/td>\n",
              "      <td>120542.52<\/td>\n",
              "      <td>148718.95<\/td>\n",
              "      <td>311613.29<\/td>\n",
              "      <td>Paris<\/td>\n",
              "      <td>152211.77<\/td>\n",
              "      <td>580874.76<\/td>\n",
              "    <\/tr>\n",
              "    <tr>\n",
              "      <th>9<\/th>\n",
              "      <td>9<\/td>\n",
              "      <td>123334.88<\/td>\n",
              "      <td>108679.17<\/td>\n",
              "      <td>304981.62<\/td>\n",
              "      <td>Strasbourg<\/td>\n",
              "      <td>149759.96<\/td>\n",
              "      <td>536995.67<\/td>\n",
              "    <\/tr>\n",
              "    <tr>\n",
              "      <th>10<\/th>\n",
              "      <td>10<\/td>\n",
              "      <td>101913.08<\/td>\n",
              "      <td>110594.11<\/td>\n",
              "      <td>229160.95<\/td>\n",
              "      <td>Lyon<\/td>\n",
              "      <td>146121.95<\/td>\n",
              "      <td>441668.14<\/td>\n",
              "    <\/tr>\n",
              "    <tr>\n",
              "      <th>11<\/th>\n",
              "      <td>11<\/td>\n",
              "      <td>100671.96<\/td>\n",
              "      <td>91790.61<\/td>\n",
              "      <td>249744.55<\/td>\n",
              "      <td>Strasbourg<\/td>\n",
              "      <td>144259.40<\/td>\n",
              "      <td>442207.12<\/td>\n",
              "    <\/tr>\n",
              "    <tr>\n",
              "      <th>12<\/th>\n",
              "      <td>12<\/td>\n",
              "      <td>93863.75<\/td>\n",
              "      <td>127320.38<\/td>\n",
              "      <td>249839.44<\/td>\n",
              "      <td>Lyon<\/td>\n",
              "      <td>141585.52<\/td>\n",
              "      <td>471023.57<\/td>\n",
              "    <\/tr>\n",
              "    <tr>\n",
              "      <th>13<\/th>\n",
              "      <td>13<\/td>\n",
              "      <td>91992.39<\/td>\n",
              "      <td>135495.07<\/td>\n",
              "      <td>252664.93<\/td>\n",
              "      <td>Strasbourg<\/td>\n",
              "      <td>134307.35<\/td>\n",
              "      <td>480152.39<\/td>\n",
              "    <\/tr>\n",
              "    <tr>\n",
              "      <th>14<\/th>\n",
              "      <td>14<\/td>\n",
              "      <td>119943.24<\/td>\n",
              "      <td>156547.42<\/td>\n",
              "      <td>256512.92<\/td>\n",
              "      <td>Lyon<\/td>\n",
              "      <td>132602.65<\/td>\n",
              "      <td>533003.58<\/td>\n",
              "    <\/tr>\n",
              "    <tr>\n",
              "      <th>15<\/th>\n",
              "      <td>15<\/td>\n",
              "      <td>114523.61<\/td>\n",
              "      <td>122616.84<\/td>\n",
              "      <td>261776.23<\/td>\n",
              "      <td>Paris<\/td>\n",
              "      <td>129917.04<\/td>\n",
              "      <td>498916.68<\/td>\n",
              "    <\/tr>\n",
              "    <tr>\n",
              "      <th>16<\/th>\n",
              "      <td>16<\/td>\n",
              "      <td>78013.11<\/td>\n",
              "      <td>121597.55<\/td>\n",
              "      <td>264346.06<\/td>\n",
              "      <td>Strasbourg<\/td>\n",
              "      <td>126992.93<\/td>\n",
              "      <td>463956.72<\/td>\n",
              "    <\/tr>\n",
              "    <tr>\n",
              "      <th>17<\/th>\n",
              "      <td>17<\/td>\n",
              "      <td>94657.16<\/td>\n",
              "      <td>145077.58<\/td>\n",
              "      <td>282574.31<\/td>\n",
              "      <td>Paris<\/td>\n",
              "      <td>125370.37<\/td>\n",
              "      <td>522309.05<\/td>\n",
              "    <\/tr>\n",
              "    <tr>\n",
              "      <th>18<\/th>\n",
              "      <td>18<\/td>\n",
              "      <td>91749.16<\/td>\n",
              "      <td>114175.79<\/td>\n",
              "      <td>294919.57<\/td>\n",
              "      <td>Lyon<\/td>\n",
              "      <td>124266.90<\/td>\n",
              "      <td>500844.52<\/td>\n",
              "    <\/tr>\n",
              "    <tr>\n",
              "      <th>19<\/th>\n",
              "      <td>19<\/td>\n",
              "      <td>86419.70<\/td>\n",
              "      <td>153514.11<\/td>\n",
              "      <td>0.00<\/td>\n",
              "      <td>Paris<\/td>\n",
              "      <td>122776.86<\/td>\n",
              "      <td>239933.81<\/td>\n",
              "    <\/tr>\n",
              "    <tr>\n",
              "      <th>20<\/th>\n",
              "      <td>20<\/td>\n",
              "      <td>76253.86<\/td>\n",
              "      <td>113867.30<\/td>\n",
              "      <td>298664.47<\/td>\n",
              "      <td>Strasbourg<\/td>\n",
              "      <td>118474.03<\/td>\n",
              "      <td>488785.63<\/td>\n",
              "    <\/tr>\n",
              "    <tr>\n",
              "      <th>21<\/th>\n",
              "      <td>21<\/td>\n",
              "      <td>78389.47<\/td>\n",
              "      <td>153773.43<\/td>\n",
              "      <td>299737.29<\/td>\n",
              "      <td>Paris<\/td>\n",
              "      <td>111313.02<\/td>\n",
              "      <td>531900.19<\/td>\n",
              "    <\/tr>\n",
              "    <tr>\n",
              "      <th>22<\/th>\n",
              "      <td>22<\/td>\n",
              "      <td>73994.56<\/td>\n",
              "      <td>122782.75<\/td>\n",
              "      <td>303319.26<\/td>\n",
              "      <td>Lyon<\/td>\n",
              "      <td>110352.25<\/td>\n",
              "      <td>500096.57<\/td>\n",
              "    <\/tr>\n",
              "    <tr>\n",
              "      <th>23<\/th>\n",
              "      <td>23<\/td>\n",
              "      <td>67532.53<\/td>\n",
              "      <td>105751.03<\/td>\n",
              "      <td>304768.73<\/td>\n",
              "      <td>Lyon<\/td>\n",
              "      <td>108733.99<\/td>\n",
              "      <td>478052.29<\/td>\n",
              "    <\/tr>\n",
              "    <tr>\n",
              "      <th>24<\/th>\n",
              "      <td>24<\/td>\n",
              "      <td>77044.01<\/td>\n",
              "      <td>99281.34<\/td>\n",
              "      <td>140574.81<\/td>\n",
              "      <td>Paris<\/td>\n",
              "      <td>108552.04<\/td>\n",
              "      <td>316900.16<\/td>\n",
              "    <\/tr>\n",
              "    <tr>\n",
              "      <th>25<\/th>\n",
              "      <td>25<\/td>\n",
              "      <td>64664.71<\/td>\n",
              "      <td>139553.16<\/td>\n",
              "      <td>137962.62<\/td>\n",
              "      <td>Strasbourg<\/td>\n",
              "      <td>107404.34<\/td>\n",
              "      <td>342180.49<\/td>\n",
              "    <\/tr>\n",
              "    <tr>\n",
              "      <th>26<\/th>\n",
              "      <td>26<\/td>\n",
              "      <td>75328.87<\/td>\n",
              "      <td>144135.98<\/td>\n",
              "      <td>134050.07<\/td>\n",
              "      <td>Lyon<\/td>\n",
              "      <td>105733.54<\/td>\n",
              "      <td>353514.92<\/td>\n",
              "    <\/tr>\n",
              "    <tr>\n",
              "      <th>27<\/th>\n",
              "      <td>27<\/td>\n",
              "      <td>72107.60<\/td>\n",
              "      <td>127864.55<\/td>\n",
              "      <td>353183.81<\/td>\n",
              "      <td>Paris<\/td>\n",
              "      <td>105008.31<\/td>\n",
              "      <td>553155.96<\/td>\n",
              "    <\/tr>\n",
              "    <tr>\n",
              "      <th>28<\/th>\n",
              "      <td>28<\/td>\n",
              "      <td>66051.52<\/td>\n",
              "      <td>182645.56<\/td>\n",
              "      <td>118148.20<\/td>\n",
              "      <td>Lyon<\/td>\n",
              "      <td>103282.38<\/td>\n",
              "      <td>366845.28<\/td>\n",
              "    <\/tr>\n",
              "    <tr>\n",
              "      <th>29<\/th>\n",
              "      <td>29<\/td>\n",
              "      <td>65605.48<\/td>\n",
              "      <td>153032.06<\/td>\n",
              "      <td>107138.38<\/td>\n",
              "      <td>Paris<\/td>\n",
              "      <td>101004.64<\/td>\n",
              "      <td>325775.92<\/td>\n",
              "    <\/tr>\n",
              "    <tr>\n",
              "      <th>30<\/th>\n",
              "      <td>30<\/td>\n",
              "      <td>61994.48<\/td>\n",
              "      <td>115641.28<\/td>\n",
              "      <td>91131.24<\/td>\n",
              "      <td>Lyon<\/td>\n",
              "      <td>99937.59<\/td>\n",
              "      <td>268767.00<\/td>\n",
              "    <\/tr>\n",
              "    <tr>\n",
              "      <th>31<\/th>\n",
              "      <td>31<\/td>\n",
              "      <td>61136.38<\/td>\n",
              "      <td>152701.92<\/td>\n",
              "      <td>88218.23<\/td>\n",
              "      <td>Paris<\/td>\n",
              "      <td>97483.56<\/td>\n",
              "      <td>302056.53<\/td>\n",
              "    <\/tr>\n",
              "    <tr>\n",
              "      <th>32<\/th>\n",
              "      <td>32<\/td>\n",
              "      <td>63408.86<\/td>\n",
              "      <td>129219.61<\/td>\n",
              "      <td>46085.25<\/td>\n",
              "      <td>Strasbourg<\/td>\n",
              "      <td>97427.84<\/td>\n",
              "      <td>238713.72<\/td>\n",
              "    <\/tr>\n",
              "    <tr>\n",
              "      <th>33<\/th>\n",
              "      <td>33<\/td>\n",
              "      <td>55493.95<\/td>\n",
              "      <td>103057.49<\/td>\n",
              "      <td>214634.81<\/td>\n",
              "      <td>Lyon<\/td>\n",
              "      <td>96778.92<\/td>\n",
              "      <td>373186.25<\/td>\n",
              "    <\/tr>\n",
              "    <tr>\n",
              "      <th>34<\/th>\n",
              "      <td>34<\/td>\n",
              "      <td>46426.07<\/td>\n",
              "      <td>157693.92<\/td>\n",
              "      <td>210797.67<\/td>\n",
              "      <td>Strasbourg<\/td>\n",
              "      <td>96712.80<\/td>\n",
              "      <td>414917.66<\/td>\n",
              "    <\/tr>\n",
              "    <tr>\n",
              "      <th>35<\/th>\n",
              "      <td>35<\/td>\n",
              "      <td>46014.02<\/td>\n",
              "      <td>85047.44<\/td>\n",
              "      <td>205517.64<\/td>\n",
              "      <td>Paris<\/td>\n",
              "      <td>96479.51<\/td>\n",
              "      <td>336579.10<\/td>\n",
              "    <\/tr>\n",
              "    <tr>\n",
              "      <th>36<\/th>\n",
              "      <td>36<\/td>\n",
              "      <td>28663.76<\/td>\n",
              "      <td>127056.21<\/td>\n",
              "      <td>201126.82<\/td>\n",
              "      <td>Lyon<\/td>\n",
              "      <td>90708.19<\/td>\n",
              "      <td>356846.79<\/td>\n",
              "    <\/tr>\n",
              "    <tr>\n",
              "      <th>37<\/th>\n",
              "      <td>37<\/td>\n",
              "      <td>44069.95<\/td>\n",
              "      <td>51283.14<\/td>\n",
              "      <td>197029.42<\/td>\n",
              "      <td>Strasbourg<\/td>\n",
              "      <td>89949.14<\/td>\n",
              "      <td>292382.51<\/td>\n",
              "    <\/tr>\n",
              "    <tr>\n",
              "      <th>38<\/th>\n",
              "      <td>38<\/td>\n",
              "      <td>20229.59<\/td>\n",
              "      <td>65947.93<\/td>\n",
              "      <td>185265.10<\/td>\n",
              "      <td>Paris<\/td>\n",
              "      <td>81229.06<\/td>\n",
              "      <td>271442.62<\/td>\n",
              "    <\/tr>\n",
              "    <tr>\n",
              "      <th>39<\/th>\n",
              "      <td>39<\/td>\n",
              "      <td>38558.51<\/td>\n",
              "      <td>82982.09<\/td>\n",
              "      <td>174999.30<\/td>\n",
              "      <td>Strasbourg<\/td>\n",
              "      <td>81005.76<\/td>\n",
              "      <td>296539.90<\/td>\n",
              "    <\/tr>\n",
              "    <tr>\n",
              "      <th>40<\/th>\n",
              "      <td>40<\/td>\n",
              "      <td>28754.33<\/td>\n",
              "      <td>118546.05<\/td>\n",
              "      <td>172795.67<\/td>\n",
              "      <td>Strasbourg<\/td>\n",
              "      <td>78239.91<\/td>\n",
              "      <td>320096.05<\/td>\n",
              "    <\/tr>\n",
              "    <tr>\n",
              "      <th>41<\/th>\n",
              "      <td>41<\/td>\n",
              "      <td>27892.92<\/td>\n",
              "      <td>84710.77<\/td>\n",
              "      <td>164470.71<\/td>\n",
              "      <td>Lyon<\/td>\n",
              "      <td>77798.83<\/td>\n",
              "      <td>277074.40<\/td>\n",
              "    <\/tr>\n",
              "    <tr>\n",
              "      <th>42<\/th>\n",
              "      <td>42<\/td>\n",
              "      <td>23640.93<\/td>\n",
              "      <td>96189.63<\/td>\n",
              "      <td>148001.11<\/td>\n",
              "      <td>Strasbourg<\/td>\n",
              "      <td>71498.49<\/td>\n",
              "      <td>267831.67<\/td>\n",
              "    <\/tr>\n",
              "    <tr>\n",
              "      <th>43<\/th>\n",
              "      <td>43<\/td>\n",
              "      <td>15505.73<\/td>\n",
              "      <td>127382.30<\/td>\n",
              "      <td>35534.17<\/td>\n",
              "      <td>Paris<\/td>\n",
              "      <td>69758.98<\/td>\n",
              "      <td>178422.20<\/td>\n",
              "    <\/tr>\n",
              "    <tr>\n",
              "      <th>44<\/th>\n",
              "      <td>44<\/td>\n",
              "      <td>22177.74<\/td>\n",
              "      <td>154806.14<\/td>\n",
              "      <td>28334.72<\/td>\n",
              "      <td>Strasbourg<\/td>\n",
              "      <td>65200.33<\/td>\n",
              "      <td>205318.60<\/td>\n",
              "    <\/tr>\n",
              "    <tr>\n",
              "      <th>45<\/th>\n",
              "      <td>45<\/td>\n",
              "      <td>1000.23<\/td>\n",
              "      <td>124153.04<\/td>\n",
              "      <td>1903.93<\/td>\n",
              "      <td>Paris<\/td>\n",
              "      <td>64926.08<\/td>\n",
              "      <td>127057.20<\/td>\n",
              "    <\/tr>\n",
              "    <tr>\n",
              "      <th>46<\/th>\n",
              "      <td>46<\/td>\n",
              "      <td>1315.46<\/td>\n",
              "      <td>115816.21<\/td>\n",
              "      <td>297114.46<\/td>\n",
              "      <td>Lyon<\/td>\n",
              "      <td>49490.75<\/td>\n",
              "      <td>414246.13<\/td>\n",
              "    <\/tr>\n",
              "    <tr>\n",
              "      <th>47<\/th>\n",
              "      <td>47<\/td>\n",
              "      <td>0.00<\/td>\n",
              "      <td>135426.92<\/td>\n",
              "      <td>0.00<\/td>\n",
              "      <td>Strasbourg<\/td>\n",
              "      <td>42559.73<\/td>\n",
              "      <td>135426.92<\/td>\n",
              "    <\/tr>\n",
              "    <tr>\n",
              "      <th>48<\/th>\n",
              "      <td>48<\/td>\n",
              "      <td>542.05<\/td>\n",
              "      <td>51743.15<\/td>\n",
              "      <td>0.00<\/td>\n",
              "      <td>Paris<\/td>\n",
              "      <td>35673.41<\/td>\n",
              "      <td>52285.20<\/td>\n",
              "    <\/tr>\n",
              "    <tr>\n",
              "      <th>49<\/th>\n",
              "      <td>49<\/td>\n",
              "      <td>0.00<\/td>\n",
              "      <td>116983.80<\/td>\n",
              "      <td>45173.06<\/td>\n",
              "      <td>Strasbourg<\/td>\n",
              "      <td>14681.40<\/td>\n",
              "      <td>162156.86<\/td>\n",
              "    <\/tr>\n",
              "  <\/tbody>\n",
              "<\/table>\n",
              "<\/div>"
            ]
          },
          "metadata":{
            
          },
          "output_type":"display_data"
        }
      ],
      "metadata":{
        
      }
    },
    {
      "cell_type":"code",
      "source":[
        "#Create ID for all START-UP\n",
        "sub_df = dataset.copy()\n",
        "\n",
        " \n",
        "\n",
        "sub_df[\"RATIO\"] = sub_df[\"R&D\"]*100\/sub_df[\"Profit\"]\n",
        "sub_df[[\"RATIO\",\"villes\",\"Profit\",\"Marketing\",\"Administration\",\"R&D\"]].sort_values(by='RATIO',ascending=False).head(5)"
      ],
      "execution_count":155,
      "outputs":[
        {
          "data":{
            "text\/html":[
              "<div>\n",
              "<style scoped>\n",
              "    .dataframe tbody tr th:only-of-type {\n",
              "        vertical-align: middle;\n",
              "    }\n",
              "\n",
              "    .dataframe tbody tr th {\n",
              "        vertical-align: top;\n",
              "    }\n",
              "\n",
              "    .dataframe thead th {\n",
              "        text-align: right;\n",
              "    }\n",
              "<\/style>\n",
              "<table border=\"1\" class=\"dataframe\">\n",
              "  <thead>\n",
              "    <tr style=\"text-align: right;\">\n",
              "      <th><\/th>\n",
              "      <th>RATIO<\/th>\n",
              "      <th>villes<\/th>\n",
              "      <th>Profit<\/th>\n",
              "      <th>Marketing<\/th>\n",
              "      <th>Administration<\/th>\n",
              "      <th>R&amp;D<\/th>\n",
              "    <\/tr>\n",
              "  <\/thead>\n",
              "  <tbody>\n",
              "    <tr>\n",
              "      <th>14<\/th>\n",
              "      <td>90.453124<\/td>\n",
              "      <td>Lyon<\/td>\n",
              "      <td>132602.65<\/td>\n",
              "      <td>256512.92<\/td>\n",
              "      <td>156547.42<\/td>\n",
              "      <td>119943.24<\/td>\n",
              "    <\/tr>\n",
              "    <tr>\n",
              "      <th>15<\/th>\n",
              "      <td>88.151339<\/td>\n",
              "      <td>Paris<\/td>\n",
              "      <td>129917.04<\/td>\n",
              "      <td>261776.23<\/td>\n",
              "      <td>122616.84<\/td>\n",
              "      <td>114523.61<\/td>\n",
              "    <\/tr>\n",
              "    <tr>\n",
              "      <th>6<\/th>\n",
              "      <td>86.224248<\/td>\n",
              "      <td>Strasbourg<\/td>\n",
              "      <td>156122.51<\/td>\n",
              "      <td>127716.82<\/td>\n",
              "      <td>147198.87<\/td>\n",
              "      <td>134615.46<\/td>\n",
              "    <\/tr>\n",
              "    <tr>\n",
              "      <th>0<\/th>\n",
              "      <td>86.002094<\/td>\n",
              "      <td>Paris<\/td>\n",
              "      <td>192261.83<\/td>\n",
              "      <td>471784.10<\/td>\n",
              "      <td>136897.80<\/td>\n",
              "      <td>165349.20<\/td>\n",
              "    <\/tr>\n",
              "    <tr>\n",
              "      <th>4<\/th>\n",
              "      <td>85.510020<\/td>\n",
              "      <td>Lyon<\/td>\n",
              "      <td>166187.94<\/td>\n",
              "      <td>366168.42<\/td>\n",
              "      <td>91391.77<\/td>\n",
              "      <td>142107.34<\/td>\n",
              "    <\/tr>\n",
              "  <\/tbody>\n",
              "<\/table>\n",
              "<\/div>"
            ]
          },
          "metadata":{
            
          },
          "output_type":"display_data"
        }
      ],
      "metadata":{
        
      }
    },
    {
      "cell_type":"code",
      "source":[
        "import numpy as np\n",
        "import matplotlib.pyplot as plt\n",
        "import pandas as pd"
      ],
      "execution_count":156,
      "outputs":[
        
      ],
      "metadata":{
        
      }
    },
    {
      "cell_type":"code",
      "source":[
        "\n",
        "dataset = pd.read_csv('TP_licornes.csv', sep=';')\n",
        "dataset.head(5)"
      ],
      "execution_count":157,
      "outputs":[
        {
          "data":{
            "text\/html":[
              "<div>\n",
              "<style scoped>\n",
              "    .dataframe tbody tr th:only-of-type {\n",
              "        vertical-align: middle;\n",
              "    }\n",
              "\n",
              "    .dataframe tbody tr th {\n",
              "        vertical-align: top;\n",
              "    }\n",
              "\n",
              "    .dataframe thead th {\n",
              "        text-align: right;\n",
              "    }\n",
              "<\/style>\n",
              "<table border=\"1\" class=\"dataframe\">\n",
              "  <thead>\n",
              "    <tr style=\"text-align: right;\">\n",
              "      <th><\/th>\n",
              "      <th>R&amp;D<\/th>\n",
              "      <th>Administration<\/th>\n",
              "      <th>Marketing<\/th>\n",
              "      <th>villes<\/th>\n",
              "      <th>Profit<\/th>\n",
              "    <\/tr>\n",
              "  <\/thead>\n",
              "  <tbody>\n",
              "    <tr>\n",
              "      <th>0<\/th>\n",
              "      <td>165349.20<\/td>\n",
              "      <td>136897.80<\/td>\n",
              "      <td>471784.10<\/td>\n",
              "      <td>Paris<\/td>\n",
              "      <td>192261.83<\/td>\n",
              "    <\/tr>\n",
              "    <tr>\n",
              "      <th>1<\/th>\n",
              "      <td>162597.70<\/td>\n",
              "      <td>151377.59<\/td>\n",
              "      <td>443898.53<\/td>\n",
              "      <td>Strasbourg<\/td>\n",
              "      <td>191792.06<\/td>\n",
              "    <\/tr>\n",
              "    <tr>\n",
              "      <th>2<\/th>\n",
              "      <td>153441.51<\/td>\n",
              "      <td>101145.55<\/td>\n",
              "      <td>407934.54<\/td>\n",
              "      <td>Lyon<\/td>\n",
              "      <td>191050.39<\/td>\n",
              "    <\/tr>\n",
              "    <tr>\n",
              "      <th>3<\/th>\n",
              "      <td>144372.41<\/td>\n",
              "      <td>118671.85<\/td>\n",
              "      <td>383199.62<\/td>\n",
              "      <td>Paris<\/td>\n",
              "      <td>182901.99<\/td>\n",
              "    <\/tr>\n",
              "    <tr>\n",
              "      <th>4<\/th>\n",
              "      <td>142107.34<\/td>\n",
              "      <td>91391.77<\/td>\n",
              "      <td>366168.42<\/td>\n",
              "      <td>Lyon<\/td>\n",
              "      <td>166187.94<\/td>\n",
              "    <\/tr>\n",
              "  <\/tbody>\n",
              "<\/table>\n",
              "<\/div>"
            ]
          },
          "metadata":{
            
          },
          "output_type":"display_data"
        }
      ],
      "metadata":{
        
      }
    },
    {
      "cell_type":"code",
      "source":[
        "X = dataset.iloc[:, :-1].values"
      ],
      "execution_count":158,
      "outputs":[
        
      ],
      "metadata":{
        
      }
    },
    {
      "cell_type":"code",
      "source":[
        "y = dataset.iloc[:, 4].values"
      ],
      "execution_count":159,
      "outputs":[
        
      ],
      "metadata":{
        
      }
    },
    {
      "cell_type":"code",
      "source":[
        "from sklearn.preprocessing import LabelEncoder, OneHotEncoder\n",
        "from sklearn.compose import ColumnTransformer"
      ],
      "execution_count":160,
      "outputs":[
        
      ],
      "metadata":{
        
      }
    },
    {
      "cell_type":"code",
      "source":[
        "labelencoder = LabelEncoder()"
      ],
      "execution_count":161,
      "outputs":[
        
      ],
      "metadata":{
        
      }
    },
    {
      "cell_type":"code",
      "source":[
        "X[:, 3] = labelencoder.fit_transform(X[:, 3])\n",
        "onehotencoder = OneHotEncoder(categorical_features = [3])\n",
        "X = onehotencoder.fit_transform(X).toarray()"
      ],
      "execution_count":162,
      "outputs":[
        {
          "ename":"TypeError",
          "evalue":"TypeError: __init__() got an unexpected keyword argument 'categorical_features'",
          "traceback":[
            "\u001b[0;31m---------------------------------------------------------------------------",
            "Traceback (most recent call last)",
            "    at line 2 in <module>",
            "TypeError: __init__() got an unexpected keyword argument 'categorical_features'"
          ],
          "output_type":"error"
        }
      ],
      "metadata":{
        
      }
    },
    {
      "cell_type":"code",
      "source":[
        "X[:, 3] = labelencoder.fit_transform(X[:, 3])\n",
        "columnTransformer = ColumnTransformer([('encoder', OneHotEncoder(), [0])],     remainder='passthrough')\n",
        "X=np.array(columnTransformer.fit_transform(X),dtype=np.str)"
      ],
      "execution_count":163,
      "outputs":[
        {
          "ename":"ValueError",
          "evalue":"ValueError: setting an array element with a sequence",
          "traceback":[
            "\u001b[0;31m---------------------------------------------------------------------------",
            "Traceback (most recent call last)",
            "    at line 3 in <module>",
            "ValueError: setting an array element with a sequence"
          ],
          "output_type":"error"
        }
      ],
      "metadata":{
        
      }
    },
    {
      "cell_type":"code",
      "source":[
        " from sklearn.preprocessing import OneHotEncoder\n",
        "from sklearn.compose import ColumnTransformer\n",
        "columnTransformer = ColumnTransformer([('encoder', OneHotEncoder(), [0])],     remainder='passthrough')\n",
        "X=np.array(columnTransformer.fit_transform(X),dtype=np.str)"
      ],
      "execution_count":164,
      "outputs":[
        {
          "ename":"ValueError",
          "evalue":"ValueError: setting an array element with a sequence",
          "traceback":[
            "\u001b[0;31m---------------------------------------------------------------------------",
            "Traceback (most recent call last)",
            "    at line 4 in <module>",
            "ValueError: setting an array element with a sequence"
          ],
          "output_type":"error"
        }
      ],
      "metadata":{
        
      }
    },
    {
      "cell_type":"code",
      "source":[
        "X = X[:, 1:]"
      ],
      "execution_count":165,
      "outputs":[
        
      ],
      "metadata":{
        
      }
    },
    {
      "cell_type":"code",
      "source":[
        "from sklearn.model_selection import train_test_split\n",
        "X_train, X_test, y_train, y_test = train_test_split(X, y, test_size = 0.2, random_state = 0)"
      ],
      "execution_count":166,
      "outputs":[
        
      ],
      "metadata":{
        
      }
    },
    {
      "cell_type":"code",
      "source":[
        "from sklearn.linear_model import LinearRegression"
      ],
      "execution_count":167,
      "outputs":[
        
      ],
      "metadata":{
        
      }
    },
    {
      "cell_type":"code",
      "source":[
        "regressor = LinearRegression()"
      ],
      "execution_count":168,
      "outputs":[
        
      ],
      "metadata":{
        
      }
    },
    {
      "cell_type":"code",
      "source":[
        "regressor.fit(X_train, y_train)"
      ],
      "execution_count":169,
      "outputs":[
        {
          "data":{
            "text\/plain":[
              "LinearRegression()"
            ]
          },
          "metadata":{
            
          },
          "output_type":"display_data"
        }
      ],
      "metadata":{
        
      }
    },
    {
      "cell_type":"code",
      "source":[
        "y_pred = regressor.predict(X_test)"
      ],
      "execution_count":170,
      "outputs":[
        
      ],
      "metadata":{
        
      }
    },
    {
      "cell_type":"code",
      "source":[
        "print(y_pred)"
      ],
      "execution_count":171,
      "outputs":[
        {
          "name":"stdout",
          "text":[
            "[112206.70773384 109121.52097961 108212.58838596  81578.30349389\n",
            " 147261.89402246 147455.92615464  80569.08803234  94202.68912887\n",
            " 131284.6273363  133034.81340412]\n"
          ],
          "output_type":"stream"
        }
      ],
      "metadata":{
        
      }
    },
    {
      "cell_type":"code",
      "source":[
        "print(y_test)"
      ],
      "execution_count":172,
      "outputs":[
        {
          "name":"stdout",
          "text":[
            "[103282.38 144259.4  146121.95  77798.83 191050.39 105008.31  81229.06\n",
            "  97483.56 110352.25 166187.94]\n"
          ],
          "output_type":"stream"
        }
      ],
      "metadata":{
        
      }
    },
    {
      "cell_type":"code",
      "source":[
        
      ],
      "execution_count":172,
      "outputs":[
        
      ],
      "metadata":{
        
      }
    },
    {
      "cell_type":"markdown",
      "source":[
        "# 1. Découverte du dataset"
      ],
      "metadata":{
        
      }
    },
    {
      "cell_type":"code",
      "source":[
        "import numpy as np \n",
        "import pandas as pd\n",
        "import matplotlib.pyplot as plt\n",
        "import seaborn as sns\n"
      ],
      "execution_count":173,
      "outputs":[
        
      ],
      "metadata":{
        
      }
    },
    {
      "cell_type":"code",
      "source":[
        "\n",
        "dataset = pd.read_csv('TP_licornes.csv', sep=';')\n",
        "print(dataset.iloc[14])"
      ],
      "execution_count":174,
      "outputs":[
        {
          "name":"stdout",
          "text":[
            "R&D               119943\n",
            "Administration    156547\n",
            "Marketing         256513\n",
            "villes              Lyon\n",
            "Profit            132603\n",
            "Name: 14, dtype: object\n"
          ],
          "output_type":"stream"
        }
      ],
      "metadata":{
        
      }
    },
    {
      "cell_type":"code",
      "source":[
        "\n",
        "dataset.isnull().sum()"
      ],
      "execution_count":175,
      "outputs":[
        {
          "data":{
            "text\/plain":[
              "R&D               0\n",
              "Administration    0\n",
              "Marketing         0\n",
              "villes            0\n",
              "Profit            0\n",
              "dtype: int64"
            ]
          },
          "metadata":{
            
          },
          "output_type":"display_data"
        }
      ],
      "metadata":{
        
      }
    },
    {
      "cell_type":"code",
      "source":[
        "dataset.isna().sum()"
      ],
      "execution_count":176,
      "outputs":[
        {
          "data":{
            "text\/plain":[
              "R&D               0\n",
              "Administration    0\n",
              "Marketing         0\n",
              "villes            0\n",
              "Profit            0\n",
              "dtype: int64"
            ]
          },
          "metadata":{
            
          },
          "output_type":"display_data"
        }
      ],
      "metadata":{
        
      }
    },
    {
      "cell_type":"code",
      "source":[
        "dataset.info()"
      ],
      "execution_count":177,
      "outputs":[
        {
          "name":"stdout",
          "text":[
            "<class 'pandas.core.frame.DataFrame'>\n",
            "RangeIndex: 50 entries, 0 to 49\n",
            "Data columns (total 5 columns):\n",
            " #   Column          Non-Null Count  Dtype  \n",
            "---  ------          --------------  -----  \n",
            " 0   R&D             50 non-null     float64\n",
            " 1   Administration  50 non-null     float64\n",
            " 2   Marketing       50 non-null     float64\n",
            " 3   villes          50 non-null     object \n",
            " 4   Profit          50 non-null     float64\n",
            "dtypes: float64(4), object(1)\n",
            "memory usage: 2.1+ KB\n"
          ],
          "output_type":"stream"
        }
      ],
      "metadata":{
        
      }
    },
    {
      "cell_type":"code",
      "source":[
        "dataset.describe()"
      ],
      "execution_count":178,
      "outputs":[
        {
          "data":{
            "text\/html":[
              "<div>\n",
              "<style scoped>\n",
              "    .dataframe tbody tr th:only-of-type {\n",
              "        vertical-align: middle;\n",
              "    }\n",
              "\n",
              "    .dataframe tbody tr th {\n",
              "        vertical-align: top;\n",
              "    }\n",
              "\n",
              "    .dataframe thead th {\n",
              "        text-align: right;\n",
              "    }\n",
              "<\/style>\n",
              "<table border=\"1\" class=\"dataframe\">\n",
              "  <thead>\n",
              "    <tr style=\"text-align: right;\">\n",
              "      <th><\/th>\n",
              "      <th>R&amp;D<\/th>\n",
              "      <th>Administration<\/th>\n",
              "      <th>Marketing<\/th>\n",
              "      <th>Profit<\/th>\n",
              "    <\/tr>\n",
              "  <\/thead>\n",
              "  <tbody>\n",
              "    <tr>\n",
              "      <th>count<\/th>\n",
              "      <td>50.000000<\/td>\n",
              "      <td>50.000000<\/td>\n",
              "      <td>50.000000<\/td>\n",
              "      <td>50.000000<\/td>\n",
              "    <\/tr>\n",
              "    <tr>\n",
              "      <th>mean<\/th>\n",
              "      <td>73721.615600<\/td>\n",
              "      <td>121344.639600<\/td>\n",
              "      <td>211025.097800<\/td>\n",
              "      <td>112012.639200<\/td>\n",
              "    <\/tr>\n",
              "    <tr>\n",
              "      <th>std<\/th>\n",
              "      <td>45902.256482<\/td>\n",
              "      <td>28017.802755<\/td>\n",
              "      <td>122290.310726<\/td>\n",
              "      <td>40306.180338<\/td>\n",
              "    <\/tr>\n",
              "    <tr>\n",
              "      <th>min<\/th>\n",
              "      <td>0.000000<\/td>\n",
              "      <td>51283.140000<\/td>\n",
              "      <td>0.000000<\/td>\n",
              "      <td>14681.400000<\/td>\n",
              "    <\/tr>\n",
              "    <tr>\n",
              "      <th>25%<\/th>\n",
              "      <td>39936.370000<\/td>\n",
              "      <td>103730.875000<\/td>\n",
              "      <td>129300.132500<\/td>\n",
              "      <td>90138.902500<\/td>\n",
              "    <\/tr>\n",
              "    <tr>\n",
              "      <th>50%<\/th>\n",
              "      <td>73051.080000<\/td>\n",
              "      <td>122699.795000<\/td>\n",
              "      <td>212716.240000<\/td>\n",
              "      <td>107978.190000<\/td>\n",
              "    <\/tr>\n",
              "    <tr>\n",
              "      <th>75%<\/th>\n",
              "      <td>101602.800000<\/td>\n",
              "      <td>144842.180000<\/td>\n",
              "      <td>299469.085000<\/td>\n",
              "      <td>139765.977500<\/td>\n",
              "    <\/tr>\n",
              "    <tr>\n",
              "      <th>max<\/th>\n",
              "      <td>165349.200000<\/td>\n",
              "      <td>182645.560000<\/td>\n",
              "      <td>471784.100000<\/td>\n",
              "      <td>192261.830000<\/td>\n",
              "    <\/tr>\n",
              "  <\/tbody>\n",
              "<\/table>\n",
              "<\/div>"
            ]
          },
          "metadata":{
            
          },
          "output_type":"display_data"
        }
      ],
      "metadata":{
        
      }
    },
    {
      "cell_type":"code",
      "source":[
        "sns.distplot(dataset['R&D'], color = 'green')"
      ],
      "execution_count":179,
      "outputs":[
        {
          "data":{
            "text\/plain":[
              "<AxesSubplot:xlabel='R&D', ylabel='Density'>"
            ],
            "image\/png":"[encoded data removed]"
          },
          "metadata":{
            "image\/png":{
              "width":0,
              "height":0
            }
          },
          "output_type":"display_data"
        }
      ],
      "metadata":{
        
      }
    },
    {
      "cell_type":"code",
      "source":[
        "sns.distplot(dataset['Marketing'], color = 'orange')"
      ],
      "execution_count":180,
      "outputs":[
        {
          "data":{
            "text\/plain":[
              "<AxesSubplot:xlabel='Marketing', ylabel='Density'>"
            ],
            "image\/png":"[encoded data removed]"
          },
          "metadata":{
            "image\/png":{
              "width":0,
              "height":0
            }
          },
          "output_type":"display_data"
        }
      ],
      "metadata":{
        
      }
    },
    {
      "cell_type":"code",
      "source":[
        "sns.distplot(dataset['Administration'], color = 'blue')"
      ],
      "execution_count":181,
      "outputs":[
        {
          "data":{
            "text\/plain":[
              "<AxesSubplot:xlabel='Administration', ylabel='Density'>"
            ],
            "image\/png":"[encoded data removed]"
          },
          "metadata":{
            "image\/png":{
              "width":0,
              "height":0
            }
          },
          "output_type":"display_data"
        }
      ],
      "metadata":{
        
      }
    },
    {
      "cell_type":"code",
      "source":[
        "sns.pairplot(dataset)"
      ],
      "execution_count":182,
      "outputs":[
        {
          "data":{
            "text\/plain":[
              "<seaborn.axisgrid.PairGrid at 0x7f140d7b5110>"
            ],
            "image\/png":"[encoded data removed]"
          },
          "metadata":{
            "image\/png":{
              "width":0,
              "height":0
            }
          },
          "output_type":"display_data"
        }
      ],
      "metadata":{
        
      }
    },
    {
      "cell_type":"code",
      "source":[
        "dataset.corr()"
      ],
      "execution_count":183,
      "outputs":[
        {
          "data":{
            "text\/html":[
              "<div>\n",
              "<style scoped>\n",
              "    .dataframe tbody tr th:only-of-type {\n",
              "        vertical-align: middle;\n",
              "    }\n",
              "\n",
              "    .dataframe tbody tr th {\n",
              "        vertical-align: top;\n",
              "    }\n",
              "\n",
              "    .dataframe thead th {\n",
              "        text-align: right;\n",
              "    }\n",
              "<\/style>\n",
              "<table border=\"1\" class=\"dataframe\">\n",
              "  <thead>\n",
              "    <tr style=\"text-align: right;\">\n",
              "      <th><\/th>\n",
              "      <th>R&amp;D<\/th>\n",
              "      <th>Administration<\/th>\n",
              "      <th>Marketing<\/th>\n",
              "      <th>Profit<\/th>\n",
              "    <\/tr>\n",
              "  <\/thead>\n",
              "  <tbody>\n",
              "    <tr>\n",
              "      <th>R&amp;D<\/th>\n",
              "      <td>1.000000<\/td>\n",
              "      <td>0.241955<\/td>\n",
              "      <td>0.724248<\/td>\n",
              "      <td>0.972900<\/td>\n",
              "    <\/tr>\n",
              "    <tr>\n",
              "      <th>Administration<\/th>\n",
              "      <td>0.241955<\/td>\n",
              "      <td>1.000000<\/td>\n",
              "      <td>-0.032154<\/td>\n",
              "      <td>0.200717<\/td>\n",
              "    <\/tr>\n",
              "    <tr>\n",
              "      <th>Marketing<\/th>\n",
              "      <td>0.724248<\/td>\n",
              "      <td>-0.032154<\/td>\n",
              "      <td>1.000000<\/td>\n",
              "      <td>0.747766<\/td>\n",
              "    <\/tr>\n",
              "    <tr>\n",
              "      <th>Profit<\/th>\n",
              "      <td>0.972900<\/td>\n",
              "      <td>0.200717<\/td>\n",
              "      <td>0.747766<\/td>\n",
              "      <td>1.000000<\/td>\n",
              "    <\/tr>\n",
              "  <\/tbody>\n",
              "<\/table>\n",
              "<\/div>"
            ]
          },
          "metadata":{
            
          },
          "output_type":"display_data"
        }
      ],
      "metadata":{
        
      }
    },
    {
      "cell_type":"markdown",
      "source":[
        "Notes : \n",
        "On observe qu'il y a une forte corrélation entre les coûts R&D et l'influence sur le profit généré.\n",
        "Cette corrélation est également vraie pour le Marketing, cependant l'Administration n'est, d'après ce jeu de donnée, pas correlé au profit.\n",
        "\n",
        "Version imagée :"
      ],
      "metadata":{
        
      }
    },
    {
      "cell_type":"code",
      "source":[
        "sns.heatmap(dataset.corr(), annot = True)"
      ],
      "execution_count":184,
      "outputs":[
        {
          "data":{
            "text\/plain":[
              "<AxesSubplot:>"
            ],
            "image\/png":"[encoded data removed]"
          },
          "metadata":{
            "image\/png":{
              "width":0,
              "height":0
            }
          },
          "output_type":"display_data"
        }
      ],
      "metadata":{
        
      }
    },
    {
      "cell_type":"markdown",
      "source":[
        "# 2. Préparation des données"
      ],
      "metadata":{
        
      }
    },
    {
      "cell_type":"markdown",
      "source":[
        "variables dépendantes = x\n",
        "variables indépendantes = y"
      ],
      "metadata":{
        
      }
    },
    {
      "cell_type":"code",
      "source":[
        "X = dataset.iloc[:,:-1].values\n",
        "\n",
        "y = dataset.iloc[:,4].values"
      ],
      "execution_count":185,
      "outputs":[
        
      ],
      "metadata":{
        
      }
    },
    {
      "cell_type":"code",
      "source":[
        "print(X)"
      ],
      "execution_count":186,
      "outputs":[
        {
          "name":"stdout",
          "text":[
            "[[165349.2 136897.8 471784.1 'Paris']\n",
            " [162597.7 151377.59 443898.53 'Strasbourg']\n",
            " [153441.51 101145.55 407934.54 'Lyon']\n",
            " [144372.41 118671.85 383199.62 'Paris']\n",
            " [142107.34 91391.77 366168.42 'Lyon']\n",
            " [131876.9 99814.71 362861.36 'Paris']\n",
            " [134615.46 147198.87 127716.82 'Strasbourg']\n",
            " [130298.13 145530.06 323876.68 'Lyon']\n",
            " [120542.52 148718.95 311613.29 'Paris']\n",
            " [123334.88 108679.17 304981.62 'Strasbourg']\n",
            " [101913.08 110594.11 229160.95 'Lyon']\n",
            " [100671.96 91790.61 249744.55 'Strasbourg']\n",
            " [93863.75 127320.38 249839.44 'Lyon']\n",
            " [91992.39 135495.07 252664.93 'Strasbourg']\n",
            " [119943.24 156547.42 256512.92 'Lyon']\n",
            " [114523.61 122616.84 261776.23 'Paris']\n",
            " [78013.11 121597.55 264346.06 'Strasbourg']\n",
            " [94657.16 145077.58 282574.31 'Paris']\n",
            " [91749.16 114175.79 294919.57 'Lyon']\n",
            " [86419.7 153514.11 0.0 'Paris']\n",
            " [76253.86 113867.3 298664.47 'Strasbourg']\n",
            " [78389.47 153773.43 299737.29 'Paris']\n",
            " [73994.56 122782.75 303319.26 'Lyon']\n",
            " [67532.53 105751.03 304768.73 'Lyon']\n",
            " [77044.01 99281.34 140574.81 'Paris']\n",
            " [64664.71 139553.16 137962.62 'Strasbourg']\n",
            " [75328.87 144135.98 134050.07 'Lyon']\n",
            " [72107.6 127864.55 353183.81 'Paris']\n",
            " [66051.52 182645.56 118148.2 'Lyon']\n",
            " [65605.48 153032.06 107138.38 'Paris']\n",
            " [61994.48 115641.28 91131.24 'Lyon']\n",
            " [61136.38 152701.92 88218.23 'Paris']\n",
            " [63408.86 129219.61 46085.25 'Strasbourg']\n",
            " [55493.95 103057.49 214634.81 'Lyon']\n",
            " [46426.07 157693.92 210797.67 'Strasbourg']\n",
            " [46014.02 85047.44 205517.64 'Paris']\n",
            " [28663.76 127056.21 201126.82 'Lyon']\n",
            " [44069.95 51283.14 197029.42 'Strasbourg']\n",
            " [20229.59 65947.93 185265.1 'Paris']\n",
            " [38558.51 82982.09 174999.3 'Strasbourg']\n",
            " [28754.33 118546.05 172795.67 'Strasbourg']\n",
            " [27892.92 84710.77 164470.71 'Lyon']\n",
            " [23640.93 96189.63 148001.11 'Strasbourg']\n",
            " [15505.73 127382.3 35534.17 'Paris']\n",
            " [22177.74 154806.14 28334.72 'Strasbourg']\n",
            " [1000.23 124153.04 1903.93 'Paris']\n",
            " [1315.46 115816.21 297114.46 'Lyon']\n",
            " [0.0 135426.92 0.0 'Strasbourg']\n",
            " [542.05 51743.15 0.0 'Paris']\n",
            " [0.0 116983.8 45173.06 'Strasbourg']]\n"
          ],
          "output_type":"stream"
        }
      ],
      "metadata":{
        
      }
    },
    {
      "cell_type":"code",
      "source":[
        "print(y)"
      ],
      "execution_count":187,
      "outputs":[
        {
          "name":"stdout",
          "text":[
            "[192261.83 191792.06 191050.39 182901.99 166187.94 156991.12 156122.51\n",
            " 155752.6  152211.77 149759.96 146121.95 144259.4  141585.52 134307.35\n",
            " 132602.65 129917.04 126992.93 125370.37 124266.9  122776.86 118474.03\n",
            " 111313.02 110352.25 108733.99 108552.04 107404.34 105733.54 105008.31\n",
            " 103282.38 101004.64  99937.59  97483.56  97427.84  96778.92  96712.8\n",
            "  96479.51  90708.19  89949.14  81229.06  81005.76  78239.91  77798.83\n",
            "  71498.49  69758.98  65200.33  64926.08  49490.75  42559.73  35673.41\n",
            "  14681.4 ]\n"
          ],
          "output_type":"stream"
        }
      ],
      "metadata":{
        
      }
    },
    {
      "cell_type":"markdown",
      "source":[
        "Nous avons 4 features dont une catégorique : les villes (string)\n",
        "Il faudrait les transformer en nombre car on ne fait pas de machine learning avec des strings"
      ],
      "metadata":{
        
      }
    },
    {
      "cell_type":"code",
      "source":[
        "from sklearn.preprocessing import LabelEncoder,OneHotEncoder\n",
        "from sklearn.compose import ColumnTransformer\n",
        "\n",
        "# Pas compris pour l'instant\n",
        "labelencoder_X = LabelEncoder()\n",
        "X[:,3] = labelencoder_X.fit_transform(X[:,3])\n",
        "\n",
        "# Travailler sur la variable catégorique \"villes\"\n",
        "ct = ColumnTransformer([(\"villes\", OneHotEncoder(), [3])], remainder = 'passthrough')\n",
        "                                # creating dummy var(for states means 3 diff. column ) \n",
        "X = ct.fit_transform(X)\n",
        "print(X)"
      ],
      "execution_count":188,
      "outputs":[
        {
          "name":"stdout",
          "text":[
            "[[0.0 1.0 0.0 165349.2 136897.8 471784.1]\n",
            " [0.0 0.0 1.0 162597.7 151377.59 443898.53]\n",
            " [1.0 0.0 0.0 153441.51 101145.55 407934.54]\n",
            " [0.0 1.0 0.0 144372.41 118671.85 383199.62]\n",
            " [1.0 0.0 0.0 142107.34 91391.77 366168.42]\n",
            " [0.0 1.0 0.0 131876.9 99814.71 362861.36]\n",
            " [0.0 0.0 1.0 134615.46 147198.87 127716.82]\n",
            " [1.0 0.0 0.0 130298.13 145530.06 323876.68]\n",
            " [0.0 1.0 0.0 120542.52 148718.95 311613.29]\n",
            " [0.0 0.0 1.0 123334.88 108679.17 304981.62]\n",
            " [1.0 0.0 0.0 101913.08 110594.11 229160.95]\n",
            " [0.0 0.0 1.0 100671.96 91790.61 249744.55]\n",
            " [1.0 0.0 0.0 93863.75 127320.38 249839.44]\n",
            " [0.0 0.0 1.0 91992.39 135495.07 252664.93]\n",
            " [1.0 0.0 0.0 119943.24 156547.42 256512.92]\n",
            " [0.0 1.0 0.0 114523.61 122616.84 261776.23]\n",
            " [0.0 0.0 1.0 78013.11 121597.55 264346.06]\n",
            " [0.0 1.0 0.0 94657.16 145077.58 282574.31]\n",
            " [1.0 0.0 0.0 91749.16 114175.79 294919.57]\n",
            " [0.0 1.0 0.0 86419.7 153514.11 0.0]\n",
            " [0.0 0.0 1.0 76253.86 113867.3 298664.47]\n",
            " [0.0 1.0 0.0 78389.47 153773.43 299737.29]\n",
            " [1.0 0.0 0.0 73994.56 122782.75 303319.26]\n",
            " [1.0 0.0 0.0 67532.53 105751.03 304768.73]\n",
            " [0.0 1.0 0.0 77044.01 99281.34 140574.81]\n",
            " [0.0 0.0 1.0 64664.71 139553.16 137962.62]\n",
            " [1.0 0.0 0.0 75328.87 144135.98 134050.07]\n",
            " [0.0 1.0 0.0 72107.6 127864.55 353183.81]\n",
            " [1.0 0.0 0.0 66051.52 182645.56 118148.2]\n",
            " [0.0 1.0 0.0 65605.48 153032.06 107138.38]\n",
            " [1.0 0.0 0.0 61994.48 115641.28 91131.24]\n",
            " [0.0 1.0 0.0 61136.38 152701.92 88218.23]\n",
            " [0.0 0.0 1.0 63408.86 129219.61 46085.25]\n",
            " [1.0 0.0 0.0 55493.95 103057.49 214634.81]\n",
            " [0.0 0.0 1.0 46426.07 157693.92 210797.67]\n",
            " [0.0 1.0 0.0 46014.02 85047.44 205517.64]\n",
            " [1.0 0.0 0.0 28663.76 127056.21 201126.82]\n",
            " [0.0 0.0 1.0 44069.95 51283.14 197029.42]\n",
            " [0.0 1.0 0.0 20229.59 65947.93 185265.1]\n",
            " [0.0 0.0 1.0 38558.51 82982.09 174999.3]\n",
            " [0.0 0.0 1.0 28754.33 118546.05 172795.67]\n",
            " [1.0 0.0 0.0 27892.92 84710.77 164470.71]\n",
            " [0.0 0.0 1.0 23640.93 96189.63 148001.11]\n",
            " [0.0 1.0 0.0 15505.73 127382.3 35534.17]\n",
            " [0.0 0.0 1.0 22177.74 154806.14 28334.72]\n",
            " [0.0 1.0 0.0 1000.23 124153.04 1903.93]\n",
            " [1.0 0.0 0.0 1315.46 115816.21 297114.46]\n",
            " [0.0 0.0 1.0 0.0 135426.92 0.0]\n",
            " [0.0 1.0 0.0 542.05 51743.15 0.0]\n",
            " [0.0 0.0 1.0 0.0 116983.8 45173.06]]\n"
          ],
          "output_type":"stream"
        }
      ],
      "metadata":{
        
      }
    },
    {
      "cell_type":"code",
      "source":[
        "X = X[:,1:]\n",
        "print(X)"
      ],
      "execution_count":189,
      "outputs":[
        {
          "name":"stdout",
          "text":[
            "[[1.0 0.0 165349.2 136897.8 471784.1]\n",
            " [0.0 1.0 162597.7 151377.59 443898.53]\n",
            " [0.0 0.0 153441.51 101145.55 407934.54]\n",
            " [1.0 0.0 144372.41 118671.85 383199.62]\n",
            " [0.0 0.0 142107.34 91391.77 366168.42]\n",
            " [1.0 0.0 131876.9 99814.71 362861.36]\n",
            " [0.0 1.0 134615.46 147198.87 127716.82]\n",
            " [0.0 0.0 130298.13 145530.06 323876.68]\n",
            " [1.0 0.0 120542.52 148718.95 311613.29]\n",
            " [0.0 1.0 123334.88 108679.17 304981.62]\n",
            " [0.0 0.0 101913.08 110594.11 229160.95]\n",
            " [0.0 1.0 100671.96 91790.61 249744.55]\n",
            " [0.0 0.0 93863.75 127320.38 249839.44]\n",
            " [0.0 1.0 91992.39 135495.07 252664.93]\n",
            " [0.0 0.0 119943.24 156547.42 256512.92]\n",
            " [1.0 0.0 114523.61 122616.84 261776.23]\n",
            " [0.0 1.0 78013.11 121597.55 264346.06]\n",
            " [1.0 0.0 94657.16 145077.58 282574.31]\n",
            " [0.0 0.0 91749.16 114175.79 294919.57]\n",
            " [1.0 0.0 86419.7 153514.11 0.0]\n",
            " [0.0 1.0 76253.86 113867.3 298664.47]\n",
            " [1.0 0.0 78389.47 153773.43 299737.29]\n",
            " [0.0 0.0 73994.56 122782.75 303319.26]\n",
            " [0.0 0.0 67532.53 105751.03 304768.73]\n",
            " [1.0 0.0 77044.01 99281.34 140574.81]\n",
            " [0.0 1.0 64664.71 139553.16 137962.62]\n",
            " [0.0 0.0 75328.87 144135.98 134050.07]\n",
            " [1.0 0.0 72107.6 127864.55 353183.81]\n",
            " [0.0 0.0 66051.52 182645.56 118148.2]\n",
            " [1.0 0.0 65605.48 153032.06 107138.38]\n",
            " [0.0 0.0 61994.48 115641.28 91131.24]\n",
            " [1.0 0.0 61136.38 152701.92 88218.23]\n",
            " [0.0 1.0 63408.86 129219.61 46085.25]\n",
            " [0.0 0.0 55493.95 103057.49 214634.81]\n",
            " [0.0 1.0 46426.07 157693.92 210797.67]\n",
            " [1.0 0.0 46014.02 85047.44 205517.64]\n",
            " [0.0 0.0 28663.76 127056.21 201126.82]\n",
            " [0.0 1.0 44069.95 51283.14 197029.42]\n",
            " [1.0 0.0 20229.59 65947.93 185265.1]\n",
            " [0.0 1.0 38558.51 82982.09 174999.3]\n",
            " [0.0 1.0 28754.33 118546.05 172795.67]\n",
            " [0.0 0.0 27892.92 84710.77 164470.71]\n",
            " [0.0 1.0 23640.93 96189.63 148001.11]\n",
            " [1.0 0.0 15505.73 127382.3 35534.17]\n",
            " [0.0 1.0 22177.74 154806.14 28334.72]\n",
            " [1.0 0.0 1000.23 124153.04 1903.93]\n",
            " [0.0 0.0 1315.46 115816.21 297114.46]\n",
            " [0.0 1.0 0.0 135426.92 0.0]\n",
            " [1.0 0.0 542.05 51743.15 0.0]\n",
            " [0.0 1.0 0.0 116983.8 45173.06]]\n"
          ],
          "output_type":"stream"
        }
      ],
      "metadata":{
        
      }
    },
    {
      "cell_type":"code",
      "source":[
        "X = X[:,1:]\n",
        "print(X)"
      ],
      "execution_count":190,
      "outputs":[
        {
          "name":"stdout",
          "text":[
            "[[0.0 165349.2 136897.8 471784.1]\n",
            " [1.0 162597.7 151377.59 443898.53]\n",
            " [0.0 153441.51 101145.55 407934.54]\n",
            " [0.0 144372.41 118671.85 383199.62]\n",
            " [0.0 142107.34 91391.77 366168.42]\n",
            " [0.0 131876.9 99814.71 362861.36]\n",
            " [1.0 134615.46 147198.87 127716.82]\n",
            " [0.0 130298.13 145530.06 323876.68]\n",
            " [0.0 120542.52 148718.95 311613.29]\n",
            " [1.0 123334.88 108679.17 304981.62]\n",
            " [0.0 101913.08 110594.11 229160.95]\n",
            " [1.0 100671.96 91790.61 249744.55]\n",
            " [0.0 93863.75 127320.38 249839.44]\n",
            " [1.0 91992.39 135495.07 252664.93]\n",
            " [0.0 119943.24 156547.42 256512.92]\n",
            " [0.0 114523.61 122616.84 261776.23]\n",
            " [1.0 78013.11 121597.55 264346.06]\n",
            " [0.0 94657.16 145077.58 282574.31]\n",
            " [0.0 91749.16 114175.79 294919.57]\n",
            " [0.0 86419.7 153514.11 0.0]\n",
            " [1.0 76253.86 113867.3 298664.47]\n",
            " [0.0 78389.47 153773.43 299737.29]\n",
            " [0.0 73994.56 122782.75 303319.26]\n",
            " [0.0 67532.53 105751.03 304768.73]\n",
            " [0.0 77044.01 99281.34 140574.81]\n",
            " [1.0 64664.71 139553.16 137962.62]\n",
            " [0.0 75328.87 144135.98 134050.07]\n",
            " [0.0 72107.6 127864.55 353183.81]\n",
            " [0.0 66051.52 182645.56 118148.2]\n",
            " [0.0 65605.48 153032.06 107138.38]\n",
            " [0.0 61994.48 115641.28 91131.24]\n",
            " [0.0 61136.38 152701.92 88218.23]\n",
            " [1.0 63408.86 129219.61 46085.25]\n",
            " [0.0 55493.95 103057.49 214634.81]\n",
            " [1.0 46426.07 157693.92 210797.67]\n",
            " [0.0 46014.02 85047.44 205517.64]\n",
            " [0.0 28663.76 127056.21 201126.82]\n",
            " [1.0 44069.95 51283.14 197029.42]\n",
            " [0.0 20229.59 65947.93 185265.1]\n",
            " [1.0 38558.51 82982.09 174999.3]\n",
            " [1.0 28754.33 118546.05 172795.67]\n",
            " [0.0 27892.92 84710.77 164470.71]\n",
            " [1.0 23640.93 96189.63 148001.11]\n",
            " [0.0 15505.73 127382.3 35534.17]\n",
            " [1.0 22177.74 154806.14 28334.72]\n",
            " [0.0 1000.23 124153.04 1903.93]\n",
            " [0.0 1315.46 115816.21 297114.46]\n",
            " [1.0 0.0 135426.92 0.0]\n",
            " [0.0 542.05 51743.15 0.0]\n",
            " [1.0 0.0 116983.8 45173.06]]\n"
          ],
          "output_type":"stream"
        }
      ],
      "metadata":{
        
      }
    },
    {
      "cell_type":"code",
      "source":[
        "from sklearn.model_selection import train_test_split\n",
        "X_train,X_test, y_train, y_test = train_test_split(X,y,test_size = 1\/3, random_state = 0)"
      ],
      "execution_count":191,
      "outputs":[
        
      ],
      "metadata":{
        
      }
    },
    {
      "cell_type":"markdown",
      "source":[
        "# 3. Création du modèle"
      ],
      "metadata":{
        
      }
    },
    {
      "cell_type":"code",
      "source":[
        "from sklearn.linear_model import LinearRegression\n",
        "regressor = LinearRegression()\n",
        "regressor.fit(X_train, y_train)"
      ],
      "execution_count":192,
      "outputs":[
        {
          "data":{
            "text\/plain":[
              "LinearRegression()"
            ]
          },
          "metadata":{
            
          },
          "output_type":"display_data"
        }
      ],
      "metadata":{
        
      }
    },
    {
      "cell_type":"markdown",
      "source":[
        "# 4. Prédictions"
      ],
      "metadata":{
        
      }
    },
    {
      "cell_type":"code",
      "source":[
        "y_pred = regressor.predict(X_test)"
      ],
      "execution_count":193,
      "outputs":[
        
      ],
      "metadata":{
        
      }
    },
    {
      "cell_type":"code",
      "source":[
        "print(regressor.score(X_train, y_train))\n",
        "print(regressor.score(X_test,y_test))"
      ],
      "execution_count":194,
      "outputs":[
        {
          "name":"stdout",
          "text":[
            "0.9556987790239491\n",
            "0.9101115409507107\n"
          ],
          "output_type":"stream"
        }
      ],
      "metadata":{
        
      }
    },
    {
      "cell_type":"markdown",
      "source":[
        "# 5. Chercher le meilleur modèle"
      ],
      "metadata":{
        
      }
    },
    {
      "cell_type":"markdown",
      "source":[
        "# 5.1 Backward Elimination "
      ],
      "metadata":{
        
      }
    },
    {
      "cell_type":"code",
      "source":[
        "import statsmodels.api as sm\n",
        "# (bydefault it's not take constant(thetas 0 ,we have to put theta_0 * X0 = 1\n",
        "# that's why we are creating col. of 1's and trying to put in the starting of X)\n",
        "X = np.append(arr  = np.ones((50,1)).astype(int),values = X, axis = 1)# we are adding 1 extra col. in the starting  of X\n",
        "print(X)"
      ],
      "execution_count":195,
      "outputs":[
        {
          "name":"stdout",
          "text":[
            "[[1 0.0 165349.2 136897.8 471784.1]\n",
            " [1 1.0 162597.7 151377.59 443898.53]\n",
            " [1 0.0 153441.51 101145.55 407934.54]\n",
            " [1 0.0 144372.41 118671.85 383199.62]\n",
            " [1 0.0 142107.34 91391.77 366168.42]\n",
            " [1 0.0 131876.9 99814.71 362861.36]\n",
            " [1 1.0 134615.46 147198.87 127716.82]\n",
            " [1 0.0 130298.13 145530.06 323876.68]\n",
            " [1 0.0 120542.52 148718.95 311613.29]\n",
            " [1 1.0 123334.88 108679.17 304981.62]\n",
            " [1 0.0 101913.08 110594.11 229160.95]\n",
            " [1 1.0 100671.96 91790.61 249744.55]\n",
            " [1 0.0 93863.75 127320.38 249839.44]\n",
            " [1 1.0 91992.39 135495.07 252664.93]\n",
            " [1 0.0 119943.24 156547.42 256512.92]\n",
            " [1 0.0 114523.61 122616.84 261776.23]\n",
            " [1 1.0 78013.11 121597.55 264346.06]\n",
            " [1 0.0 94657.16 145077.58 282574.31]\n",
            " [1 0.0 91749.16 114175.79 294919.57]\n",
            " [1 0.0 86419.7 153514.11 0.0]\n",
            " [1 1.0 76253.86 113867.3 298664.47]\n",
            " [1 0.0 78389.47 153773.43 299737.29]\n",
            " [1 0.0 73994.56 122782.75 303319.26]\n",
            " [1 0.0 67532.53 105751.03 304768.73]\n",
            " [1 0.0 77044.01 99281.34 140574.81]\n",
            " [1 1.0 64664.71 139553.16 137962.62]\n",
            " [1 0.0 75328.87 144135.98 134050.07]\n",
            " [1 0.0 72107.6 127864.55 353183.81]\n",
            " [1 0.0 66051.52 182645.56 118148.2]\n",
            " [1 0.0 65605.48 153032.06 107138.38]\n",
            " [1 0.0 61994.48 115641.28 91131.24]\n",
            " [1 0.0 61136.38 152701.92 88218.23]\n",
            " [1 1.0 63408.86 129219.61 46085.25]\n",
            " [1 0.0 55493.95 103057.49 214634.81]\n",
            " [1 1.0 46426.07 157693.92 210797.67]\n",
            " [1 0.0 46014.02 85047.44 205517.64]\n",
            " [1 0.0 28663.76 127056.21 201126.82]\n",
            " [1 1.0 44069.95 51283.14 197029.42]\n",
            " [1 0.0 20229.59 65947.93 185265.1]\n",
            " [1 1.0 38558.51 82982.09 174999.3]\n",
            " [1 1.0 28754.33 118546.05 172795.67]\n",
            " [1 0.0 27892.92 84710.77 164470.71]\n",
            " [1 1.0 23640.93 96189.63 148001.11]\n",
            " [1 0.0 15505.73 127382.3 35534.17]\n",
            " [1 1.0 22177.74 154806.14 28334.72]\n",
            " [1 0.0 1000.23 124153.04 1903.93]\n",
            " [1 0.0 1315.46 115816.21 297114.46]\n",
            " [1 1.0 0.0 135426.92 0.0]\n",
            " [1 0.0 542.05 51743.15 0.0]\n",
            " [1 1.0 0.0 116983.8 45173.06]]\n"
          ],
          "output_type":"stream"
        }
      ],
      "metadata":{
        
      }
    },
    {
      "cell_type":"code",
      "source":[
        "X_opt =X[:, [0,1,2,3,4,5]].astype(float)\n",
        "regressor_OLS = sm.OLS(y,X_opt).fit()  \n",
        "regressor_OLS.summary()"
      ],
      "execution_count":196,
      "outputs":[
        {
          "ename":"IndexError",
          "evalue":"IndexError: index 5 is out of bounds for axis 1 with size 5",
          "traceback":[
            "\u001b[0;31m---------------------------------------------------------------------------",
            "Traceback (most recent call last)",
            "    at line 1 in <module>",
            "IndexError: index 5 is out of bounds for axis 1 with size 5"
          ],
          "output_type":"error"
        }
      ],
      "metadata":{
        
      }
    },
    {
      "cell_type":"code",
      "source":[
        "regressor.coeff()"
      ],
      "execution_count":197,
      "outputs":[
        {
          "ename":"AttributeError",
          "evalue":"AttributeError: 'LinearRegression' object has no attribute 'coeff'",
          "traceback":[
            "\u001b[0;31m---------------------------------------------------------------------------",
            "Traceback (most recent call last)",
            "    at line 1 in <module>",
            "AttributeError: 'LinearRegression' object has no attribute 'coeff'"
          ],
          "output_type":"error"
        }
      ],
      "metadata":{
        
      }
    },
    {
      "cell_type":"code",
      "source":[
        "#Create ID for all START-UP\n",
        "sub_df = dataset.copy()\n",
        "\n",
        " \n",
        "\n",
        "sub_df[\"RATIO\"] = sub_df[\"R&D\"]*100\/sub_df[\"Profit\"]\n",
        "sub_df[[\"RATIO\",\"villes\",\"Profit\",\"Marketing\",\"Administration\",\"R&D\"]].sort_values(by='RATIO',ascending=False).head(5)"
      ],
      "execution_count":198,
      "outputs":[
        {
          "data":{
            "text\/html":[
              "<div>\n",
              "<style scoped>\n",
              "    .dataframe tbody tr th:only-of-type {\n",
              "        vertical-align: middle;\n",
              "    }\n",
              "\n",
              "    .dataframe tbody tr th {\n",
              "        vertical-align: top;\n",
              "    }\n",
              "\n",
              "    .dataframe thead th {\n",
              "        text-align: right;\n",
              "    }\n",
              "<\/style>\n",
              "<table border=\"1\" class=\"dataframe\">\n",
              "  <thead>\n",
              "    <tr style=\"text-align: right;\">\n",
              "      <th><\/th>\n",
              "      <th>RATIO<\/th>\n",
              "      <th>villes<\/th>\n",
              "      <th>Profit<\/th>\n",
              "      <th>Marketing<\/th>\n",
              "      <th>Administration<\/th>\n",
              "      <th>R&amp;D<\/th>\n",
              "    <\/tr>\n",
              "  <\/thead>\n",
              "  <tbody>\n",
              "    <tr>\n",
              "      <th>14<\/th>\n",
              "      <td>90.453124<\/td>\n",
              "      <td>Lyon<\/td>\n",
              "      <td>132602.65<\/td>\n",
              "      <td>256512.92<\/td>\n",
              "      <td>156547.42<\/td>\n",
              "      <td>119943.24<\/td>\n",
              "    <\/tr>\n",
              "    <tr>\n",
              "      <th>15<\/th>\n",
              "      <td>88.151339<\/td>\n",
              "      <td>Paris<\/td>\n",
              "      <td>129917.04<\/td>\n",
              "      <td>261776.23<\/td>\n",
              "      <td>122616.84<\/td>\n",
              "      <td>114523.61<\/td>\n",
              "    <\/tr>\n",
              "    <tr>\n",
              "      <th>6<\/th>\n",
              "      <td>86.224248<\/td>\n",
              "      <td>Strasbourg<\/td>\n",
              "      <td>156122.51<\/td>\n",
              "      <td>127716.82<\/td>\n",
              "      <td>147198.87<\/td>\n",
              "      <td>134615.46<\/td>\n",
              "    <\/tr>\n",
              "    <tr>\n",
              "      <th>0<\/th>\n",
              "      <td>86.002094<\/td>\n",
              "      <td>Paris<\/td>\n",
              "      <td>192261.83<\/td>\n",
              "      <td>471784.10<\/td>\n",
              "      <td>136897.80<\/td>\n",
              "      <td>165349.20<\/td>\n",
              "    <\/tr>\n",
              "    <tr>\n",
              "      <th>4<\/th>\n",
              "      <td>85.510020<\/td>\n",
              "      <td>Lyon<\/td>\n",
              "      <td>166187.94<\/td>\n",
              "      <td>366168.42<\/td>\n",
              "      <td>91391.77<\/td>\n",
              "      <td>142107.34<\/td>\n",
              "    <\/tr>\n",
              "  <\/tbody>\n",
              "<\/table>\n",
              "<\/div>"
            ]
          },
          "metadata":{
            
          },
          "output_type":"display_data"
        }
      ],
      "metadata":{
        
      }
    },
    {
      "cell_type":"markdown",
      "source":[
        "# 1. Introduction"
      ],
      "metadata":{
        
      }
    },
    {
      "cell_type":"markdown",
      "source":[
        "Selon un jeu de données fourni par la société cliente (BPI) nous sommes missionnés d'identifier 5 startups qui sortiraient du lot de par leur potentiel. Il convient alors d'établir un modèle suivant l'évolution du profit de ces startups. Dans cette étude, nous allons tester les paramètres qui nous sont données entre eux afin de prédire au mieux possible un profit théorique d'une startup dont on ne connait pas encore les investissements."
      ],
      "metadata":{
        
      }
    },
    {
      "cell_type":"markdown",
      "source":[
        "#  2. Découverte du dataset"
      ],
      "metadata":{
        
      }
    },
    {
      "cell_type":"markdown",
      "source":[
        "##  2.1 Survoler nos données"
      ],
      "metadata":{
        
      }
    },
    {
      "cell_type":"code",
      "source":[
        "#import des principales librairies utilisées tout au long de ce notebook\n",
        "\n",
        "import numpy as np #data manipulation\n",
        "import pandas as pd  #data-wrangling\n",
        "import matplotlib.pyplot as plt #datavizu\n",
        "import seaborn as sns  #datavizu\n",
        "from random import randint\n",
        "\n",
        "#disable all warnings \n",
        "import warnings\n",
        "warnings.filterwarnings('ignore')\n",
        "import pprint"
      ],
      "execution_count":199,
      "outputs":[
        
      ],
      "metadata":{
        
      }
    },
    {
      "cell_type":"code",
      "source":[
        
      ],
      "execution_count":199,
      "outputs":[
        
      ],
      "metadata":{
        
      }
    },
    {
      "cell_type":"code",
      "source":[
        "#CSV to DATAFRAME\n",
        "df = pd.read_csv(\n",
        "'https:\/\/simplonline-v3-prod.s3.eu-west-3.amazonaws.com\/media\/file\/csv\/2120d261-1446-43e8-b0eb-a681e66d738a.csv'\n",
        "        ,sep=';')\n",
        "\n",
        "#dataset = pd.read_csv('TP_licornes.csv', sep=';')\n",
        "\n",
        "#sample view\n",
        "df.head(5)"
      ],
      "execution_count":200,
      "outputs":[
        {
          "data":{
            "text\/html":[
              "<div>\n",
              "<style scoped>\n",
              "    .dataframe tbody tr th:only-of-type {\n",
              "        vertical-align: middle;\n",
              "    }\n",
              "\n",
              "    .dataframe tbody tr th {\n",
              "        vertical-align: top;\n",
              "    }\n",
              "\n",
              "    .dataframe thead th {\n",
              "        text-align: right;\n",
              "    }\n",
              "<\/style>\n",
              "<table border=\"1\" class=\"dataframe\">\n",
              "  <thead>\n",
              "    <tr style=\"text-align: right;\">\n",
              "      <th><\/th>\n",
              "      <th>R&amp;D<\/th>\n",
              "      <th>Administration<\/th>\n",
              "      <th>Marketing<\/th>\n",
              "      <th>villes<\/th>\n",
              "      <th>Profit<\/th>\n",
              "    <\/tr>\n",
              "  <\/thead>\n",
              "  <tbody>\n",
              "    <tr>\n",
              "      <th>0<\/th>\n",
              "      <td>165349.20<\/td>\n",
              "      <td>136897.80<\/td>\n",
              "      <td>471784.10<\/td>\n",
              "      <td>Paris<\/td>\n",
              "      <td>192261.83<\/td>\n",
              "    <\/tr>\n",
              "    <tr>\n",
              "      <th>1<\/th>\n",
              "      <td>162597.70<\/td>\n",
              "      <td>151377.59<\/td>\n",
              "      <td>443898.53<\/td>\n",
              "      <td>Strasbourg<\/td>\n",
              "      <td>191792.06<\/td>\n",
              "    <\/tr>\n",
              "    <tr>\n",
              "      <th>2<\/th>\n",
              "      <td>153441.51<\/td>\n",
              "      <td>101145.55<\/td>\n",
              "      <td>407934.54<\/td>\n",
              "      <td>Lyon<\/td>\n",
              "      <td>191050.39<\/td>\n",
              "    <\/tr>\n",
              "    <tr>\n",
              "      <th>3<\/th>\n",
              "      <td>144372.41<\/td>\n",
              "      <td>118671.85<\/td>\n",
              "      <td>383199.62<\/td>\n",
              "      <td>Paris<\/td>\n",
              "      <td>182901.99<\/td>\n",
              "    <\/tr>\n",
              "    <tr>\n",
              "      <th>4<\/th>\n",
              "      <td>142107.34<\/td>\n",
              "      <td>91391.77<\/td>\n",
              "      <td>366168.42<\/td>\n",
              "      <td>Lyon<\/td>\n",
              "      <td>166187.94<\/td>\n",
              "    <\/tr>\n",
              "  <\/tbody>\n",
              "<\/table>\n",
              "<\/div>"
            ]
          },
          "metadata":{
            
          },
          "output_type":"display_data"
        }
      ],
      "metadata":{
        
      }
    },
    {
      "cell_type":"code",
      "source":[
        "#Trouvons le nombre de zéros\n",
        "df.isnull().sum()"
      ],
      "execution_count":201,
      "outputs":[
        {
          "data":{
            "text\/plain":[
              "R&D               0\n",
              "Administration    0\n",
              "Marketing         0\n",
              "villes            0\n",
              "Profit            0\n",
              "dtype: int64"
            ]
          },
          "metadata":{
            
          },
          "output_type":"display_data"
        }
      ],
      "metadata":{
        
      }
    },
    {
      "cell_type":"code",
      "source":[
        "#Vérifions les valeurs non renseignées\n",
        "df.isna().sum()"
      ],
      "execution_count":202,
      "outputs":[
        {
          "data":{
            "text\/plain":[
              "R&D               0\n",
              "Administration    0\n",
              "Marketing         0\n",
              "villes            0\n",
              "Profit            0\n",
              "dtype: int64"
            ]
          },
          "metadata":{
            
          },
          "output_type":"display_data"
        }
      ],
      "metadata":{
        
      }
    },
    {
      "cell_type":"code",
      "source":[
        "df.info()"
      ],
      "execution_count":203,
      "outputs":[
        {
          "name":"stdout",
          "text":[
            "<class 'pandas.core.frame.DataFrame'>\n",
            "RangeIndex: 50 entries, 0 to 49\n",
            "Data columns (total 5 columns):\n",
            " #   Column          Non-Null Count  Dtype  \n",
            "---  ------          --------------  -----  \n",
            " 0   R&D             50 non-null     float64\n",
            " 1   Administration  50 non-null     float64\n",
            " 2   Marketing       50 non-null     float64\n",
            " 3   villes          50 non-null     object \n",
            " 4   Profit          50 non-null     float64\n",
            "dtypes: float64(4), object(1)\n",
            "memory usage: 2.1+ KB\n"
          ],
          "output_type":"stream"
        }
      ],
      "metadata":{
        
      }
    },
    {
      "cell_type":"code",
      "source":[
        "df.describe()"
      ],
      "execution_count":204,
      "outputs":[
        {
          "data":{
            "text\/html":[
              "<div>\n",
              "<style scoped>\n",
              "    .dataframe tbody tr th:only-of-type {\n",
              "        vertical-align: middle;\n",
              "    }\n",
              "\n",
              "    .dataframe tbody tr th {\n",
              "        vertical-align: top;\n",
              "    }\n",
              "\n",
              "    .dataframe thead th {\n",
              "        text-align: right;\n",
              "    }\n",
              "<\/style>\n",
              "<table border=\"1\" class=\"dataframe\">\n",
              "  <thead>\n",
              "    <tr style=\"text-align: right;\">\n",
              "      <th><\/th>\n",
              "      <th>R&amp;D<\/th>\n",
              "      <th>Administration<\/th>\n",
              "      <th>Marketing<\/th>\n",
              "      <th>Profit<\/th>\n",
              "    <\/tr>\n",
              "  <\/thead>\n",
              "  <tbody>\n",
              "    <tr>\n",
              "      <th>count<\/th>\n",
              "      <td>50.000000<\/td>\n",
              "      <td>50.000000<\/td>\n",
              "      <td>50.000000<\/td>\n",
              "      <td>50.000000<\/td>\n",
              "    <\/tr>\n",
              "    <tr>\n",
              "      <th>mean<\/th>\n",
              "      <td>73721.615600<\/td>\n",
              "      <td>121344.639600<\/td>\n",
              "      <td>211025.097800<\/td>\n",
              "      <td>112012.639200<\/td>\n",
              "    <\/tr>\n",
              "    <tr>\n",
              "      <th>std<\/th>\n",
              "      <td>45902.256482<\/td>\n",
              "      <td>28017.802755<\/td>\n",
              "      <td>122290.310726<\/td>\n",
              "      <td>40306.180338<\/td>\n",
              "    <\/tr>\n",
              "    <tr>\n",
              "      <th>min<\/th>\n",
              "      <td>0.000000<\/td>\n",
              "      <td>51283.140000<\/td>\n",
              "      <td>0.000000<\/td>\n",
              "      <td>14681.400000<\/td>\n",
              "    <\/tr>\n",
              "    <tr>\n",
              "      <th>25%<\/th>\n",
              "      <td>39936.370000<\/td>\n",
              "      <td>103730.875000<\/td>\n",
              "      <td>129300.132500<\/td>\n",
              "      <td>90138.902500<\/td>\n",
              "    <\/tr>\n",
              "    <tr>\n",
              "      <th>50%<\/th>\n",
              "      <td>73051.080000<\/td>\n",
              "      <td>122699.795000<\/td>\n",
              "      <td>212716.240000<\/td>\n",
              "      <td>107978.190000<\/td>\n",
              "    <\/tr>\n",
              "    <tr>\n",
              "      <th>75%<\/th>\n",
              "      <td>101602.800000<\/td>\n",
              "      <td>144842.180000<\/td>\n",
              "      <td>299469.085000<\/td>\n",
              "      <td>139765.977500<\/td>\n",
              "    <\/tr>\n",
              "    <tr>\n",
              "      <th>max<\/th>\n",
              "      <td>165349.200000<\/td>\n",
              "      <td>182645.560000<\/td>\n",
              "      <td>471784.100000<\/td>\n",
              "      <td>192261.830000<\/td>\n",
              "    <\/tr>\n",
              "  <\/tbody>\n",
              "<\/table>\n",
              "<\/div>"
            ]
          },
          "metadata":{
            
          },
          "output_type":"display_data"
        }
      ],
      "metadata":{
        
      }
    },
    {
      "cell_type":"markdown",
      "source":[
        "Nous avons donc 4 variables float et 1 variable de type objet\n",
        "Notre échantillon comporte 50 lignes toutes non-nulles"
      ],
      "metadata":{
        
      }
    },
    {
      "cell_type":"markdown",
      "source":[
        "##  2.1 Comprendre nos features"
      ],
      "metadata":{
        
      }
    },
    {
      "cell_type":"code",
      "source":[
        "#front-end de seaborn\n",
        "sns.set(context='notebook', style='darkgrid', palette='deep', font='sans-serif', font_scale=1.5, color_codes=True, rc=None)\n",
        "\n",
        "#couleur aléatoire pour les graph\n",
        "def random_color():\n",
        "    rgbl=['green','red','cyan','magenta','yellow','orange']\n",
        "    return rgbl[randint(0,7)]\n",
        "\n",
        "#créer 3 subplots vide\n",
        "fig, axes = plt.subplots(1,3,figsize=(30,10))\n",
        "\n",
        "#charge les subplots avec les données des secteurs d'activités\n",
        "for i in range(len(df.columns)-2):\n",
        "    sns.distplot(df[df.columns[i]], ax=axes[i], color = random_color())\n",
        "\n",
        "#montrer les graphs\n",
        "plt.show()"
      ],
      "execution_count":205,
      "outputs":[
        {
          "data":{
            "image\/png":"[encoded data removed]"
          },
          "metadata":{
            "image\/png":{
              "width":0,
              "height":0
            }
          },
          "output_type":"display_data"
        }
      ],
      "metadata":{
        
      }
    },
    {
      "cell_type":"markdown",
      "source":[
        "Pourquoi ces graphs ?\n",
        "-> Ils nous montrent que les 3 domaines d'investissement suivent une loi normale et qu'il y a une certaine cohérence avec la distribution de notre échantillon"
      ],
      "metadata":{
        
      }
    },
    {
      "cell_type":"markdown",
      "source":[
        "On peut aussi s'en assurer par le test de Shapiro-Wilk ;"
      ],
      "metadata":{
        
      }
    },
    {
      "cell_type":"code",
      "source":[
        "from scipy import stats\n",
        "\n",
        "shapiro_test = stats.shapiro(df[[\"R&D\",\"Administration\",\"Marketing\",\"Profit\"]])\n",
        "\n",
        "shapiro_test"
      ],
      "execution_count":206,
      "outputs":[
        {
          "data":{
            "text\/plain":[
              "ShapiroResult(statistic=0.890811026096344, pvalue=6.788404560698069e-11)"
            ]
          },
          "metadata":{
            
          },
          "output_type":"display_data"
        }
      ],
      "metadata":{
        
      }
    },
    {
      "cell_type":"markdown",
      "source":[
        "Notre p-value est très en dessous d'un seuil qui sera défini à 0.05 (5%)\n",
        "On en tire donc les conclusions que la condition de loi normale de notre échantillon est bien respectée"
      ],
      "metadata":{
        
      }
    },
    {
      "cell_type":"markdown",
      "source":[
        "## 2.3 Une avance sur les corrélations"
      ],
      "metadata":{
        
      }
    },
    {
      "cell_type":"code",
      "source":[
        "sns.pairplot(df)"
      ],
      "execution_count":207,
      "outputs":[
        {
          "data":{
            "text\/plain":[
              "<seaborn.axisgrid.PairGrid at 0x7f140fd2a250>"
            ],
            "image\/png":"[encoded data removed]"
          },
          "metadata":{
            "image\/png":{
              "width":0,
              "height":0
            }
          },
          "output_type":"display_data"
        }
      ],
      "metadata":{
        
      }
    },
    {
      "cell_type":"markdown",
      "source":[
        "Cette fonctions de seaborn terriblement efficace nous fait ressortir au premier coup d'oeil que la variable (feature) la plus correlée avec le profit est la R&D. Un peu moins pour le Marketing, et très très peu pour l'Administration"
      ],
      "metadata":{
        
      }
    },
    {
      "cell_type":"markdown",
      "source":[
        "Mais on peut aussi le constater avec les fonctions suivantes : "
      ],
      "metadata":{
        
      }
    },
    {
      "cell_type":"code",
      "source":[
        "df.corr()"
      ],
      "execution_count":208,
      "outputs":[
        {
          "data":{
            "text\/html":[
              "<div>\n",
              "<style scoped>\n",
              "    .dataframe tbody tr th:only-of-type {\n",
              "        vertical-align: middle;\n",
              "    }\n",
              "\n",
              "    .dataframe tbody tr th {\n",
              "        vertical-align: top;\n",
              "    }\n",
              "\n",
              "    .dataframe thead th {\n",
              "        text-align: right;\n",
              "    }\n",
              "<\/style>\n",
              "<table border=\"1\" class=\"dataframe\">\n",
              "  <thead>\n",
              "    <tr style=\"text-align: right;\">\n",
              "      <th><\/th>\n",
              "      <th>R&amp;D<\/th>\n",
              "      <th>Administration<\/th>\n",
              "      <th>Marketing<\/th>\n",
              "      <th>Profit<\/th>\n",
              "    <\/tr>\n",
              "  <\/thead>\n",
              "  <tbody>\n",
              "    <tr>\n",
              "      <th>R&amp;D<\/th>\n",
              "      <td>1.000000<\/td>\n",
              "      <td>0.241955<\/td>\n",
              "      <td>0.724248<\/td>\n",
              "      <td>0.972900<\/td>\n",
              "    <\/tr>\n",
              "    <tr>\n",
              "      <th>Administration<\/th>\n",
              "      <td>0.241955<\/td>\n",
              "      <td>1.000000<\/td>\n",
              "      <td>-0.032154<\/td>\n",
              "      <td>0.200717<\/td>\n",
              "    <\/tr>\n",
              "    <tr>\n",
              "      <th>Marketing<\/th>\n",
              "      <td>0.724248<\/td>\n",
              "      <td>-0.032154<\/td>\n",
              "      <td>1.000000<\/td>\n",
              "      <td>0.747766<\/td>\n",
              "    <\/tr>\n",
              "    <tr>\n",
              "      <th>Profit<\/th>\n",
              "      <td>0.972900<\/td>\n",
              "      <td>0.200717<\/td>\n",
              "      <td>0.747766<\/td>\n",
              "      <td>1.000000<\/td>\n",
              "    <\/tr>\n",
              "  <\/tbody>\n",
              "<\/table>\n",
              "<\/div>"
            ]
          },
          "metadata":{
            
          },
          "output_type":"display_data"
        }
      ],
      "metadata":{
        
      }
    },
    {
      "cell_type":"code",
      "source":[
        "sns.heatmap(df.corr(), annot=True)"
      ],
      "execution_count":209,
      "outputs":[
        {
          "data":{
            "text\/plain":[
              "<AxesSubplot:>"
            ],
            "image\/png":"[encoded data removed]"
          },
          "metadata":{
            "image\/png":{
              "width":0,
              "height":0
            }
          },
          "output_type":"display_data"
        }
      ],
      "metadata":{
        
      }
    },
    {
      "cell_type":"markdown",
      "source":[
        "Avec une corrélation de 0.97, ** la R&D est donc le contributeur principal du profit**."
      ],
      "metadata":{
        
      }
    },
    {
      "cell_type":"markdown",
      "source":[
        "# 3. Préparation des données"
      ],
      "metadata":{
        
      }
    },
    {
      "cell_type":"markdown",
      "source":[
        "# 3.1 Création du modèle"
      ],
      "metadata":{
        
      }
    },
    {
      "cell_type":"code",
      "source":[
        "#On utilise la libraire SciKitlearn et importe la classe train_test_split et LinearRegression\n",
        "\n",
        "from sklearn.model_selection import train_test_split\n",
        "from sklearn.linear_model import LinearRegression"
      ],
      "execution_count":210,
      "outputs":[
        
      ],
      "metadata":{
        
      }
    },
    {
      "cell_type":"code",
      "source":[
        "#features\n",
        "#X sont les variables indépendantes (R&D,Marketing,Administration, Ville)\n",
        "X = df.iloc[:,:-1].values\n",
        "#prédiction\n",
        "#y sont les variables dépendantes (Profit)\n",
        "y = df.iloc[:,4].values"
      ],
      "execution_count":211,
      "outputs":[
        
      ],
      "metadata":{
        
      }
    },
    {
      "cell_type":"code",
      "source":[
        "#utilisation du module pprint (PrettyPrint)\n",
        "#C'est plus joli qu'un print classique non ?\n",
        "pp = pprint.PrettyPrinter(indent=4)\n",
        "pp.pprint(X)"
      ],
      "execution_count":212,
      "outputs":[
        {
          "name":"stdout",
          "text":[
            "array([[165349.2, 136897.8, 471784.1, 'Paris'],\n",
            "       [162597.7, 151377.59, 443898.53, 'Strasbourg'],\n",
            "       [153441.51, 101145.55, 407934.54, 'Lyon'],\n",
            "       [144372.41, 118671.85, 383199.62, 'Paris'],\n",
            "       [142107.34, 91391.77, 366168.42, 'Lyon'],\n",
            "       [131876.9, 99814.71, 362861.36, 'Paris'],\n",
            "       [134615.46, 147198.87, 127716.82, 'Strasbourg'],\n",
            "       [130298.13, 145530.06, 323876.68, 'Lyon'],\n",
            "       [120542.52, 148718.95, 311613.29, 'Paris'],\n",
            "       [123334.88, 108679.17, 304981.62, 'Strasbourg'],\n",
            "       [101913.08, 110594.11, 229160.95, 'Lyon'],\n",
            "       [100671.96, 91790.61, 249744.55, 'Strasbourg'],\n",
            "       [93863.75, 127320.38, 249839.44, 'Lyon'],\n",
            "       [91992.39, 135495.07, 252664.93, 'Strasbourg'],\n",
            "       [119943.24, 156547.42, 256512.92, 'Lyon'],\n",
            "       [114523.61, 122616.84, 261776.23, 'Paris'],\n",
            "       [78013.11, 121597.55, 264346.06, 'Strasbourg'],\n",
            "       [94657.16, 145077.58, 282574.31, 'Paris'],\n",
            "       [91749.16, 114175.79, 294919.57, 'Lyon'],\n",
            "       [86419.7, 153514.11, 0.0, 'Paris'],\n",
            "       [76253.86, 113867.3, 298664.47, 'Strasbourg'],\n",
            "       [78389.47, 153773.43, 299737.29, 'Paris'],\n",
            "       [73994.56, 122782.75, 303319.26, 'Lyon'],\n",
            "       [67532.53, 105751.03, 304768.73, 'Lyon'],\n",
            "       [77044.01, 99281.34, 140574.81, 'Paris'],\n",
            "       [64664.71, 139553.16, 137962.62, 'Strasbourg'],\n",
            "       [75328.87, 144135.98, 134050.07, 'Lyon'],\n",
            "       [72107.6, 127864.55, 353183.81, 'Paris'],\n",
            "       [66051.52, 182645.56, 118148.2, 'Lyon'],\n",
            "       [65605.48, 153032.06, 107138.38, 'Paris'],\n",
            "       [61994.48, 115641.28, 91131.24, 'Lyon'],\n",
            "       [61136.38, 152701.92, 88218.23, 'Paris'],\n",
            "       [63408.86, 129219.61, 46085.25, 'Strasbourg'],\n",
            "       [55493.95, 103057.49, 214634.81, 'Lyon'],\n",
            "       [46426.07, 157693.92, 210797.67, 'Strasbourg'],\n",
            "       [46014.02, 85047.44, 205517.64, 'Paris'],\n",
            "       [28663.76, 127056.21, 201126.82, 'Lyon'],\n",
            "       [44069.95, 51283.14, 197029.42, 'Strasbourg'],\n",
            "       [20229.59, 65947.93, 185265.1, 'Paris'],\n",
            "       [38558.51, 82982.09, 174999.3, 'Strasbourg'],\n",
            "       [28754.33, 118546.05, 172795.67, 'Strasbourg'],\n",
            "       [27892.92, 84710.77, 164470.71, 'Lyon'],\n",
            "       [23640.93, 96189.63, 148001.11, 'Strasbourg'],\n",
            "       [15505.73, 127382.3, 35534.17, 'Paris'],\n",
            "       [22177.74, 154806.14, 28334.72, 'Strasbourg'],\n",
            "       [1000.23, 124153.04, 1903.93, 'Paris'],\n",
            "       [1315.46, 115816.21, 297114.46, 'Lyon'],\n",
            "       [0.0, 135426.92, 0.0, 'Strasbourg'],\n",
            "       [542.05, 51743.15, 0.0, 'Paris'],\n",
            "       [0.0, 116983.8, 45173.06, 'Strasbourg']], dtype=object)\n"
          ],
          "output_type":"stream"
        }
      ],
      "metadata":{
        
      }
    },
    {
      "cell_type":"code",
      "source":[
        "pp.pprint(y)"
      ],
      "execution_count":213,
      "outputs":[
        {
          "name":"stdout",
          "text":[
            "array([192261.83, 191792.06, 191050.39, 182901.99, 166187.94, 156991.12,\n",
            "       156122.51, 155752.6 , 152211.77, 149759.96, 146121.95, 144259.4 ,\n",
            "       141585.52, 134307.35, 132602.65, 129917.04, 126992.93, 125370.37,\n",
            "       124266.9 , 122776.86, 118474.03, 111313.02, 110352.25, 108733.99,\n",
            "       108552.04, 107404.34, 105733.54, 105008.31, 103282.38, 101004.64,\n",
            "        99937.59,  97483.56,  97427.84,  96778.92,  96712.8 ,  96479.51,\n",
            "        90708.19,  89949.14,  81229.06,  81005.76,  78239.91,  77798.83,\n",
            "        71498.49,  69758.98,  65200.33,  64926.08,  49490.75,  42559.73,\n",
            "        35673.41,  14681.4 ])\n"
          ],
          "output_type":"stream"
        }
      ],
      "metadata":{
        
      }
    },
    {
      "cell_type":"markdown",
      "source":[
        "A ce point, on va commencer à créer notre modèle.\n",
        "Cependant, nous avons 4 features dont une catégorique : les villes (string)\n",
        "Il faudrait les transformer en nombre car on ne fait pas de machine learning avec des strings, mais seulement de nombres!"
      ],
      "metadata":{
        
      }
    },
    {
      "cell_type":"code",
      "source":[
        "#import des fonctions d'encodage\n",
        "\n",
        "from sklearn.preprocessing import LabelEncoder,OneHotEncoder\n",
        "from sklearn.compose import ColumnTransformer\n",
        "\n",
        "# On encode toute la colonne 'villes'\n",
        "labelencoder_X = LabelEncoder()\n",
        "X[:,3] = labelencoder_X.fit_transform(X[:,3])\n",
        "\n",
        "# Travailler sur la variable catégorique \"villes\"\n",
        "ct = ColumnTransformer([(\"villes\", OneHotEncoder(), [3])], remainder = 'passthrough')\n",
        "\n",
        "#on applique la méthode à notre matrice X                               \n",
        "# on crée des var de test(donc plusieurs colonnes représentant les villes)\n",
        "X = ct.fit_transform(X)\n",
        "print(X)"
      ],
      "execution_count":214,
      "outputs":[
        {
          "name":"stdout",
          "text":[
            "[[0.0 1.0 0.0 165349.2 136897.8 471784.1]\n",
            " [0.0 0.0 1.0 162597.7 151377.59 443898.53]\n",
            " [1.0 0.0 0.0 153441.51 101145.55 407934.54]\n",
            " [0.0 1.0 0.0 144372.41 118671.85 383199.62]\n",
            " [1.0 0.0 0.0 142107.34 91391.77 366168.42]\n",
            " [0.0 1.0 0.0 131876.9 99814.71 362861.36]\n",
            " [0.0 0.0 1.0 134615.46 147198.87 127716.82]\n",
            " [1.0 0.0 0.0 130298.13 145530.06 323876.68]\n",
            " [0.0 1.0 0.0 120542.52 148718.95 311613.29]\n",
            " [0.0 0.0 1.0 123334.88 108679.17 304981.62]\n",
            " [1.0 0.0 0.0 101913.08 110594.11 229160.95]\n",
            " [0.0 0.0 1.0 100671.96 91790.61 249744.55]\n",
            " [1.0 0.0 0.0 93863.75 127320.38 249839.44]\n",
            " [0.0 0.0 1.0 91992.39 135495.07 252664.93]\n",
            " [1.0 0.0 0.0 119943.24 156547.42 256512.92]\n",
            " [0.0 1.0 0.0 114523.61 122616.84 261776.23]\n",
            " [0.0 0.0 1.0 78013.11 121597.55 264346.06]\n",
            " [0.0 1.0 0.0 94657.16 145077.58 282574.31]\n",
            " [1.0 0.0 0.0 91749.16 114175.79 294919.57]\n",
            " [0.0 1.0 0.0 86419.7 153514.11 0.0]\n",
            " [0.0 0.0 1.0 76253.86 113867.3 298664.47]\n",
            " [0.0 1.0 0.0 78389.47 153773.43 299737.29]\n",
            " [1.0 0.0 0.0 73994.56 122782.75 303319.26]\n",
            " [1.0 0.0 0.0 67532.53 105751.03 304768.73]\n",
            " [0.0 1.0 0.0 77044.01 99281.34 140574.81]\n",
            " [0.0 0.0 1.0 64664.71 139553.16 137962.62]\n",
            " [1.0 0.0 0.0 75328.87 144135.98 134050.07]\n",
            " [0.0 1.0 0.0 72107.6 127864.55 353183.81]\n",
            " [1.0 0.0 0.0 66051.52 182645.56 118148.2]\n",
            " [0.0 1.0 0.0 65605.48 153032.06 107138.38]\n",
            " [1.0 0.0 0.0 61994.48 115641.28 91131.24]\n",
            " [0.0 1.0 0.0 61136.38 152701.92 88218.23]\n",
            " [0.0 0.0 1.0 63408.86 129219.61 46085.25]\n",
            " [1.0 0.0 0.0 55493.95 103057.49 214634.81]\n",
            " [0.0 0.0 1.0 46426.07 157693.92 210797.67]\n",
            " [0.0 1.0 0.0 46014.02 85047.44 205517.64]\n",
            " [1.0 0.0 0.0 28663.76 127056.21 201126.82]\n",
            " [0.0 0.0 1.0 44069.95 51283.14 197029.42]\n",
            " [0.0 1.0 0.0 20229.59 65947.93 185265.1]\n",
            " [0.0 0.0 1.0 38558.51 82982.09 174999.3]\n",
            " [0.0 0.0 1.0 28754.33 118546.05 172795.67]\n",
            " [1.0 0.0 0.0 27892.92 84710.77 164470.71]\n",
            " [0.0 0.0 1.0 23640.93 96189.63 148001.11]\n",
            " [0.0 1.0 0.0 15505.73 127382.3 35534.17]\n",
            " [0.0 0.0 1.0 22177.74 154806.14 28334.72]\n",
            " [0.0 1.0 0.0 1000.23 124153.04 1903.93]\n",
            " [1.0 0.0 0.0 1315.46 115816.21 297114.46]\n",
            " [0.0 0.0 1.0 0.0 135426.92 0.0]\n",
            " [0.0 1.0 0.0 542.05 51743.15 0.0]\n",
            " [0.0 0.0 1.0 0.0 116983.8 45173.06]]\n"
          ],
          "output_type":"stream"
        }
      ],
      "metadata":{
        
      }
    },
    {
      "cell_type":"code",
      "source":[
        "#éviter la multicolinéairté\n",
        "\n",
        "X = X[:,1:]\n",
        "print(X)"
      ],
      "execution_count":215,
      "outputs":[
        {
          "name":"stdout",
          "text":[
            "[[1.0 0.0 165349.2 136897.8 471784.1]\n",
            " [0.0 1.0 162597.7 151377.59 443898.53]\n",
            " [0.0 0.0 153441.51 101145.55 407934.54]\n",
            " [1.0 0.0 144372.41 118671.85 383199.62]\n",
            " [0.0 0.0 142107.34 91391.77 366168.42]\n",
            " [1.0 0.0 131876.9 99814.71 362861.36]\n",
            " [0.0 1.0 134615.46 147198.87 127716.82]\n",
            " [0.0 0.0 130298.13 145530.06 323876.68]\n",
            " [1.0 0.0 120542.52 148718.95 311613.29]\n",
            " [0.0 1.0 123334.88 108679.17 304981.62]\n",
            " [0.0 0.0 101913.08 110594.11 229160.95]\n",
            " [0.0 1.0 100671.96 91790.61 249744.55]\n",
            " [0.0 0.0 93863.75 127320.38 249839.44]\n",
            " [0.0 1.0 91992.39 135495.07 252664.93]\n",
            " [0.0 0.0 119943.24 156547.42 256512.92]\n",
            " [1.0 0.0 114523.61 122616.84 261776.23]\n",
            " [0.0 1.0 78013.11 121597.55 264346.06]\n",
            " [1.0 0.0 94657.16 145077.58 282574.31]\n",
            " [0.0 0.0 91749.16 114175.79 294919.57]\n",
            " [1.0 0.0 86419.7 153514.11 0.0]\n",
            " [0.0 1.0 76253.86 113867.3 298664.47]\n",
            " [1.0 0.0 78389.47 153773.43 299737.29]\n",
            " [0.0 0.0 73994.56 122782.75 303319.26]\n",
            " [0.0 0.0 67532.53 105751.03 304768.73]\n",
            " [1.0 0.0 77044.01 99281.34 140574.81]\n",
            " [0.0 1.0 64664.71 139553.16 137962.62]\n",
            " [0.0 0.0 75328.87 144135.98 134050.07]\n",
            " [1.0 0.0 72107.6 127864.55 353183.81]\n",
            " [0.0 0.0 66051.52 182645.56 118148.2]\n",
            " [1.0 0.0 65605.48 153032.06 107138.38]\n",
            " [0.0 0.0 61994.48 115641.28 91131.24]\n",
            " [1.0 0.0 61136.38 152701.92 88218.23]\n",
            " [0.0 1.0 63408.86 129219.61 46085.25]\n",
            " [0.0 0.0 55493.95 103057.49 214634.81]\n",
            " [0.0 1.0 46426.07 157693.92 210797.67]\n",
            " [1.0 0.0 46014.02 85047.44 205517.64]\n",
            " [0.0 0.0 28663.76 127056.21 201126.82]\n",
            " [0.0 1.0 44069.95 51283.14 197029.42]\n",
            " [1.0 0.0 20229.59 65947.93 185265.1]\n",
            " [0.0 1.0 38558.51 82982.09 174999.3]\n",
            " [0.0 1.0 28754.33 118546.05 172795.67]\n",
            " [0.0 0.0 27892.92 84710.77 164470.71]\n",
            " [0.0 1.0 23640.93 96189.63 148001.11]\n",
            " [1.0 0.0 15505.73 127382.3 35534.17]\n",
            " [0.0 1.0 22177.74 154806.14 28334.72]\n",
            " [1.0 0.0 1000.23 124153.04 1903.93]\n",
            " [0.0 0.0 1315.46 115816.21 297114.46]\n",
            " [0.0 1.0 0.0 135426.92 0.0]\n",
            " [1.0 0.0 542.05 51743.15 0.0]\n",
            " [0.0 1.0 0.0 116983.8 45173.06]]\n"
          ],
          "output_type":"stream"
        }
      ],
      "metadata":{
        
      }
    },
    {
      "cell_type":"markdown",
      "source":[
        "## 3.2 Entrainement"
      ],
      "metadata":{
        
      }
    },
    {
      "cell_type":"code",
      "source":[
        "#On sépare les variables indépendantes et dépendantes de manière aléatoire en 2 groupes (test et train)\n",
        "X_train,X_test, y_train, y_test = train_test_split(X,y,test_size = 1\/3, random_state = 0)"
      ],
      "execution_count":216,
      "outputs":[
        
      ],
      "metadata":{
        
      }
    },
    {
      "cell_type":"code",
      "source":[
        "#On initialise la régression linéaire\n",
        "regressor = LinearRegression()"
      ],
      "execution_count":217,
      "outputs":[
        
      ],
      "metadata":{
        
      }
    },
    {
      "cell_type":"code",
      "source":[
        "#On produit un modèle à partir des données d'entrainement\n",
        "regressor.fit(X_train, y_train)"
      ],
      "execution_count":218,
      "outputs":[
        {
          "data":{
            "text\/plain":[
              "LinearRegression()"
            ]
          },
          "metadata":{
            
          },
          "output_type":"display_data"
        }
      ],
      "metadata":{
        
      }
    },
    {
      "cell_type":"code",
      "source":[
        "#Nous avons ainsi un modèle pouvant prédire y.\n",
        "y_pred = regressor.predict(X_test)"
      ],
      "execution_count":219,
      "outputs":[
        
      ],
      "metadata":{
        
      }
    },
    {
      "cell_type":"code",
      "source":[
        "#comparons le profit réel vs le profit prédit\n",
        "#numpy.nditer permet d'itérer un array\n",
        "\n",
        "for i,j in np.nditer((y_test, y_pred)):\n",
        "    print(i,\"   -->   \", j)  "
      ],
      "execution_count":220,
      "outputs":[
        {
          "name":"stdout",
          "text":[
            "103282.38    -->    111616.64259445234\n",
            "144259.4    -->    132709.39466313907\n",
            "146121.95    -->    140155.11033777747\n",
            "77798.83    -->    76099.20398176793\n",
            "191050.39    -->    186329.94240346277\n",
            "105008.31    -->    112822.19807249868\n",
            "81229.06    -->    63002.00394807545\n",
            "97483.56    -->    99107.104280962\n",
            "110352.25    -->    119287.75473368439\n",
            "166187.94    -->    175522.8386471556\n",
            "96778.92    -->    101000.69861489857\n",
            "96479.51    -->    85772.99293235826\n",
            "105733.54    -->    117713.76481516864\n",
            "96712.8    -->    90230.88085207496\n",
            "124266.9    -->    133375.04389435743\n",
            "155752.6    -->    167530.54765808996\n",
            "132602.65    -->    158013.54602046427\n"
          ],
          "output_type":"stream"
        }
      ],
      "metadata":{
        
      }
    },
    {
      "cell_type":"markdown",
      "source":[
        "## 3.3 Analyse de notre premier modèle"
      ],
      "metadata":{
        
      }
    },
    {
      "cell_type":"code",
      "source":[
        "#On compare les données de test avec les prédictions\n",
        "#print(sklearn.metrics.accuracy_score(Y, y_pred)\n",
        "\n",
        "#afficher le score R² du train sample\n",
        "print(\"R2_train :\",regressor.score(X_train, y_train))\n",
        "#trouver notre coefficient du modèle\n",
        "print(\"Coefficients :\",regressor.coef_)\n",
        "#notre constante issu de l'hypothèse H0\n",
        "print(\"y pour (x1,...,xn)=0 :\",regressor.predict([[0,0,0,0,0]]))\n",
        "\n",
        "#afficher nos scores R²\n",
        "print(\"Train sample :\",regressor.score(X_train, y_train))\n",
        "print(\"Test sample :\",regressor.score(X_test,y_test))"
      ],
      "execution_count":221,
      "outputs":[
        {
          "name":"stdout",
          "text":[
            "R2_train : 0.9576035764205424\n",
            "Coefficients : [-6.26486506e+03 -5.92663381e+03  8.28371991e-01  5.03972419e-02\n",
            "  2.21861926e-02]\n",
            "y pour (x1,...,xn)=0 : [45075.32230833]\n",
            "Train sample : 0.9576035764205424\n",
            "Test sample : 0.8752655285763522\n"
          ],
          "output_type":"stream"
        }
      ],
      "metadata":{
        
      }
    },
    {
      "cell_type":"markdown",
      "source":[
        "Le R² de notre échantillon Train tend vers 1 ce qui signifie qu'on va pouvoir en tirer quelque chose. \n",
        "Notre test sample lui, n'est pas très éloigné du train sample, il va falloir améliorer cela."
      ],
      "metadata":{
        
      }
    },
    {
      "cell_type":"markdown",
      "source":[
        "R2 est très proche de 1, nous assurant donc la validité du modèle.  \n",
        "Nous obtenons ainsi une formule type :\n",
        "\n",
        "$y$ $=$ $41011.48935223$ + $0.828371991$ $X_R$ + $0.0503972419$ $X_A$ + $0.0221861926$ $X_M$\n",
        "\n",
        "Où $y$ représente le profit  \n",
        "$X_R$ les dépenses en R&D  \n",
        "$X_A$ les dépenses en Administratif  \n",
        "$X_M$ les dépenses en Marketing  \n",
        "\n",
        "Les 3 premiers coefficients ne sont pas pris en compte puisqu'ils s'agit uniquement des colonnes de dummy var liées à l'encodage de la variable catégorique \"ville\""
      ],
      "metadata":{
        
      }
    },
    {
      "cell_type":"markdown",
      "source":[
        "# 4. Trouver le modèle optimal"
      ],
      "metadata":{
        
      }
    },
    {
      "cell_type":"markdown",
      "source":[
        "## 4.1 Utilisation de la méthode Backward Elimination\n",
        "\n",
        "**Backward Elimination**\n",
        "C'est une méthode de sélection des features dans un modèle de machine learning. \n",
        "L'objectif est d'arriver à un modèle déchargé des features qui n'ont pas vraiment d'intérêt significatif vis-à-vis de notre variable dépendante (Profit) et sa prédiction en sortie.\n",
        "\n",
        "On va donc simplifier notre modèle\n",
        "\n",
        "Basé sur notre analyse du début, on va surement pouvoir confirmer nos hypothèses déduites des corrélations ; seul la R&D est hautement significative dans la prédiction du y : Profit\n",
        "\n",
        "Les features non nécessaires augmentent la complexité du modèle et si l'on veut le meilleur résultat il faut le garder simple."
      ],
      "metadata":{
        
      }
    },
    {
      "cell_type":"markdown",
      "source":[
        "## 4.2 Préparation\n",
        "\n",
        "Par défaut la formule prend pas de constante donc on va essayer de surpasser ça en créant une colonne de 1 tel que $\\theta_0$ * $X_0$ = 1 que l'on place au début de $X$"
      ],
      "metadata":{
        
      }
    },
    {
      "cell_type":"code",
      "source":[
        "X = np.append(arr  = np.ones((50,1)).astype(int),values = X, axis = 1)\n",
        "print(X)"
      ],
      "execution_count":222,
      "outputs":[
        {
          "name":"stdout",
          "text":[
            "[[1 1.0 0.0 165349.2 136897.8 471784.1]\n",
            " [1 0.0 1.0 162597.7 151377.59 443898.53]\n",
            " [1 0.0 0.0 153441.51 101145.55 407934.54]\n",
            " [1 1.0 0.0 144372.41 118671.85 383199.62]\n",
            " [1 0.0 0.0 142107.34 91391.77 366168.42]\n",
            " [1 1.0 0.0 131876.9 99814.71 362861.36]\n",
            " [1 0.0 1.0 134615.46 147198.87 127716.82]\n",
            " [1 0.0 0.0 130298.13 145530.06 323876.68]\n",
            " [1 1.0 0.0 120542.52 148718.95 311613.29]\n",
            " [1 0.0 1.0 123334.88 108679.17 304981.62]\n",
            " [1 0.0 0.0 101913.08 110594.11 229160.95]\n",
            " [1 0.0 1.0 100671.96 91790.61 249744.55]\n",
            " [1 0.0 0.0 93863.75 127320.38 249839.44]\n",
            " [1 0.0 1.0 91992.39 135495.07 252664.93]\n",
            " [1 0.0 0.0 119943.24 156547.42 256512.92]\n",
            " [1 1.0 0.0 114523.61 122616.84 261776.23]\n",
            " [1 0.0 1.0 78013.11 121597.55 264346.06]\n",
            " [1 1.0 0.0 94657.16 145077.58 282574.31]\n",
            " [1 0.0 0.0 91749.16 114175.79 294919.57]\n",
            " [1 1.0 0.0 86419.7 153514.11 0.0]\n",
            " [1 0.0 1.0 76253.86 113867.3 298664.47]\n",
            " [1 1.0 0.0 78389.47 153773.43 299737.29]\n",
            " [1 0.0 0.0 73994.56 122782.75 303319.26]\n",
            " [1 0.0 0.0 67532.53 105751.03 304768.73]\n",
            " [1 1.0 0.0 77044.01 99281.34 140574.81]\n",
            " [1 0.0 1.0 64664.71 139553.16 137962.62]\n",
            " [1 0.0 0.0 75328.87 144135.98 134050.07]\n",
            " [1 1.0 0.0 72107.6 127864.55 353183.81]\n",
            " [1 0.0 0.0 66051.52 182645.56 118148.2]\n",
            " [1 1.0 0.0 65605.48 153032.06 107138.38]\n",
            " [1 0.0 0.0 61994.48 115641.28 91131.24]\n",
            " [1 1.0 0.0 61136.38 152701.92 88218.23]\n",
            " [1 0.0 1.0 63408.86 129219.61 46085.25]\n",
            " [1 0.0 0.0 55493.95 103057.49 214634.81]\n",
            " [1 0.0 1.0 46426.07 157693.92 210797.67]\n",
            " [1 1.0 0.0 46014.02 85047.44 205517.64]\n",
            " [1 0.0 0.0 28663.76 127056.21 201126.82]\n",
            " [1 0.0 1.0 44069.95 51283.14 197029.42]\n",
            " [1 1.0 0.0 20229.59 65947.93 185265.1]\n",
            " [1 0.0 1.0 38558.51 82982.09 174999.3]\n",
            " [1 0.0 1.0 28754.33 118546.05 172795.67]\n",
            " [1 0.0 0.0 27892.92 84710.77 164470.71]\n",
            " [1 0.0 1.0 23640.93 96189.63 148001.11]\n",
            " [1 1.0 0.0 15505.73 127382.3 35534.17]\n",
            " [1 0.0 1.0 22177.74 154806.14 28334.72]\n",
            " [1 1.0 0.0 1000.23 124153.04 1903.93]\n",
            " [1 0.0 0.0 1315.46 115816.21 297114.46]\n",
            " [1 0.0 1.0 0.0 135426.92 0.0]\n",
            " [1 1.0 0.0 542.05 51743.15 0.0]\n",
            " [1 0.0 1.0 0.0 116983.8 45173.06]]\n"
          ],
          "output_type":"stream"
        }
      ],
      "metadata":{
        
      }
    },
    {
      "cell_type":"markdown",
      "source":[
        "## 4.2 Mise en application"
      ],
      "metadata":{
        
      }
    },
    {
      "cell_type":"code",
      "source":[
        "#on initialise notre X optimisé en vérifiant que ce soit bien uniquement des float\n",
        "X_opt =X[:, [0,1,2,3,4,5]].astype(float)\n",
        "# 0 = fake constante\n",
        "# 1,2 = ville encodée\n",
        "# 3 = R&D\n",
        "# 4 = Administration\n",
        "# 5 = Marketing\n",
        "\n",
        "\n",
        "regressor_OLS = sm.OLS(y,X_opt).fit()  \n",
        "regressor_OLS.summary()"
      ],
      "execution_count":224,
      "outputs":[
        {
          "data":{
            "text\/html":[
              "<table class=\"simpletable\">\n",
              "<caption>OLS Regression Results<\/caption>\n",
              "<tr>\n",
              "  <th>Dep. Variable:<\/th>            <td>y<\/td>        <th>  R-squared:         <\/th> <td>   0.951<\/td>\n",
              "<\/tr>\n",
              "<tr>\n",
              "  <th>Model:<\/th>                   <td>OLS<\/td>       <th>  Adj. R-squared:    <\/th> <td>   0.945<\/td>\n",
              "<\/tr>\n",
              "<tr>\n",
              "  <th>Method:<\/th>             <td>Least Squares<\/td>  <th>  F-statistic:       <\/th> <td>   169.9<\/td>\n",
              "<\/tr>\n",
              "<tr>\n",
              "  <th>Date:<\/th>             <td>Fri, 15 Jan 2021<\/td> <th>  Prob (F-statistic):<\/th> <td>1.34e-27<\/td>\n",
              "<\/tr>\n",
              "<tr>\n",
              "  <th>Time:<\/th>                 <td>17:09:23<\/td>     <th>  Log-Likelihood:    <\/th> <td> -525.38<\/td>\n",
              "<\/tr>\n",
              "<tr>\n",
              "  <th>No. Observations:<\/th>      <td>    50<\/td>      <th>  AIC:               <\/th> <td>   1063.<\/td>\n",
              "<\/tr>\n",
              "<tr>\n",
              "  <th>Df Residuals:<\/th>          <td>    44<\/td>      <th>  BIC:               <\/th> <td>   1074.<\/td>\n",
              "<\/tr>\n",
              "<tr>\n",
              "  <th>Df Model:<\/th>              <td>     5<\/td>      <th>                     <\/th>     <td> <\/td>   \n",
              "<\/tr>\n",
              "<tr>\n",
              "  <th>Covariance Type:<\/th>      <td>nonrobust<\/td>    <th>                     <\/th>     <td> <\/td>   \n",
              "<\/tr>\n",
              "<\/table>\n",
              "<table class=\"simpletable\">\n",
              "<tr>\n",
              "    <td><\/td>       <th>coef<\/th>     <th>std err<\/th>      <th>t<\/th>      <th>P>|t|<\/th>  <th>[0.025<\/th>    <th>0.975]<\/th>  \n",
              "<\/tr>\n",
              "<tr>\n",
              "  <th>const<\/th> <td> 5.032e+04<\/td> <td> 7251.767<\/td> <td>    6.940<\/td> <td> 0.000<\/td> <td> 3.57e+04<\/td> <td> 6.49e+04<\/td>\n",
              "<\/tr>\n",
              "<tr>\n",
              "  <th>x1<\/th>    <td> -240.6758<\/td> <td> 3338.857<\/td> <td>   -0.072<\/td> <td> 0.943<\/td> <td>-6969.701<\/td> <td> 6488.349<\/td>\n",
              "<\/tr>\n",
              "<tr>\n",
              "  <th>x2<\/th>    <td> -198.7888<\/td> <td> 3371.007<\/td> <td>   -0.059<\/td> <td> 0.953<\/td> <td>-6992.607<\/td> <td> 6595.030<\/td>\n",
              "<\/tr>\n",
              "<tr>\n",
              "  <th>x3<\/th>    <td>    0.8060<\/td> <td>    0.046<\/td> <td>   17.369<\/td> <td> 0.000<\/td> <td>    0.712<\/td> <td>    0.900<\/td>\n",
              "<\/tr>\n",
              "<tr>\n",
              "  <th>x4<\/th>    <td>   -0.0270<\/td> <td>    0.052<\/td> <td>   -0.517<\/td> <td> 0.608<\/td> <td>   -0.132<\/td> <td>    0.078<\/td>\n",
              "<\/tr>\n",
              "<tr>\n",
              "  <th>x5<\/th>    <td>    0.0270<\/td> <td>    0.017<\/td> <td>    1.574<\/td> <td> 0.123<\/td> <td>   -0.008<\/td> <td>    0.062<\/td>\n",
              "<\/tr>\n",
              "<\/table>\n",
              "<table class=\"simpletable\">\n",
              "<tr>\n",
              "  <th>Omnibus:<\/th>       <td>14.782<\/td> <th>  Durbin-Watson:     <\/th> <td>   1.283<\/td>\n",
              "<\/tr>\n",
              "<tr>\n",
              "  <th>Prob(Omnibus):<\/th> <td> 0.001<\/td> <th>  Jarque-Bera (JB):  <\/th> <td>  21.266<\/td>\n",
              "<\/tr>\n",
              "<tr>\n",
              "  <th>Skew:<\/th>          <td>-0.948<\/td> <th>  Prob(JB):          <\/th> <td>2.41e-05<\/td>\n",
              "<\/tr>\n",
              "<tr>\n",
              "  <th>Kurtosis:<\/th>      <td> 5.572<\/td> <th>  Cond. No.          <\/th> <td>1.56e+06<\/td>\n",
              "<\/tr>\n",
              "<\/table><br\/><br\/>Notes:<br\/>[1] Standard Errors assume that the covariance matrix of the errors is correctly specified.<br\/>[2] The condition number is large, 1.56e+06. This might indicate that there are<br\/>strong multicollinearity or other numerical problems."
            ]
          },
          "metadata":{
            
          },
          "output_type":"display_data"
        }
      ],
      "metadata":{
        
      }
    },
    {
      "cell_type":"code",
      "source":[
        "X_opt =X[:, [0,1,3,4,5]].astype(float)   # on supprime x2 (ville) car p>SL (significant level = 0.5)\n",
        "regressor_OLS = sm.OLS(y,X_opt).fit()     #    p>SL (0.953 > 0.05)\n",
        "regressor_OLS.summary()"
      ],
      "execution_count":225,
      "outputs":[
        {
          "data":{
            "text\/html":[
              "<table class=\"simpletable\">\n",
              "<caption>OLS Regression Results<\/caption>\n",
              "<tr>\n",
              "  <th>Dep. Variable:<\/th>            <td>y<\/td>        <th>  R-squared:         <\/th> <td>   0.951<\/td>\n",
              "<\/tr>\n",
              "<tr>\n",
              "  <th>Model:<\/th>                   <td>OLS<\/td>       <th>  Adj. R-squared:    <\/th> <td>   0.946<\/td>\n",
              "<\/tr>\n",
              "<tr>\n",
              "  <th>Method:<\/th>             <td>Least Squares<\/td>  <th>  F-statistic:       <\/th> <td>   217.2<\/td>\n",
              "<\/tr>\n",
              "<tr>\n",
              "  <th>Date:<\/th>             <td>Fri, 15 Jan 2021<\/td> <th>  Prob (F-statistic):<\/th> <td>8.50e-29<\/td>\n",
              "<\/tr>\n",
              "<tr>\n",
              "  <th>Time:<\/th>                 <td>17:11:35<\/td>     <th>  Log-Likelihood:    <\/th> <td> -525.38<\/td>\n",
              "<\/tr>\n",
              "<tr>\n",
              "  <th>No. Observations:<\/th>      <td>    50<\/td>      <th>  AIC:               <\/th> <td>   1061.<\/td>\n",
              "<\/tr>\n",
              "<tr>\n",
              "  <th>Df Residuals:<\/th>          <td>    45<\/td>      <th>  BIC:               <\/th> <td>   1070.<\/td>\n",
              "<\/tr>\n",
              "<tr>\n",
              "  <th>Df Model:<\/th>              <td>     4<\/td>      <th>                     <\/th>     <td> <\/td>   \n",
              "<\/tr>\n",
              "<tr>\n",
              "  <th>Covariance Type:<\/th>      <td>nonrobust<\/td>    <th>                     <\/th>     <td> <\/td>   \n",
              "<\/tr>\n",
              "<\/table>\n",
              "<table class=\"simpletable\">\n",
              "<tr>\n",
              "    <td><\/td>       <th>coef<\/th>     <th>std err<\/th>      <th>t<\/th>      <th>P>|t|<\/th>  <th>[0.025<\/th>    <th>0.975]<\/th>  \n",
              "<\/tr>\n",
              "<tr>\n",
              "  <th>const<\/th> <td> 5.018e+04<\/td> <td> 6747.623<\/td> <td>    7.437<\/td> <td> 0.000<\/td> <td> 3.66e+04<\/td> <td> 6.38e+04<\/td>\n",
              "<\/tr>\n",
              "<tr>\n",
              "  <th>x1<\/th>    <td> -136.5042<\/td> <td> 2801.719<\/td> <td>   -0.049<\/td> <td> 0.961<\/td> <td>-5779.456<\/td> <td> 5506.447<\/td>\n",
              "<\/tr>\n",
              "<tr>\n",
              "  <th>x2<\/th>    <td>    0.8059<\/td> <td>    0.046<\/td> <td>   17.571<\/td> <td> 0.000<\/td> <td>    0.714<\/td> <td>    0.898<\/td>\n",
              "<\/tr>\n",
              "<tr>\n",
              "  <th>x3<\/th>    <td>   -0.0269<\/td> <td>    0.052<\/td> <td>   -0.521<\/td> <td> 0.605<\/td> <td>   -0.131<\/td> <td>    0.077<\/td>\n",
              "<\/tr>\n",
              "<tr>\n",
              "  <th>x4<\/th>    <td>    0.0271<\/td> <td>    0.017<\/td> <td>    1.625<\/td> <td> 0.111<\/td> <td>   -0.007<\/td> <td>    0.061<\/td>\n",
              "<\/tr>\n",
              "<\/table>\n",
              "<table class=\"simpletable\">\n",
              "<tr>\n",
              "  <th>Omnibus:<\/th>       <td>14.892<\/td> <th>  Durbin-Watson:     <\/th> <td>   1.284<\/td>\n",
              "<\/tr>\n",
              "<tr>\n",
              "  <th>Prob(Omnibus):<\/th> <td> 0.001<\/td> <th>  Jarque-Bera (JB):  <\/th> <td>  21.665<\/td>\n",
              "<\/tr>\n",
              "<tr>\n",
              "  <th>Skew:<\/th>          <td>-0.949<\/td> <th>  Prob(JB):          <\/th> <td>1.97e-05<\/td>\n",
              "<\/tr>\n",
              "<tr>\n",
              "  <th>Kurtosis:<\/th>      <td> 5.608<\/td> <th>  Cond. No.          <\/th> <td>1.43e+06<\/td>\n",
              "<\/tr>\n",
              "<\/table><br\/><br\/>Notes:<br\/>[1] Standard Errors assume that the covariance matrix of the errors is correctly specified.<br\/>[2] The condition number is large, 1.43e+06. This might indicate that there are<br\/>strong multicollinearity or other numerical problems."
            ]
          },
          "metadata":{
            
          },
          "output_type":"display_data"
        }
      ],
      "metadata":{
        
      }
    },
    {
      "cell_type":"code",
      "source":[
        "X_opt =X[:, [0,3,4,5]].astype(float)   # on supprime x1 (ville) car p>SL (significant level = 0.5)\n",
        "regressor_OLS = sm.OLS(y,X_opt).fit()     #    p>SL (0.943 > 0.05)\n",
        "regressor_OLS.summary()"
      ],
      "execution_count":226,
      "outputs":[
        {
          "data":{
            "text\/html":[
              "<table class=\"simpletable\">\n",
              "<caption>OLS Regression Results<\/caption>\n",
              "<tr>\n",
              "  <th>Dep. Variable:<\/th>            <td>y<\/td>        <th>  R-squared:         <\/th> <td>   0.951<\/td>\n",
              "<\/tr>\n",
              "<tr>\n",
              "  <th>Model:<\/th>                   <td>OLS<\/td>       <th>  Adj. R-squared:    <\/th> <td>   0.948<\/td>\n",
              "<\/tr>\n",
              "<tr>\n",
              "  <th>Method:<\/th>             <td>Least Squares<\/td>  <th>  F-statistic:       <\/th> <td>   296.0<\/td>\n",
              "<\/tr>\n",
              "<tr>\n",
              "  <th>Date:<\/th>             <td>Fri, 15 Jan 2021<\/td> <th>  Prob (F-statistic):<\/th> <td>4.53e-30<\/td>\n",
              "<\/tr>\n",
              "<tr>\n",
              "  <th>Time:<\/th>                 <td>17:12:20<\/td>     <th>  Log-Likelihood:    <\/th> <td> -525.39<\/td>\n",
              "<\/tr>\n",
              "<tr>\n",
              "  <th>No. Observations:<\/th>      <td>    50<\/td>      <th>  AIC:               <\/th> <td>   1059.<\/td>\n",
              "<\/tr>\n",
              "<tr>\n",
              "  <th>Df Residuals:<\/th>          <td>    46<\/td>      <th>  BIC:               <\/th> <td>   1066.<\/td>\n",
              "<\/tr>\n",
              "<tr>\n",
              "  <th>Df Model:<\/th>              <td>     3<\/td>      <th>                     <\/th>     <td> <\/td>   \n",
              "<\/tr>\n",
              "<tr>\n",
              "  <th>Covariance Type:<\/th>      <td>nonrobust<\/td>    <th>                     <\/th>     <td> <\/td>   \n",
              "<\/tr>\n",
              "<\/table>\n",
              "<table class=\"simpletable\">\n",
              "<tr>\n",
              "    <td><\/td>       <th>coef<\/th>     <th>std err<\/th>      <th>t<\/th>      <th>P>|t|<\/th>  <th>[0.025<\/th>    <th>0.975]<\/th>  \n",
              "<\/tr>\n",
              "<tr>\n",
              "  <th>const<\/th> <td> 5.012e+04<\/td> <td> 6572.353<\/td> <td>    7.626<\/td> <td> 0.000<\/td> <td> 3.69e+04<\/td> <td> 6.34e+04<\/td>\n",
              "<\/tr>\n",
              "<tr>\n",
              "  <th>x1<\/th>    <td>    0.8057<\/td> <td>    0.045<\/td> <td>   17.846<\/td> <td> 0.000<\/td> <td>    0.715<\/td> <td>    0.897<\/td>\n",
              "<\/tr>\n",
              "<tr>\n",
              "  <th>x2<\/th>    <td>   -0.0268<\/td> <td>    0.051<\/td> <td>   -0.526<\/td> <td> 0.602<\/td> <td>   -0.130<\/td> <td>    0.076<\/td>\n",
              "<\/tr>\n",
              "<tr>\n",
              "  <th>x3<\/th>    <td>    0.0272<\/td> <td>    0.016<\/td> <td>    1.655<\/td> <td> 0.105<\/td> <td>   -0.006<\/td> <td>    0.060<\/td>\n",
              "<\/tr>\n",
              "<\/table>\n",
              "<table class=\"simpletable\">\n",
              "<tr>\n",
              "  <th>Omnibus:<\/th>       <td>14.838<\/td> <th>  Durbin-Watson:     <\/th> <td>   1.282<\/td>\n",
              "<\/tr>\n",
              "<tr>\n",
              "  <th>Prob(Omnibus):<\/th> <td> 0.001<\/td> <th>  Jarque-Bera (JB):  <\/th> <td>  21.442<\/td>\n",
              "<\/tr>\n",
              "<tr>\n",
              "  <th>Skew:<\/th>          <td>-0.949<\/td> <th>  Prob(JB):          <\/th> <td>2.21e-05<\/td>\n",
              "<\/tr>\n",
              "<tr>\n",
              "  <th>Kurtosis:<\/th>      <td> 5.586<\/td> <th>  Cond. No.          <\/th> <td>1.40e+06<\/td>\n",
              "<\/tr>\n",
              "<\/table><br\/><br\/>Notes:<br\/>[1] Standard Errors assume that the covariance matrix of the errors is correctly specified.<br\/>[2] The condition number is large, 1.4e+06. This might indicate that there are<br\/>strong multicollinearity or other numerical problems."
            ]
          },
          "metadata":{
            
          },
          "output_type":"display_data"
        }
      ],
      "metadata":{
        
      }
    },
    {
      "cell_type":"code",
      "source":[
        "X_opt =X[:, [0,3,5]].astype(float)   # on supprime x4 (administration) car p>SL (significant level = 0.5)\n",
        "regressor_OLS = sm.OLS(y,X_opt).fit()     #    p>SL (0.608 > 0.05)\n",
        "regressor_OLS.summary()"
      ],
      "execution_count":227,
      "outputs":[
        {
          "data":{
            "text\/html":[
              "<table class=\"simpletable\">\n",
              "<caption>OLS Regression Results<\/caption>\n",
              "<tr>\n",
              "  <th>Dep. Variable:<\/th>            <td>y<\/td>        <th>  R-squared:         <\/th> <td>   0.950<\/td>\n",
              "<\/tr>\n",
              "<tr>\n",
              "  <th>Model:<\/th>                   <td>OLS<\/td>       <th>  Adj. R-squared:    <\/th> <td>   0.948<\/td>\n",
              "<\/tr>\n",
              "<tr>\n",
              "  <th>Method:<\/th>             <td>Least Squares<\/td>  <th>  F-statistic:       <\/th> <td>   450.8<\/td>\n",
              "<\/tr>\n",
              "<tr>\n",
              "  <th>Date:<\/th>             <td>Fri, 15 Jan 2021<\/td> <th>  Prob (F-statistic):<\/th> <td>2.16e-31<\/td>\n",
              "<\/tr>\n",
              "<tr>\n",
              "  <th>Time:<\/th>                 <td>17:13:13<\/td>     <th>  Log-Likelihood:    <\/th> <td> -525.54<\/td>\n",
              "<\/tr>\n",
              "<tr>\n",
              "  <th>No. Observations:<\/th>      <td>    50<\/td>      <th>  AIC:               <\/th> <td>   1057.<\/td>\n",
              "<\/tr>\n",
              "<tr>\n",
              "  <th>Df Residuals:<\/th>          <td>    47<\/td>      <th>  BIC:               <\/th> <td>   1063.<\/td>\n",
              "<\/tr>\n",
              "<tr>\n",
              "  <th>Df Model:<\/th>              <td>     2<\/td>      <th>                     <\/th>     <td> <\/td>   \n",
              "<\/tr>\n",
              "<tr>\n",
              "  <th>Covariance Type:<\/th>      <td>nonrobust<\/td>    <th>                     <\/th>     <td> <\/td>   \n",
              "<\/tr>\n",
              "<\/table>\n",
              "<table class=\"simpletable\">\n",
              "<tr>\n",
              "    <td><\/td>       <th>coef<\/th>     <th>std err<\/th>      <th>t<\/th>      <th>P>|t|<\/th>  <th>[0.025<\/th>    <th>0.975]<\/th>  \n",
              "<\/tr>\n",
              "<tr>\n",
              "  <th>const<\/th> <td> 4.698e+04<\/td> <td> 2689.933<\/td> <td>   17.464<\/td> <td> 0.000<\/td> <td> 4.16e+04<\/td> <td> 5.24e+04<\/td>\n",
              "<\/tr>\n",
              "<tr>\n",
              "  <th>x1<\/th>    <td>    0.7966<\/td> <td>    0.041<\/td> <td>   19.266<\/td> <td> 0.000<\/td> <td>    0.713<\/td> <td>    0.880<\/td>\n",
              "<\/tr>\n",
              "<tr>\n",
              "  <th>x2<\/th>    <td>    0.0299<\/td> <td>    0.016<\/td> <td>    1.927<\/td> <td> 0.060<\/td> <td>   -0.001<\/td> <td>    0.061<\/td>\n",
              "<\/tr>\n",
              "<\/table>\n",
              "<table class=\"simpletable\">\n",
              "<tr>\n",
              "  <th>Omnibus:<\/th>       <td>14.677<\/td> <th>  Durbin-Watson:     <\/th> <td>   1.257<\/td>\n",
              "<\/tr>\n",
              "<tr>\n",
              "  <th>Prob(Omnibus):<\/th> <td> 0.001<\/td> <th>  Jarque-Bera (JB):  <\/th> <td>  21.161<\/td>\n",
              "<\/tr>\n",
              "<tr>\n",
              "  <th>Skew:<\/th>          <td>-0.939<\/td> <th>  Prob(JB):          <\/th> <td>2.54e-05<\/td>\n",
              "<\/tr>\n",
              "<tr>\n",
              "  <th>Kurtosis:<\/th>      <td> 5.575<\/td> <th>  Cond. No.          <\/th> <td>5.32e+05<\/td>\n",
              "<\/tr>\n",
              "<\/table><br\/><br\/>Notes:<br\/>[1] Standard Errors assume that the covariance matrix of the errors is correctly specified.<br\/>[2] The condition number is large, 5.32e+05. This might indicate that there are<br\/>strong multicollinearity or other numerical problems."
            ]
          },
          "metadata":{
            
          },
          "output_type":"display_data"
        }
      ],
      "metadata":{
        
      }
    },
    {
      "cell_type":"code",
      "source":[
        "X_opt =X[:, [0,3]].astype(float)   # on supprime x5 (marketing) car p>SL (significant level = 0.5)\n",
        "regressor_OLS = sm.OLS(y,X_opt).fit() #    p>SL (0.06 > 0.05)\n",
        "regressor_OLS.summary()"
      ],
      "execution_count":228,
      "outputs":[
        {
          "data":{
            "text\/html":[
              "<table class=\"simpletable\">\n",
              "<caption>OLS Regression Results<\/caption>\n",
              "<tr>\n",
              "  <th>Dep. Variable:<\/th>            <td>y<\/td>        <th>  R-squared:         <\/th> <td>   0.947<\/td>\n",
              "<\/tr>\n",
              "<tr>\n",
              "  <th>Model:<\/th>                   <td>OLS<\/td>       <th>  Adj. R-squared:    <\/th> <td>   0.945<\/td>\n",
              "<\/tr>\n",
              "<tr>\n",
              "  <th>Method:<\/th>             <td>Least Squares<\/td>  <th>  F-statistic:       <\/th> <td>   849.8<\/td>\n",
              "<\/tr>\n",
              "<tr>\n",
              "  <th>Date:<\/th>             <td>Fri, 15 Jan 2021<\/td> <th>  Prob (F-statistic):<\/th> <td>3.50e-32<\/td>\n",
              "<\/tr>\n",
              "<tr>\n",
              "  <th>Time:<\/th>                 <td>17:14:47<\/td>     <th>  Log-Likelihood:    <\/th> <td> -527.44<\/td>\n",
              "<\/tr>\n",
              "<tr>\n",
              "  <th>No. Observations:<\/th>      <td>    50<\/td>      <th>  AIC:               <\/th> <td>   1059.<\/td>\n",
              "<\/tr>\n",
              "<tr>\n",
              "  <th>Df Residuals:<\/th>          <td>    48<\/td>      <th>  BIC:               <\/th> <td>   1063.<\/td>\n",
              "<\/tr>\n",
              "<tr>\n",
              "  <th>Df Model:<\/th>              <td>     1<\/td>      <th>                     <\/th>     <td> <\/td>   \n",
              "<\/tr>\n",
              "<tr>\n",
              "  <th>Covariance Type:<\/th>      <td>nonrobust<\/td>    <th>                     <\/th>     <td> <\/td>   \n",
              "<\/tr>\n",
              "<\/table>\n",
              "<table class=\"simpletable\">\n",
              "<tr>\n",
              "    <td><\/td>       <th>coef<\/th>     <th>std err<\/th>      <th>t<\/th>      <th>P>|t|<\/th>  <th>[0.025<\/th>    <th>0.975]<\/th>  \n",
              "<\/tr>\n",
              "<tr>\n",
              "  <th>const<\/th> <td> 4.903e+04<\/td> <td> 2537.897<\/td> <td>   19.320<\/td> <td> 0.000<\/td> <td> 4.39e+04<\/td> <td> 5.41e+04<\/td>\n",
              "<\/tr>\n",
              "<tr>\n",
              "  <th>x1<\/th>    <td>    0.8543<\/td> <td>    0.029<\/td> <td>   29.151<\/td> <td> 0.000<\/td> <td>    0.795<\/td> <td>    0.913<\/td>\n",
              "<\/tr>\n",
              "<\/table>\n",
              "<table class=\"simpletable\">\n",
              "<tr>\n",
              "  <th>Omnibus:<\/th>       <td>13.727<\/td> <th>  Durbin-Watson:     <\/th> <td>   1.116<\/td>\n",
              "<\/tr>\n",
              "<tr>\n",
              "  <th>Prob(Omnibus):<\/th> <td> 0.001<\/td> <th>  Jarque-Bera (JB):  <\/th> <td>  18.536<\/td>\n",
              "<\/tr>\n",
              "<tr>\n",
              "  <th>Skew:<\/th>          <td>-0.911<\/td> <th>  Prob(JB):          <\/th> <td>9.44e-05<\/td>\n",
              "<\/tr>\n",
              "<tr>\n",
              "  <th>Kurtosis:<\/th>      <td> 5.361<\/td> <th>  Cond. No.          <\/th> <td>1.65e+05<\/td>\n",
              "<\/tr>\n",
              "<\/table><br\/><br\/>Notes:<br\/>[1] Standard Errors assume that the covariance matrix of the errors is correctly specified.<br\/>[2] The condition number is large, 1.65e+05. This might indicate that there are<br\/>strong multicollinearity or other numerical problems."
            ]
          },
          "metadata":{
            
          },
          "output_type":"display_data"
        }
      ],
      "metadata":{
        
      }
    },
    {
      "cell_type":"markdown",
      "source":[
        "# 5. Application du modèle optimal de Régression Linéaire"
      ],
      "metadata":{
        
      }
    },
    {
      "cell_type":"code",
      "source":[
        "#On extrait nos variables dépendantes et indépendantes\n",
        "x_BE= df.iloc[:,[0]].values  \n",
        "y_BE= df.iloc[:, -1].values  "
      ],
      "execution_count":229,
      "outputs":[
        
      ],
      "metadata":{
        
      }
    },
    {
      "cell_type":"code",
      "source":[
        "x_BE_train, x_BE_test, y_BE_train, y_BE_test= train_test_split(x_BE, y_BE, test_size= 0.20, random_state=0)  "
      ],
      "execution_count":230,
      "outputs":[
        
      ],
      "metadata":{
        
      }
    },
    {
      "cell_type":"code",
      "source":[
        "#nouvelle régression\n",
        "regressor= LinearRegression()  \n",
        "regressor.fit(np.array(x_BE_train).reshape(-1,1), y_BE_train)  "
      ],
      "execution_count":231,
      "outputs":[
        {
          "data":{
            "text\/plain":[
              "LinearRegression()"
            ]
          },
          "metadata":{
            
          },
          "output_type":"display_data"
        }
      ],
      "metadata":{
        
      }
    },
    {
      "cell_type":"code",
      "source":[
        "#nouveau prédicteur\n",
        "y_pred= regressor.predict(x_BE_test)  "
      ],
      "execution_count":232,
      "outputs":[
        
      ],
      "metadata":{
        
      }
    },
    {
      "cell_type":"code",
      "source":[
        "#on compare à nouveau le Profit réel vs le Profit prédit\n",
        "for i,j in np.nditer((y_BE_test,y_pred)):\n",
        "    print(i,\"   -->   \", j)"
      ],
      "execution_count":233,
      "outputs":[
        {
          "name":"stdout",
          "text":[
            "103282.38    -->    104667.27805997859\n",
            "144259.4    -->    134150.8341057847\n",
            "146121.95    -->    135207.80019516923\n",
            "77798.83    -->    72170.54428855634\n",
            "191050.39    -->    179090.58602508352\n",
            "105008.31    -->    109824.77386586336\n",
            "81229.06    -->    65644.27773756774\n",
            "97483.56    -->    100481.43277138655\n",
            "110352.25    -->    111431.75202432103\n",
            "166187.94    -->    169438.148435391\n"
          ],
          "output_type":"stream"
        }
      ],
      "metadata":{
        
      }
    },
    {
      "cell_type":"markdown",
      "source":[
        "Si l'on remonte plus haut, pour comparer avec notre ancien modèle... on s'est pas mal amélioré dans la prédiction !\n",
        "Passons à la visualisation"
      ],
      "metadata":{
        
      }
    },
    {
      "cell_type":"markdown",
      "source":[
        "# 6. Visualisation"
      ],
      "metadata":{
        
      }
    },
    {
      "cell_type":"markdown",
      "source":[
        "## 6.1 R&D -- Profit"
      ],
      "metadata":{
        
      }
    },
    {
      "cell_type":"markdown",
      "source":[
        "Maintenant que l'on sait que notre modèle est plus performant en utilisant uniquement la variable \"R&D\" on peut visualiser la relation R&D \/ Profit"
      ],
      "metadata":{
        
      }
    },
    {
      "cell_type":"code",
      "source":[
        "plt.plot(dataset.iloc[:,0], dataset.iloc[:, 4], color = 'green')\n",
        "plt.xlabel('Dépense R&D')\n",
        "plt.ylabel('Profits')\n",
        "plt.title('Relation des dépenses R&D et Profit généré')\n",
        "plt.grid()"
      ],
      "execution_count":234,
      "outputs":[
        {
          "data":{
            "image\/png":"[encoded data removed]"
          },
          "metadata":{
            "image\/png":{
              "width":0,
              "height":0
            }
          },
          "output_type":"display_data"
        }
      ],
      "metadata":{
        
      }
    },
    {
      "cell_type":"markdown",
      "source":[
        "## 6.2 Résultats du Train sample "
      ],
      "metadata":{
        
      }
    },
    {
      "cell_type":"code",
      "source":[
        "plt.scatter(x_BE_train, y_BE_train, color = 'purple')\n",
        "plt.plot(x_BE_train, regressor.predict(x_BE_train), color = 'hotpink')\n",
        "plt.title('R&D vs Profit généré (Training set)')\n",
        "plt.xlabel('Dépenses R&D')\n",
        "plt.ylabel('Profit')\n",
        "plt.grid(color='pink', linestyle='-.', linewidth=0.7)\n",
        "plt.show()"
      ],
      "execution_count":240,
      "outputs":[
        {
          "data":{
            "image\/png":"[encoded data removed]"
          },
          "metadata":{
            "image\/png":{
              "width":0,
              "height":0
            }
          },
          "output_type":"display_data"
        }
      ],
      "metadata":{
        
      }
    },
    {
      "cell_type":"markdown",
      "source":[
        "## 6.3 Résultats du Train sample "
      ],
      "metadata":{
        
      }
    },
    {
      "cell_type":"code",
      "source":[
        "plt.scatter(x_BE_test, y_BE_test, color = 'purple')\n",
        "plt.plot(x_BE_test, regressor.predict(x_BE_test), color = 'hotpink')\n",
        "plt.title('R&D spend vs Profit (Test set)')\n",
        "plt.xlabel('R&D spend')\n",
        "plt.ylabel('Profit')\n",
        "plt.grid(color = 'pink', linestyle='-.', linewidth=0.7)\n",
        "plt.show()"
      ],
      "execution_count":242,
      "outputs":[
        {
          "data":{
            "image\/png":"[encoded data removed]"
          },
          "metadata":{
            "image\/png":{
              "width":0,
              "height":0
            }
          },
          "output_type":"display_data"
        }
      ],
      "metadata":{
        
      }
    },
    {
      "cell_type":"markdown",
      "source":[
        "# 7. Analyse"
      ],
      "metadata":{
        
      }
    },
    {
      "cell_type":"markdown",
      "source":[
        "## 7.1 Top 5"
      ],
      "metadata":{
        
      }
    },
    {
      "cell_type":"markdown",
      "source":[
        "La problématique de ce jeu de donnée posée par le client demande de repérer les 5 startups les plus prometteuses.\n",
        "Nous avons à notre disposition : \n",
        "Une relation démontrée entre les dépenses R&D et le Profit généré\n",
        "Un modèle de données optimisé permettant de prédire la variable dépendante \"Profit\"\n",
        "\n",
        "Comment identifier à partir de là, 5 startups qui seraient plus prometteuse que les autres ?\n",
        "Il suffit d'établir un ratio entre R&D et Profit"
      ],
      "metadata":{
        
      }
    },
    {
      "cell_type":"code",
      "source":[
        "#on reprend notre DF de base, contenant les données initiales\n",
        "sub_df = df.copy()\n",
        "\n",
        "#ligne\n",
        "for i in range(len(df[[\"R&D\"]])):\n",
        "    \n",
        "    liste = []\n",
        "    \n",
        "#colonne\n",
        "    for y in range(len(df[[\"R&D\"]].columns)):\n",
        "        \n",
        "        liste.append(df[[\"R&D\"]].loc[i,df[[\"R&D\"]].columns[y]])\n",
        "\n",
        "    sub_df.loc[i,\"prediction\"] = regressor.predict([liste])\n",
        "\n",
        "sub_df[\"RATIO\"] = sub_df[\"Profit\"]*100 \/ sub_df[\"prediction\"]\n",
        "\n",
        "df_top5 = sub_df[[\"Profit\",\"prediction\",\"RATIO\"]].sort_values(by=\"RATIO\",ascending=False).head(5)\n",
        "df_bot5 = sub_df[[\"Profit\",\"prediction\",\"RATIO\"]].sort_values(by=\"RATIO\",ascending=False).tail(5)\n",
        "\n",
        "\n",
        "df_RaiseUnicornes = sub_df[[\"Profit\",\"prediction\",\"RATIO\"]]"
      ],
      "execution_count":254,
      "outputs":[
        
      ],
      "metadata":{
        
      }
    },
    {
      "cell_type":"code",
      "source":[
        "df_top5"
      ],
      "execution_count":251,
      "outputs":[
        {
          "data":{
            "text\/html":[
              "<div>\n",
              "<style scoped>\n",
              "    .dataframe tbody tr th:only-of-type {\n",
              "        vertical-align: middle;\n",
              "    }\n",
              "\n",
              "    .dataframe tbody tr th {\n",
              "        vertical-align: top;\n",
              "    }\n",
              "\n",
              "    .dataframe thead th {\n",
              "        text-align: right;\n",
              "    }\n",
              "<\/style>\n",
              "<table border=\"1\" class=\"dataframe\">\n",
              "  <thead>\n",
              "    <tr style=\"text-align: right;\">\n",
              "      <th><\/th>\n",
              "      <th>Profit<\/th>\n",
              "      <th>prediction<\/th>\n",
              "      <th>RATIO<\/th>\n",
              "    <\/tr>\n",
              "  <\/thead>\n",
              "  <tbody>\n",
              "    <tr>\n",
              "      <th>45<\/th>\n",
              "      <td>64926.08<\/td>\n",
              "      <td>49268.116335<\/td>\n",
              "      <td>131.781129<\/td>\n",
              "    <\/tr>\n",
              "    <tr>\n",
              "      <th>36<\/th>\n",
              "      <td>90708.19<\/td>\n",
              "      <td>72827.009208<\/td>\n",
              "      <td>124.552952<\/td>\n",
              "    <\/tr>\n",
              "    <tr>\n",
              "      <th>38<\/th>\n",
              "      <td>81229.06<\/td>\n",
              "      <td>65644.277738<\/td>\n",
              "      <td>123.741265<\/td>\n",
              "    <\/tr>\n",
              "    <tr>\n",
              "      <th>43<\/th>\n",
              "      <td>69758.98<\/td>\n",
              "      <td>61621.330858<\/td>\n",
              "      <td>113.205896<\/td>\n",
              "    <\/tr>\n",
              "    <tr>\n",
              "      <th>16<\/th>\n",
              "      <td>126992.93<\/td>\n",
              "      <td>114854.040827<\/td>\n",
              "      <td>110.568970<\/td>\n",
              "    <\/tr>\n",
              "  <\/tbody>\n",
              "<\/table>\n",
              "<\/div>"
            ]
          },
          "metadata":{
            
          },
          "output_type":"display_data"
        }
      ],
      "metadata":{
        
      }
    },
    {
      "cell_type":"code",
      "source":[
        "df_bot5"
      ],
      "execution_count":253,
      "outputs":[
        {
          "data":{
            "text\/html":[
              "<div>\n",
              "<style scoped>\n",
              "    .dataframe tbody tr th:only-of-type {\n",
              "        vertical-align: middle;\n",
              "    }\n",
              "\n",
              "    .dataframe tbody tr th {\n",
              "        vertical-align: top;\n",
              "    }\n",
              "\n",
              "    .dataframe thead th {\n",
              "        text-align: right;\n",
              "    }\n",
              "<\/style>\n",
              "<table border=\"1\" class=\"dataframe\">\n",
              "  <thead>\n",
              "    <tr style=\"text-align: right;\">\n",
              "      <th><\/th>\n",
              "      <th>Profit<\/th>\n",
              "      <th>prediction<\/th>\n",
              "      <th>RATIO<\/th>\n",
              "    <\/tr>\n",
              "  <\/thead>\n",
              "  <tbody>\n",
              "    <tr>\n",
              "      <th>15<\/th>\n",
              "      <td>129917.04<\/td>\n",
              "      <td>145947.215062<\/td>\n",
              "      <td>89.016457<\/td>\n",
              "    <\/tr>\n",
              "    <tr>\n",
              "      <th>14<\/th>\n",
              "      <td>132602.65<\/td>\n",
              "      <td>150562.695537<\/td>\n",
              "      <td>88.071384<\/td>\n",
              "    <\/tr>\n",
              "    <tr>\n",
              "      <th>47<\/th>\n",
              "      <td>42559.73<\/td>\n",
              "      <td>48416.297661<\/td>\n",
              "      <td>87.903727<\/td>\n",
              "    <\/tr>\n",
              "    <tr>\n",
              "      <th>48<\/th>\n",
              "      <td>35673.41<\/td>\n",
              "      <td>48877.919800<\/td>\n",
              "      <td>72.984714<\/td>\n",
              "    <\/tr>\n",
              "    <tr>\n",
              "      <th>49<\/th>\n",
              "      <td>14681.40<\/td>\n",
              "      <td>48416.297661<\/td>\n",
              "      <td>30.323260<\/td>\n",
              "    <\/tr>\n",
              "  <\/tbody>\n",
              "<\/table>\n",
              "<\/div>"
            ]
          },
          "metadata":{
            
          },
          "output_type":"display_data"
        }
      ],
      "metadata":{
        
      }
    },
    {
      "cell_type":"code",
      "source":[
        "df_RaiseUnicornes"
      ],
      "execution_count":255,
      "outputs":[
        {
          "data":{
            "text\/html":[
              "<div>\n",
              "<style scoped>\n",
              "    .dataframe tbody tr th:only-of-type {\n",
              "        vertical-align: middle;\n",
              "    }\n",
              "\n",
              "    .dataframe tbody tr th {\n",
              "        vertical-align: top;\n",
              "    }\n",
              "\n",
              "    .dataframe thead th {\n",
              "        text-align: right;\n",
              "    }\n",
              "<\/style>\n",
              "<table border=\"1\" class=\"dataframe\">\n",
              "  <thead>\n",
              "    <tr style=\"text-align: right;\">\n",
              "      <th><\/th>\n",
              "      <th>Profit<\/th>\n",
              "      <th>prediction<\/th>\n",
              "      <th>RATIO<\/th>\n",
              "    <\/tr>\n",
              "  <\/thead>\n",
              "  <tbody>\n",
              "    <tr>\n",
              "      <th>0<\/th>\n",
              "      <td>192261.83<\/td>\n",
              "      <td>189231.446323<\/td>\n",
              "      <td>101.601417<\/td>\n",
              "    <\/tr>\n",
              "    <tr>\n",
              "      <th>1<\/th>\n",
              "      <td>191792.06<\/td>\n",
              "      <td>186888.206189<\/td>\n",
              "      <td>102.623950<\/td>\n",
              "    <\/tr>\n",
              "    <tr>\n",
              "      <th>2<\/th>\n",
              "      <td>191050.39<\/td>\n",
              "      <td>179090.586025<\/td>\n",
              "      <td>106.678075<\/td>\n",
              "    <\/tr>\n",
              "    <tr>\n",
              "      <th>3<\/th>\n",
              "      <td>182901.99<\/td>\n",
              "      <td>171367.133691<\/td>\n",
              "      <td>106.731079<\/td>\n",
              "    <\/tr>\n",
              "    <tr>\n",
              "      <th>4<\/th>\n",
              "      <td>166187.94<\/td>\n",
              "      <td>169438.148435<\/td>\n",
              "      <td>98.081773<\/td>\n",
              "    <\/tr>\n",
              "    <tr>\n",
              "      <th>5<\/th>\n",
              "      <td>156991.12<\/td>\n",
              "      <td>160725.672479<\/td>\n",
              "      <td>97.676443<\/td>\n",
              "    <\/tr>\n",
              "    <tr>\n",
              "      <th>6<\/th>\n",
              "      <td>156122.51<\/td>\n",
              "      <td>163057.892613<\/td>\n",
              "      <td>95.746675<\/td>\n",
              "    <\/tr>\n",
              "    <tr>\n",
              "      <th>7<\/th>\n",
              "      <td>155752.60<\/td>\n",
              "      <td>159381.155951<\/td>\n",
              "      <td>97.723347<\/td>\n",
              "    <\/tr>\n",
              "    <tr>\n",
              "      <th>8<\/th>\n",
              "      <td>152211.77<\/td>\n",
              "      <td>151073.056048<\/td>\n",
              "      <td>100.753751<\/td>\n",
              "    <\/tr>\n",
              "    <tr>\n",
              "      <th>9<\/th>\n",
              "      <td>149759.96<\/td>\n",
              "      <td>153451.093490<\/td>\n",
              "      <td>97.594586<\/td>\n",
              "    <\/tr>\n",
              "    <tr>\n",
              "      <th>10<\/th>\n",
              "      <td>146121.95<\/td>\n",
              "      <td>135207.800195<\/td>\n",
              "      <td>108.072130<\/td>\n",
              "    <\/tr>\n",
              "    <tr>\n",
              "      <th>11<\/th>\n",
              "      <td>144259.40<\/td>\n",
              "      <td>134150.834106<\/td>\n",
              "      <td>107.535224<\/td>\n",
              "    <\/tr>\n",
              "    <tr>\n",
              "      <th>12<\/th>\n",
              "      <td>141585.52<\/td>\n",
              "      <td>128352.807243<\/td>\n",
              "      <td>110.309640<\/td>\n",
              "    <\/tr>\n",
              "    <tr>\n",
              "      <th>13<\/th>\n",
              "      <td>134307.35<\/td>\n",
              "      <td>126759.114401<\/td>\n",
              "      <td>105.954787<\/td>\n",
              "    <\/tr>\n",
              "    <tr>\n",
              "      <th>14<\/th>\n",
              "      <td>132602.65<\/td>\n",
              "      <td>150562.695537<\/td>\n",
              "      <td>88.071384<\/td>\n",
              "    <\/tr>\n",
              "    <tr>\n",
              "      <th>15<\/th>\n",
              "      <td>129917.04<\/td>\n",
              "      <td>145947.215062<\/td>\n",
              "      <td>89.016457<\/td>\n",
              "    <\/tr>\n",
              "    <tr>\n",
              "      <th>16<\/th>\n",
              "      <td>126992.93<\/td>\n",
              "      <td>114854.040827<\/td>\n",
              "      <td>110.568970<\/td>\n",
              "    <\/tr>\n",
              "    <tr>\n",
              "      <th>17<\/th>\n",
              "      <td>125370.37<\/td>\n",
              "      <td>129028.493289<\/td>\n",
              "      <td>97.164872<\/td>\n",
              "    <\/tr>\n",
              "    <tr>\n",
              "      <th>18<\/th>\n",
              "      <td>124266.90<\/td>\n",
              "      <td>126551.974187<\/td>\n",
              "      <td>98.194359<\/td>\n",
              "    <\/tr>\n",
              "    <tr>\n",
              "      <th>19<\/th>\n",
              "      <td>122776.86<\/td>\n",
              "      <td>122013.284540<\/td>\n",
              "      <td>100.625813<\/td>\n",
              "    <\/tr>\n",
              "    <tr>\n",
              "      <th>20<\/th>\n",
              "      <td>118474.03<\/td>\n",
              "      <td>113355.823416<\/td>\n",
              "      <td>104.515169<\/td>\n",
              "    <\/tr>\n",
              "    <tr>\n",
              "      <th>21<\/th>\n",
              "      <td>111313.02<\/td>\n",
              "      <td>115174.557584<\/td>\n",
              "      <td>96.647230<\/td>\n",
              "    <\/tr>\n",
              "    <tr>\n",
              "      <th>22<\/th>\n",
              "      <td>110352.25<\/td>\n",
              "      <td>111431.752024<\/td>\n",
              "      <td>99.031244<\/td>\n",
              "    <\/tr>\n",
              "    <tr>\n",
              "      <th>23<\/th>\n",
              "      <td>108733.99<\/td>\n",
              "      <td>105928.539943<\/td>\n",
              "      <td>102.648436<\/td>\n",
              "    <\/tr>\n",
              "    <tr>\n",
              "      <th>24<\/th>\n",
              "      <td>108552.04<\/td>\n",
              "      <td>114028.733171<\/td>\n",
              "      <td>95.197094<\/td>\n",
              "    <\/tr>\n",
              "    <tr>\n",
              "      <th>25<\/th>\n",
              "      <td>107404.34<\/td>\n",
              "      <td>103486.239045<\/td>\n",
              "      <td>103.786108<\/td>\n",
              "    <\/tr>\n",
              "    <tr>\n",
              "      <th>26<\/th>\n",
              "      <td>105733.54<\/td>\n",
              "      <td>112568.080842<\/td>\n",
              "      <td>93.928527<\/td>\n",
              "    <\/tr>\n",
              "    <tr>\n",
              "      <th>27<\/th>\n",
              "      <td>105008.31<\/td>\n",
              "      <td>109824.773866<\/td>\n",
              "      <td>95.614410<\/td>\n",
              "    <\/tr>\n",
              "    <tr>\n",
              "      <th>28<\/th>\n",
              "      <td>103282.38<\/td>\n",
              "      <td>104667.278060<\/td>\n",
              "      <td>98.676857<\/td>\n",
              "    <\/tr>\n",
              "    <tr>\n",
              "      <th>29<\/th>\n",
              "      <td>101004.64<\/td>\n",
              "      <td>104287.420226<\/td>\n",
              "      <td>96.852180<\/td>\n",
              "    <\/tr>\n",
              "    <tr>\n",
              "      <th>30<\/th>\n",
              "      <td>99937.59<\/td>\n",
              "      <td>101212.210296<\/td>\n",
              "      <td>98.740646<\/td>\n",
              "    <\/tr>\n",
              "    <tr>\n",
              "      <th>31<\/th>\n",
              "      <td>97483.56<\/td>\n",
              "      <td>100481.432771<\/td>\n",
              "      <td>97.016491<\/td>\n",
              "    <\/tr>\n",
              "    <tr>\n",
              "      <th>32<\/th>\n",
              "      <td>97427.84<\/td>\n",
              "      <td>102416.728552<\/td>\n",
              "      <td>95.128834<\/td>\n",
              "    <\/tr>\n",
              "    <tr>\n",
              "      <th>33<\/th>\n",
              "      <td>96778.92<\/td>\n",
              "      <td>95676.210737<\/td>\n",
              "      <td>101.152543<\/td>\n",
              "    <\/tr>\n",
              "    <tr>\n",
              "      <th>34<\/th>\n",
              "      <td>96712.80<\/td>\n",
              "      <td>87953.797382<\/td>\n",
              "      <td>109.958641<\/td>\n",
              "    <\/tr>\n",
              "    <tr>\n",
              "      <th>35<\/th>\n",
              "      <td>96479.51<\/td>\n",
              "      <td>87602.886207<\/td>\n",
              "      <td>110.132798<\/td>\n",
              "    <\/tr>\n",
              "    <tr>\n",
              "      <th>36<\/th>\n",
              "      <td>90708.19<\/td>\n",
              "      <td>72827.009208<\/td>\n",
              "      <td>124.552952<\/td>\n",
              "    <\/tr>\n",
              "    <tr>\n",
              "      <th>37<\/th>\n",
              "      <td>89949.14<\/td>\n",
              "      <td>85947.271871<\/td>\n",
              "      <td>104.656190<\/td>\n",
              "    <\/tr>\n",
              "    <tr>\n",
              "      <th>38<\/th>\n",
              "      <td>81229.06<\/td>\n",
              "      <td>65644.277738<\/td>\n",
              "      <td>123.741265<\/td>\n",
              "    <\/tr>\n",
              "    <tr>\n",
              "      <th>39<\/th>\n",
              "      <td>81005.76<\/td>\n",
              "      <td>81253.603907<\/td>\n",
              "      <td>99.694975<\/td>\n",
              "    <\/tr>\n",
              "    <tr>\n",
              "      <th>40<\/th>\n",
              "      <td>78239.91<\/td>\n",
              "      <td>72904.140685<\/td>\n",
              "      <td>107.318884<\/td>\n",
              "    <\/tr>\n",
              "    <tr>\n",
              "      <th>41<\/th>\n",
              "      <td>77798.83<\/td>\n",
              "      <td>72170.544289<\/td>\n",
              "      <td>107.798591<\/td>\n",
              "    <\/tr>\n",
              "    <tr>\n",
              "      <th>42<\/th>\n",
              "      <td>71498.49<\/td>\n",
              "      <td>68549.452660<\/td>\n",
              "      <td>104.302058<\/td>\n",
              "    <\/tr>\n",
              "    <tr>\n",
              "      <th>43<\/th>\n",
              "      <td>69758.98<\/td>\n",
              "      <td>61621.330858<\/td>\n",
              "      <td>113.205896<\/td>\n",
              "    <\/tr>\n",
              "    <tr>\n",
              "      <th>44<\/th>\n",
              "      <td>65200.33<\/td>\n",
              "      <td>67303.366695<\/td>\n",
              "      <td>96.875288<\/td>\n",
              "    <\/tr>\n",
              "    <tr>\n",
              "      <th>45<\/th>\n",
              "      <td>64926.08<\/td>\n",
              "      <td>49268.116335<\/td>\n",
              "      <td>131.781129<\/td>\n",
              "    <\/tr>\n",
              "    <tr>\n",
              "      <th>46<\/th>\n",
              "      <td>49490.75<\/td>\n",
              "      <td>49536.573390<\/td>\n",
              "      <td>99.907496<\/td>\n",
              "    <\/tr>\n",
              "    <tr>\n",
              "      <th>47<\/th>\n",
              "      <td>42559.73<\/td>\n",
              "      <td>48416.297661<\/td>\n",
              "      <td>87.903727<\/td>\n",
              "    <\/tr>\n",
              "    <tr>\n",
              "      <th>48<\/th>\n",
              "      <td>35673.41<\/td>\n",
              "      <td>48877.919800<\/td>\n",
              "      <td>72.984714<\/td>\n",
              "    <\/tr>\n",
              "    <tr>\n",
              "      <th>49<\/th>\n",
              "      <td>14681.40<\/td>\n",
              "      <td>48416.297661<\/td>\n",
              "      <td>30.323260<\/td>\n",
              "    <\/tr>\n",
              "  <\/tbody>\n",
              "<\/table>\n",
              "<\/div>"
            ]
          },
          "metadata":{
            
          },
          "output_type":"display_data"
        }
      ],
      "metadata":{
        
      }
    },
    {
      "cell_type":"code",
      "source":[
        "df_RaiseUnicornes.describe()"
      ],
      "execution_count":257,
      "outputs":[
        {
          "data":{
            "text\/html":[
              "<div>\n",
              "<style scoped>\n",
              "    .dataframe tbody tr th:only-of-type {\n",
              "        vertical-align: middle;\n",
              "    }\n",
              "\n",
              "    .dataframe tbody tr th {\n",
              "        vertical-align: top;\n",
              "    }\n",
              "\n",
              "    .dataframe thead th {\n",
              "        text-align: right;\n",
              "    }\n",
              "<\/style>\n",
              "<table border=\"1\" class=\"dataframe\">\n",
              "  <thead>\n",
              "    <tr style=\"text-align: right;\">\n",
              "      <th><\/th>\n",
              "      <th>Profit<\/th>\n",
              "      <th>prediction<\/th>\n",
              "      <th>RATIO<\/th>\n",
              "    <\/tr>\n",
              "  <\/thead>\n",
              "  <tbody>\n",
              "    <tr>\n",
              "      <th>count<\/th>\n",
              "      <td>50.000000<\/td>\n",
              "      <td>50.000000<\/td>\n",
              "      <td>50.000000<\/td>\n",
              "    <\/tr>\n",
              "    <tr>\n",
              "      <th>mean<\/th>\n",
              "      <td>112012.639200<\/td>\n",
              "      <td>111199.306350<\/td>\n",
              "      <td>100.495967<\/td>\n",
              "    <\/tr>\n",
              "    <tr>\n",
              "      <th>std<\/th>\n",
              "      <td>40306.180338<\/td>\n",
              "      <td>39091.408186<\/td>\n",
              "      <td>13.853655<\/td>\n",
              "    <\/tr>\n",
              "    <tr>\n",
              "      <th>min<\/th>\n",
              "      <td>14681.400000<\/td>\n",
              "      <td>48416.297661<\/td>\n",
              "      <td>30.323260<\/td>\n",
              "    <\/tr>\n",
              "    <tr>\n",
              "      <th>25%<\/th>\n",
              "      <td>90138.902500<\/td>\n",
              "      <td>82427.020898<\/td>\n",
              "      <td>96.910588<\/td>\n",
              "    <\/tr>\n",
              "    <tr>\n",
              "      <th>50%<\/th>\n",
              "      <td>107978.190000<\/td>\n",
              "      <td>110628.262945<\/td>\n",
              "      <td>100.266655<\/td>\n",
              "    <\/tr>\n",
              "    <tr>\n",
              "      <th>75%<\/th>\n",
              "      <td>139765.977500<\/td>\n",
              "      <td>134943.558673<\/td>\n",
              "      <td>106.717828<\/td>\n",
              "    <\/tr>\n",
              "    <tr>\n",
              "      <th>max<\/th>\n",
              "      <td>192261.830000<\/td>\n",
              "      <td>189231.446323<\/td>\n",
              "      <td>131.781129<\/td>\n",
              "    <\/tr>\n",
              "  <\/tbody>\n",
              "<\/table>\n",
              "<\/div>"
            ]
          },
          "metadata":{
            
          },
          "output_type":"display_data"
        }
      ],
      "metadata":{
        
      }
    },
    {
      "cell_type":"code",
      "source":[
        
      ],
      "execution_count":null,
      "outputs":[
        
      ],
      "metadata":{
        
      }
    }
  ],
  "metadata":{
    
  },
  "nbformat":4,
  "nbformat_minor":0
}